{
  "nbformat": 4,
  "nbformat_minor": 0,
  "metadata": {
    "colab": {
      "provenance": [],
      "mount_file_id": "1oUOjCiksB5MRanxNWQr79C6SMnlQz0wy",
      "authorship_tag": "ABX9TyO51emJG/+a7RIqWSyAXFUO"
    },
    "kernelspec": {
      "name": "python3",
      "display_name": "Python 3"
    },
    "language_info": {
      "name": "python"
    }
  },
  "cells": [
    {
      "cell_type": "markdown",
      "source": [
        "## Загрузка и предобработка файла"
      ],
      "metadata": {
        "id": "mJeJgoTXpCwd"
      }
    },
    {
      "cell_type": "code",
      "execution_count": 1,
      "metadata": {
        "id": "Az1XTdd5oX9m"
      },
      "outputs": [],
      "source": [
        "import pandas as pd"
      ]
    },
    {
      "cell_type": "markdown",
      "source": [
        "https://drive.google.com/file/d/1hAgbwKURl8yLgMDiTrB-T_V5tg3SqQTn/view?usp=sharing"
      ],
      "metadata": {
        "id": "AOIUS4wGtnHl"
      }
    },
    {
      "cell_type": "code",
      "source": [
        "! gdown --id 1hAgbwKURl8yLgMDiTrB-T_V5tg3SqQTn\n"
      ],
      "metadata": {
        "colab": {
          "base_uri": "https://localhost:8080/"
        },
        "id": "v77rw0muofCt",
        "outputId": "0a57487f-1a6f-43f7-f657-e259c6c41ce9"
      },
      "execution_count": 2,
      "outputs": [
        {
          "output_type": "stream",
          "name": "stdout",
          "text": [
            "/usr/local/lib/python3.7/dist-packages/gdown/cli.py:131: FutureWarning: Option `--id` was deprecated in version 4.3.1 and will be removed in 5.0. You don't need to pass it anymore to use a file ID.\n",
            "  category=FutureWarning,\n",
            "Downloading...\n",
            "From: https://drive.google.com/uc?id=1hAgbwKURl8yLgMDiTrB-T_V5tg3SqQTn\n",
            "To: /content/per_lob.csv\n",
            "100% 38.8k/38.8k [00:00<00:00, 44.0MB/s]\n"
          ]
        }
      ]
    },
    {
      "cell_type": "code",
      "source": [
        "df = pd.read_csv('/content/per_lob.csv', sep=';')"
      ],
      "metadata": {
        "id": "0Y_r_Wjjorti"
      },
      "execution_count": 4,
      "outputs": []
    },
    {
      "cell_type": "code",
      "source": [
        "df.head()"
      ],
      "metadata": {
        "id": "f1pSXc18pTEJ",
        "colab": {
          "base_uri": "https://localhost:8080/",
          "height": 206
        },
        "outputId": "96a1385b-69f4-42bf-ed9a-80038173004d"
      },
      "execution_count": 5,
      "outputs": [
        {
          "output_type": "execute_result",
          "data": {
            "text/plain": [
              "  number                         type  tree  bush diameter   height  \\\n",
              "0      1  клен ясенелистный (поросль)   NaN   2.0      NaN  1,5-1,9   \n",
              "1      2  клен ясенелистный (поросль)   NaN   1.0      NaN      1,8   \n",
              "2      3                ива (поросль)   NaN   3.0      NaN  0,5-0,7   \n",
              "3      4                ива (поросль)   NaN   1.0      NaN      0,6   \n",
              "4      5  клен ясенелистный (поросль)   NaN   1.0      NaN      2,5   \n",
              "\n",
              "                description    action  \n",
              "0                 ослаблено  Вырубить  \n",
              "1  растет из под ограждения  Вырубить  \n",
              "2                  угнетено  Вырубить  \n",
              "3                  угнетено  Вырубить  \n",
              "4                 ослаблено  Вырубить  "
            ],
            "text/html": [
              "\n",
              "  <div id=\"df-7a377e25-e5e0-4439-aac1-b452c9db1ea0\">\n",
              "    <div class=\"colab-df-container\">\n",
              "      <div>\n",
              "<style scoped>\n",
              "    .dataframe tbody tr th:only-of-type {\n",
              "        vertical-align: middle;\n",
              "    }\n",
              "\n",
              "    .dataframe tbody tr th {\n",
              "        vertical-align: top;\n",
              "    }\n",
              "\n",
              "    .dataframe thead th {\n",
              "        text-align: right;\n",
              "    }\n",
              "</style>\n",
              "<table border=\"1\" class=\"dataframe\">\n",
              "  <thead>\n",
              "    <tr style=\"text-align: right;\">\n",
              "      <th></th>\n",
              "      <th>number</th>\n",
              "      <th>type</th>\n",
              "      <th>tree</th>\n",
              "      <th>bush</th>\n",
              "      <th>diameter</th>\n",
              "      <th>height</th>\n",
              "      <th>description</th>\n",
              "      <th>action</th>\n",
              "    </tr>\n",
              "  </thead>\n",
              "  <tbody>\n",
              "    <tr>\n",
              "      <th>0</th>\n",
              "      <td>1</td>\n",
              "      <td>клен ясенелистный (поросль)</td>\n",
              "      <td>NaN</td>\n",
              "      <td>2.0</td>\n",
              "      <td>NaN</td>\n",
              "      <td>1,5-1,9</td>\n",
              "      <td>ослаблено</td>\n",
              "      <td>Вырубить</td>\n",
              "    </tr>\n",
              "    <tr>\n",
              "      <th>1</th>\n",
              "      <td>2</td>\n",
              "      <td>клен ясенелистный (поросль)</td>\n",
              "      <td>NaN</td>\n",
              "      <td>1.0</td>\n",
              "      <td>NaN</td>\n",
              "      <td>1,8</td>\n",
              "      <td>растет из под ограждения</td>\n",
              "      <td>Вырубить</td>\n",
              "    </tr>\n",
              "    <tr>\n",
              "      <th>2</th>\n",
              "      <td>3</td>\n",
              "      <td>ива (поросль)</td>\n",
              "      <td>NaN</td>\n",
              "      <td>3.0</td>\n",
              "      <td>NaN</td>\n",
              "      <td>0,5-0,7</td>\n",
              "      <td>угнетено</td>\n",
              "      <td>Вырубить</td>\n",
              "    </tr>\n",
              "    <tr>\n",
              "      <th>3</th>\n",
              "      <td>4</td>\n",
              "      <td>ива (поросль)</td>\n",
              "      <td>NaN</td>\n",
              "      <td>1.0</td>\n",
              "      <td>NaN</td>\n",
              "      <td>0,6</td>\n",
              "      <td>угнетено</td>\n",
              "      <td>Вырубить</td>\n",
              "    </tr>\n",
              "    <tr>\n",
              "      <th>4</th>\n",
              "      <td>5</td>\n",
              "      <td>клен ясенелистный (поросль)</td>\n",
              "      <td>NaN</td>\n",
              "      <td>1.0</td>\n",
              "      <td>NaN</td>\n",
              "      <td>2,5</td>\n",
              "      <td>ослаблено</td>\n",
              "      <td>Вырубить</td>\n",
              "    </tr>\n",
              "  </tbody>\n",
              "</table>\n",
              "</div>\n",
              "      <button class=\"colab-df-convert\" onclick=\"convertToInteractive('df-7a377e25-e5e0-4439-aac1-b452c9db1ea0')\"\n",
              "              title=\"Convert this dataframe to an interactive table.\"\n",
              "              style=\"display:none;\">\n",
              "        \n",
              "  <svg xmlns=\"http://www.w3.org/2000/svg\" height=\"24px\"viewBox=\"0 0 24 24\"\n",
              "       width=\"24px\">\n",
              "    <path d=\"M0 0h24v24H0V0z\" fill=\"none\"/>\n",
              "    <path d=\"M18.56 5.44l.94 2.06.94-2.06 2.06-.94-2.06-.94-.94-2.06-.94 2.06-2.06.94zm-11 1L8.5 8.5l.94-2.06 2.06-.94-2.06-.94L8.5 2.5l-.94 2.06-2.06.94zm10 10l.94 2.06.94-2.06 2.06-.94-2.06-.94-.94-2.06-.94 2.06-2.06.94z\"/><path d=\"M17.41 7.96l-1.37-1.37c-.4-.4-.92-.59-1.43-.59-.52 0-1.04.2-1.43.59L10.3 9.45l-7.72 7.72c-.78.78-.78 2.05 0 2.83L4 21.41c.39.39.9.59 1.41.59.51 0 1.02-.2 1.41-.59l7.78-7.78 2.81-2.81c.8-.78.8-2.07 0-2.86zM5.41 20L4 18.59l7.72-7.72 1.47 1.35L5.41 20z\"/>\n",
              "  </svg>\n",
              "      </button>\n",
              "      \n",
              "  <style>\n",
              "    .colab-df-container {\n",
              "      display:flex;\n",
              "      flex-wrap:wrap;\n",
              "      gap: 12px;\n",
              "    }\n",
              "\n",
              "    .colab-df-convert {\n",
              "      background-color: #E8F0FE;\n",
              "      border: none;\n",
              "      border-radius: 50%;\n",
              "      cursor: pointer;\n",
              "      display: none;\n",
              "      fill: #1967D2;\n",
              "      height: 32px;\n",
              "      padding: 0 0 0 0;\n",
              "      width: 32px;\n",
              "    }\n",
              "\n",
              "    .colab-df-convert:hover {\n",
              "      background-color: #E2EBFA;\n",
              "      box-shadow: 0px 1px 2px rgba(60, 64, 67, 0.3), 0px 1px 3px 1px rgba(60, 64, 67, 0.15);\n",
              "      fill: #174EA6;\n",
              "    }\n",
              "\n",
              "    [theme=dark] .colab-df-convert {\n",
              "      background-color: #3B4455;\n",
              "      fill: #D2E3FC;\n",
              "    }\n",
              "\n",
              "    [theme=dark] .colab-df-convert:hover {\n",
              "      background-color: #434B5C;\n",
              "      box-shadow: 0px 1px 3px 1px rgba(0, 0, 0, 0.15);\n",
              "      filter: drop-shadow(0px 1px 2px rgba(0, 0, 0, 0.3));\n",
              "      fill: #FFFFFF;\n",
              "    }\n",
              "  </style>\n",
              "\n",
              "      <script>\n",
              "        const buttonEl =\n",
              "          document.querySelector('#df-7a377e25-e5e0-4439-aac1-b452c9db1ea0 button.colab-df-convert');\n",
              "        buttonEl.style.display =\n",
              "          google.colab.kernel.accessAllowed ? 'block' : 'none';\n",
              "\n",
              "        async function convertToInteractive(key) {\n",
              "          const element = document.querySelector('#df-7a377e25-e5e0-4439-aac1-b452c9db1ea0');\n",
              "          const dataTable =\n",
              "            await google.colab.kernel.invokeFunction('convertToInteractive',\n",
              "                                                     [key], {});\n",
              "          if (!dataTable) return;\n",
              "\n",
              "          const docLinkHtml = 'Like what you see? Visit the ' +\n",
              "            '<a target=\"_blank\" href=https://colab.research.google.com/notebooks/data_table.ipynb>data table notebook</a>'\n",
              "            + ' to learn more about interactive tables.';\n",
              "          element.innerHTML = '';\n",
              "          dataTable['output_type'] = 'display_data';\n",
              "          await google.colab.output.renderOutput(dataTable, element);\n",
              "          const docLink = document.createElement('div');\n",
              "          docLink.innerHTML = docLinkHtml;\n",
              "          element.appendChild(docLink);\n",
              "        }\n",
              "      </script>\n",
              "    </div>\n",
              "  </div>\n",
              "  "
            ]
          },
          "metadata": {},
          "execution_count": 5
        }
      ]
    },
    {
      "cell_type": "code",
      "source": [
        "df.info()"
      ],
      "metadata": {
        "colab": {
          "base_uri": "https://localhost:8080/"
        },
        "id": "XgMMd_8uulH4",
        "outputId": "4bfb7cd4-be7a-45c8-ad86-62e6cdffda93"
      },
      "execution_count": 6,
      "outputs": [
        {
          "output_type": "stream",
          "name": "stdout",
          "text": [
            "<class 'pandas.core.frame.DataFrame'>\n",
            "RangeIndex: 299 entries, 0 to 298\n",
            "Data columns (total 8 columns):\n",
            " #   Column       Non-Null Count  Dtype  \n",
            "---  ------       --------------  -----  \n",
            " 0   number       299 non-null    object \n",
            " 1   type         299 non-null    object \n",
            " 2   tree         272 non-null    float64\n",
            " 3   bush         27 non-null     float64\n",
            " 4   diameter     272 non-null    object \n",
            " 5   height       299 non-null    object \n",
            " 6   description  299 non-null    object \n",
            " 7   action       299 non-null    object \n",
            "dtypes: float64(2), object(6)\n",
            "memory usage: 18.8+ KB\n"
          ]
        }
      ]
    },
    {
      "cell_type": "markdown",
      "source": [
        "В столбцах tree и bush есть пропуски - это специфика данных, в tree отмечено количество только деревьев, bush соответственно кустов"
      ],
      "metadata": {
        "id": "RQslfnBUxQwd"
      }
    },
    {
      "cell_type": "code",
      "source": [
        "df.tree.value_counts()"
      ],
      "metadata": {
        "colab": {
          "base_uri": "https://localhost:8080/"
        },
        "id": "SVZWwBg7w8LY",
        "outputId": "a0980f14-4482-4d48-f50a-cef2b89f31d9"
      },
      "execution_count": 7,
      "outputs": [
        {
          "output_type": "execute_result",
          "data": {
            "text/plain": [
              "1.0     251\n",
              "2.0      12\n",
              "3.0       4\n",
              "4.0       1\n",
              "5.0       1\n",
              "19.0      1\n",
              "6.0       1\n",
              "20.0      1\n",
              "Name: tree, dtype: int64"
            ]
          },
          "metadata": {},
          "execution_count": 7
        }
      ]
    },
    {
      "cell_type": "code",
      "source": [
        "df['tree'] = pd.to_numeric(df['tree'], errors='coerce')\n",
        "df['bush'] = pd.to_numeric(df['bush'], errors='coerce')\n"
      ],
      "metadata": {
        "id": "-drsWUYXxqc_"
      },
      "execution_count": 8,
      "outputs": []
    },
    {
      "cell_type": "code",
      "source": [
        "display('Общее количество деревьев и кустарников')\n",
        "df.groupby('action', as_index=False)[['tree', 'bush']].sum()"
      ],
      "metadata": {
        "colab": {
          "base_uri": "https://localhost:8080/",
          "height": 99
        },
        "id": "DnQRYqmVvC4p",
        "outputId": "573d3542-1b2e-4b16-a3d6-e45495bf9040"
      },
      "execution_count": 9,
      "outputs": [
        {
          "output_type": "display_data",
          "data": {
            "text/plain": [
              "'Общее количество деревьев и кустарников'"
            ],
            "application/vnd.google.colaboratory.intrinsic+json": {
              "type": "string"
            }
          },
          "metadata": {}
        },
        {
          "output_type": "execute_result",
          "data": {
            "text/plain": [
              "     action   tree   bush\n",
              "0  Вырубить  341.0  888.0"
            ],
            "text/html": [
              "\n",
              "  <div id=\"df-9f465eb5-714b-475d-9190-0fcfd330430b\">\n",
              "    <div class=\"colab-df-container\">\n",
              "      <div>\n",
              "<style scoped>\n",
              "    .dataframe tbody tr th:only-of-type {\n",
              "        vertical-align: middle;\n",
              "    }\n",
              "\n",
              "    .dataframe tbody tr th {\n",
              "        vertical-align: top;\n",
              "    }\n",
              "\n",
              "    .dataframe thead th {\n",
              "        text-align: right;\n",
              "    }\n",
              "</style>\n",
              "<table border=\"1\" class=\"dataframe\">\n",
              "  <thead>\n",
              "    <tr style=\"text-align: right;\">\n",
              "      <th></th>\n",
              "      <th>action</th>\n",
              "      <th>tree</th>\n",
              "      <th>bush</th>\n",
              "    </tr>\n",
              "  </thead>\n",
              "  <tbody>\n",
              "    <tr>\n",
              "      <th>0</th>\n",
              "      <td>Вырубить</td>\n",
              "      <td>341.0</td>\n",
              "      <td>888.0</td>\n",
              "    </tr>\n",
              "  </tbody>\n",
              "</table>\n",
              "</div>\n",
              "      <button class=\"colab-df-convert\" onclick=\"convertToInteractive('df-9f465eb5-714b-475d-9190-0fcfd330430b')\"\n",
              "              title=\"Convert this dataframe to an interactive table.\"\n",
              "              style=\"display:none;\">\n",
              "        \n",
              "  <svg xmlns=\"http://www.w3.org/2000/svg\" height=\"24px\"viewBox=\"0 0 24 24\"\n",
              "       width=\"24px\">\n",
              "    <path d=\"M0 0h24v24H0V0z\" fill=\"none\"/>\n",
              "    <path d=\"M18.56 5.44l.94 2.06.94-2.06 2.06-.94-2.06-.94-.94-2.06-.94 2.06-2.06.94zm-11 1L8.5 8.5l.94-2.06 2.06-.94-2.06-.94L8.5 2.5l-.94 2.06-2.06.94zm10 10l.94 2.06.94-2.06 2.06-.94-2.06-.94-.94-2.06-.94 2.06-2.06.94z\"/><path d=\"M17.41 7.96l-1.37-1.37c-.4-.4-.92-.59-1.43-.59-.52 0-1.04.2-1.43.59L10.3 9.45l-7.72 7.72c-.78.78-.78 2.05 0 2.83L4 21.41c.39.39.9.59 1.41.59.51 0 1.02-.2 1.41-.59l7.78-7.78 2.81-2.81c.8-.78.8-2.07 0-2.86zM5.41 20L4 18.59l7.72-7.72 1.47 1.35L5.41 20z\"/>\n",
              "  </svg>\n",
              "      </button>\n",
              "      \n",
              "  <style>\n",
              "    .colab-df-container {\n",
              "      display:flex;\n",
              "      flex-wrap:wrap;\n",
              "      gap: 12px;\n",
              "    }\n",
              "\n",
              "    .colab-df-convert {\n",
              "      background-color: #E8F0FE;\n",
              "      border: none;\n",
              "      border-radius: 50%;\n",
              "      cursor: pointer;\n",
              "      display: none;\n",
              "      fill: #1967D2;\n",
              "      height: 32px;\n",
              "      padding: 0 0 0 0;\n",
              "      width: 32px;\n",
              "    }\n",
              "\n",
              "    .colab-df-convert:hover {\n",
              "      background-color: #E2EBFA;\n",
              "      box-shadow: 0px 1px 2px rgba(60, 64, 67, 0.3), 0px 1px 3px 1px rgba(60, 64, 67, 0.15);\n",
              "      fill: #174EA6;\n",
              "    }\n",
              "\n",
              "    [theme=dark] .colab-df-convert {\n",
              "      background-color: #3B4455;\n",
              "      fill: #D2E3FC;\n",
              "    }\n",
              "\n",
              "    [theme=dark] .colab-df-convert:hover {\n",
              "      background-color: #434B5C;\n",
              "      box-shadow: 0px 1px 3px 1px rgba(0, 0, 0, 0.15);\n",
              "      filter: drop-shadow(0px 1px 2px rgba(0, 0, 0, 0.3));\n",
              "      fill: #FFFFFF;\n",
              "    }\n",
              "  </style>\n",
              "\n",
              "      <script>\n",
              "        const buttonEl =\n",
              "          document.querySelector('#df-9f465eb5-714b-475d-9190-0fcfd330430b button.colab-df-convert');\n",
              "        buttonEl.style.display =\n",
              "          google.colab.kernel.accessAllowed ? 'block' : 'none';\n",
              "\n",
              "        async function convertToInteractive(key) {\n",
              "          const element = document.querySelector('#df-9f465eb5-714b-475d-9190-0fcfd330430b');\n",
              "          const dataTable =\n",
              "            await google.colab.kernel.invokeFunction('convertToInteractive',\n",
              "                                                     [key], {});\n",
              "          if (!dataTable) return;\n",
              "\n",
              "          const docLinkHtml = 'Like what you see? Visit the ' +\n",
              "            '<a target=\"_blank\" href=https://colab.research.google.com/notebooks/data_table.ipynb>data table notebook</a>'\n",
              "            + ' to learn more about interactive tables.';\n",
              "          element.innerHTML = '';\n",
              "          dataTable['output_type'] = 'display_data';\n",
              "          await google.colab.output.renderOutput(dataTable, element);\n",
              "          const docLink = document.createElement('div');\n",
              "          docLink.innerHTML = docLinkHtml;\n",
              "          element.appendChild(docLink);\n",
              "        }\n",
              "      </script>\n",
              "    </div>\n",
              "  </div>\n",
              "  "
            ]
          },
          "metadata": {},
          "execution_count": 9
        }
      ]
    },
    {
      "cell_type": "markdown",
      "source": [
        "##Получение данных"
      ],
      "metadata": {
        "id": "HJ2ecY9Y4Sp2"
      }
    },
    {
      "cell_type": "markdown",
      "source": [
        "Тут только вырубка (еще бывает пересадка и сохранение). Значит для расчетов нам нужны следующие данные: \n",
        "1. количество поросли и кустарников, \n",
        "2. количество деревьев твердолиственных и мягколиственных, \n",
        "3. количество деревьев по группам (диаметр от 1 до 10, от 11 до 20 и тд), \n",
        "4. является ли дерево многоствольным, число стволов, \n",
        "5. диаметр пня. Если указно несколько диаметров, берем бОльший. Диаметр пня у многоствольных больше. \n",
        "6. Количество вывозимых порубочных остатков"
      ],
      "metadata": {
        "id": "jlKeDwl30k-e"
      }
    },
    {
      "cell_type": "markdown",
      "source": [
        "###Кустарники"
      ],
      "metadata": {
        "id": "DgEuEbuUNSY4"
      }
    },
    {
      "cell_type": "code",
      "source": [
        "def chop_bush_counter(df):\n",
        "  try:\n",
        "    df_bush = df[(~df.bush.isna()) & (df.action == 'Вырубить')]\\\n",
        "          [['type', 'bush', 'height', 'description']]\n",
        "    df_bush['bush_cat'] = df['type'].apply(lambda x: '1поросль' if x == 'поросль' else '2куст')\n",
        "    df_bush_to_chop = df_bush.groupby('bush_cat', as_index=False)[['bush']].sum()\n",
        "    return df_bush_to_chop\n",
        "  except:\n",
        "    print('Ошибочка')"
      ],
      "metadata": {
        "id": "T0cn4BTL3Am8"
      },
      "execution_count": 10,
      "outputs": []
    },
    {
      "cell_type": "code",
      "source": [
        "df_bush_to_chop = chop_bush_counter(df)"
      ],
      "metadata": {
        "id": "n9V3OlC2zxw7"
      },
      "execution_count": 11,
      "outputs": []
    },
    {
      "cell_type": "code",
      "source": [
        "df_bush_to_chop"
      ],
      "metadata": {
        "colab": {
          "base_uri": "https://localhost:8080/",
          "height": 112
        },
        "id": "MaFT_xXqK-dz",
        "outputId": "0f6a0ba9-23c3-4c61-caa6-a96055c257d5"
      },
      "execution_count": 12,
      "outputs": [
        {
          "output_type": "execute_result",
          "data": {
            "text/plain": [
              "   bush_cat   bush\n",
              "0  1поросль  845.0\n",
              "1     2куст   43.0"
            ],
            "text/html": [
              "\n",
              "  <div id=\"df-c83959c8-3ec5-4aae-820d-4ec1954d2775\">\n",
              "    <div class=\"colab-df-container\">\n",
              "      <div>\n",
              "<style scoped>\n",
              "    .dataframe tbody tr th:only-of-type {\n",
              "        vertical-align: middle;\n",
              "    }\n",
              "\n",
              "    .dataframe tbody tr th {\n",
              "        vertical-align: top;\n",
              "    }\n",
              "\n",
              "    .dataframe thead th {\n",
              "        text-align: right;\n",
              "    }\n",
              "</style>\n",
              "<table border=\"1\" class=\"dataframe\">\n",
              "  <thead>\n",
              "    <tr style=\"text-align: right;\">\n",
              "      <th></th>\n",
              "      <th>bush_cat</th>\n",
              "      <th>bush</th>\n",
              "    </tr>\n",
              "  </thead>\n",
              "  <tbody>\n",
              "    <tr>\n",
              "      <th>0</th>\n",
              "      <td>1поросль</td>\n",
              "      <td>845.0</td>\n",
              "    </tr>\n",
              "    <tr>\n",
              "      <th>1</th>\n",
              "      <td>2куст</td>\n",
              "      <td>43.0</td>\n",
              "    </tr>\n",
              "  </tbody>\n",
              "</table>\n",
              "</div>\n",
              "      <button class=\"colab-df-convert\" onclick=\"convertToInteractive('df-c83959c8-3ec5-4aae-820d-4ec1954d2775')\"\n",
              "              title=\"Convert this dataframe to an interactive table.\"\n",
              "              style=\"display:none;\">\n",
              "        \n",
              "  <svg xmlns=\"http://www.w3.org/2000/svg\" height=\"24px\"viewBox=\"0 0 24 24\"\n",
              "       width=\"24px\">\n",
              "    <path d=\"M0 0h24v24H0V0z\" fill=\"none\"/>\n",
              "    <path d=\"M18.56 5.44l.94 2.06.94-2.06 2.06-.94-2.06-.94-.94-2.06-.94 2.06-2.06.94zm-11 1L8.5 8.5l.94-2.06 2.06-.94-2.06-.94L8.5 2.5l-.94 2.06-2.06.94zm10 10l.94 2.06.94-2.06 2.06-.94-2.06-.94-.94-2.06-.94 2.06-2.06.94z\"/><path d=\"M17.41 7.96l-1.37-1.37c-.4-.4-.92-.59-1.43-.59-.52 0-1.04.2-1.43.59L10.3 9.45l-7.72 7.72c-.78.78-.78 2.05 0 2.83L4 21.41c.39.39.9.59 1.41.59.51 0 1.02-.2 1.41-.59l7.78-7.78 2.81-2.81c.8-.78.8-2.07 0-2.86zM5.41 20L4 18.59l7.72-7.72 1.47 1.35L5.41 20z\"/>\n",
              "  </svg>\n",
              "      </button>\n",
              "      \n",
              "  <style>\n",
              "    .colab-df-container {\n",
              "      display:flex;\n",
              "      flex-wrap:wrap;\n",
              "      gap: 12px;\n",
              "    }\n",
              "\n",
              "    .colab-df-convert {\n",
              "      background-color: #E8F0FE;\n",
              "      border: none;\n",
              "      border-radius: 50%;\n",
              "      cursor: pointer;\n",
              "      display: none;\n",
              "      fill: #1967D2;\n",
              "      height: 32px;\n",
              "      padding: 0 0 0 0;\n",
              "      width: 32px;\n",
              "    }\n",
              "\n",
              "    .colab-df-convert:hover {\n",
              "      background-color: #E2EBFA;\n",
              "      box-shadow: 0px 1px 2px rgba(60, 64, 67, 0.3), 0px 1px 3px 1px rgba(60, 64, 67, 0.15);\n",
              "      fill: #174EA6;\n",
              "    }\n",
              "\n",
              "    [theme=dark] .colab-df-convert {\n",
              "      background-color: #3B4455;\n",
              "      fill: #D2E3FC;\n",
              "    }\n",
              "\n",
              "    [theme=dark] .colab-df-convert:hover {\n",
              "      background-color: #434B5C;\n",
              "      box-shadow: 0px 1px 3px 1px rgba(0, 0, 0, 0.15);\n",
              "      filter: drop-shadow(0px 1px 2px rgba(0, 0, 0, 0.3));\n",
              "      fill: #FFFFFF;\n",
              "    }\n",
              "  </style>\n",
              "\n",
              "      <script>\n",
              "        const buttonEl =\n",
              "          document.querySelector('#df-c83959c8-3ec5-4aae-820d-4ec1954d2775 button.colab-df-convert');\n",
              "        buttonEl.style.display =\n",
              "          google.colab.kernel.accessAllowed ? 'block' : 'none';\n",
              "\n",
              "        async function convertToInteractive(key) {\n",
              "          const element = document.querySelector('#df-c83959c8-3ec5-4aae-820d-4ec1954d2775');\n",
              "          const dataTable =\n",
              "            await google.colab.kernel.invokeFunction('convertToInteractive',\n",
              "                                                     [key], {});\n",
              "          if (!dataTable) return;\n",
              "\n",
              "          const docLinkHtml = 'Like what you see? Visit the ' +\n",
              "            '<a target=\"_blank\" href=https://colab.research.google.com/notebooks/data_table.ipynb>data table notebook</a>'\n",
              "            + ' to learn more about interactive tables.';\n",
              "          element.innerHTML = '';\n",
              "          dataTable['output_type'] = 'display_data';\n",
              "          await google.colab.output.renderOutput(dataTable, element);\n",
              "          const docLink = document.createElement('div');\n",
              "          docLink.innerHTML = docLinkHtml;\n",
              "          element.appendChild(docLink);\n",
              "        }\n",
              "      </script>\n",
              "    </div>\n",
              "  </div>\n",
              "  "
            ]
          },
          "metadata": {},
          "execution_count": 12
        }
      ]
    },
    {
      "cell_type": "code",
      "source": [
        "bush_weigth = df_bush_to_chop.bush[0]*0.025 + df_bush_to_chop.bush[1]*0.05"
      ],
      "metadata": {
        "id": "DrIhvMrvLamY"
      },
      "execution_count": 38,
      "outputs": []
    },
    {
      "cell_type": "code",
      "source": [
        "print(f'Общее количество кустов {df_bush_to_chop.bush.sum()}, вес порубочных остатков {bush_weigth} т.')"
      ],
      "metadata": {
        "colab": {
          "base_uri": "https://localhost:8080/"
        },
        "id": "1ME04yk2LC8A",
        "outputId": "a2ab3de4-3cb3-480e-fda7-35ebdf339415"
      },
      "execution_count": 39,
      "outputs": [
        {
          "output_type": "stream",
          "name": "stdout",
          "text": [
            "Общее количество кустов 888.0, вес порубочных остатков 23.275 т.\n"
          ]
        }
      ]
    },
    {
      "cell_type": "markdown",
      "source": [
        "###Деревья"
      ],
      "metadata": {
        "id": "N9B99wEVNWNN"
      }
    },
    {
      "cell_type": "markdown",
      "source": [
        "Сначала выделим некоторые вспомогательные функции: деление на группы, подсчет ствольности, деление на категории по твердости древесины, и впомогательные данные по весу в тоннах относительно диаметра ствола"
      ],
      "metadata": {
        "id": "hH3F4G07NZwW"
      }
    },
    {
      "cell_type": "code",
      "source": [
        "#ствольность обычно указана в комментарии\n",
        "def is_mnogostv(row):\n",
        "  for i in range(5, 0, -1):\n",
        "    if str(i)+' с' in row:\n",
        "        return int(i)\n",
        "  return 1   "
      ],
      "metadata": {
        "id": "f24EoDo418kL"
      },
      "execution_count": 77,
      "outputs": []
    },
    {
      "cell_type": "code",
      "source": [
        "def tree_type(row):\n",
        "  tverd_types = ['Клен', 'Бук', 'Орех', 'Ясень' , 'Яблоня', 'Вишня', \n",
        "           'Сухостой', 'Самосев', 'Рябина', 'Акация']\n",
        "  for tree_type in tverd_types:\n",
        "    if tree_type.lower() in row.lower():\n",
        "      return 'Твердолиственное'\n",
        "  return 'Мягколиственное/хвойное'"
      ],
      "metadata": {
        "id": "dJ8HyiRJ8bhv"
      },
      "execution_count": 78,
      "outputs": []
    },
    {
      "cell_type": "code",
      "source": [
        "def diameter_bins(row):\n",
        "  return f'до {row // 10 + 1}0'"
      ],
      "metadata": {
        "id": "V1MmBU6G-zhz"
      },
      "execution_count": 79,
      "outputs": []
    },
    {
      "cell_type": "code",
      "source": [
        "df_mass = {'до 10' : 0.0794285714285714, \n",
        "           'до 20' : 0.277714285714286, \n",
        "           'до 30' : 0.763809523809524, \n",
        "           'до 40' : 1.53942857142857, \n",
        "           'до 50' : 2.67476190476191, \n",
        "           'до 60' : 4.01542857142857, \n",
        "           'до 70' : 6.57371428571429, \n",
        "           'до 80' : 8.21714285714286, \n",
        "           'до 90' : 10.6822857142857, \n",
        "           'поросль' : 0.05, \n",
        "           'куст' : 0.01}"
      ],
      "metadata": {
        "id": "r7099ISU-jsA"
      },
      "execution_count": 80,
      "outputs": []
    },
    {
      "cell_type": "markdown",
      "source": [
        "А теперь собственно функция, которая посчитает нам итоговую таблицу c количеством деревьев по категориям и диаметром и количеством порубочных остатков (а также диаметры пней для корчевки)."
      ],
      "metadata": {
        "id": "ZTEvvV4ROHOy"
      }
    },
    {
      "cell_type": "code",
      "source": [
        "def chop_tree_counter(df):\n",
        "  try:\n",
        "    df_tree = df[(df.bush.isna()) & (df.action == 'Вырубить')]\\\n",
        "              [['type', 'tree', 'diameter', 'height', 'description']]\n",
        "    df_tree['stvol'] = df.description.apply(is_mnogostv)\n",
        "    df_tree['diameter'] = df_tree['diameter'].apply(lambda x: int(str(x).split('-')[-1]))\n",
        "    df_tree['stvol_count'] = df_tree['stvol'] * df_tree['tree']\n",
        "    df_tree['stump_diameter'] = df_tree['diameter'] * df_tree['stvol'] + 5\n",
        "    df_tree['tree_type'] = df_tree['type'].apply(tree_type)\n",
        "    df_tree['diameter_bins'] = df_tree['diameter'].apply(diameter_bins)\n",
        "    df_tree['stump_diameter_bins'] = df_tree['stump_diameter'].apply(diameter_bins)\n",
        "    df_tree['weight'] = df_tree['diameter_bins'].map(df_mass) * df_tree['stvol_count']\n",
        "    df_tree_grouped = df_tree.groupby(['tree_type', 'diameter_bins'])\\\n",
        "              [['tree', 'stvol_count', 'weight']].sum()\n",
        "    df_tree_trees = (pd.concat([df_tree_grouped,\n",
        "           df_tree_grouped.groupby(level=0).sum()\n",
        "           .assign(claim_type= \"total\")\n",
        "           .set_index('claim_type', append=True)]).sort_index()\n",
        "           .rename(columns={'tree':'Кол-во деревьев', \n",
        "                            'stvol_count': 'Кол-во стволов',\n",
        "                            'weight': 'Тоннаж'}))\n",
        "    df_tree_grouped_diam = df_tree.groupby('diameter_bins')\\\n",
        "              [['tree', 'stvol_count', 'weight']].sum()\n",
        "    \n",
        "    df_stumps = (df_tree.groupby(['tree_type', 'stump_diameter_bins'])[['tree']].sum()\n",
        "                .rename(columns={'tree':'Кол-во пней'}))\n",
        "    return df_tree_trees, df_stumps, df_tree_grouped_diam\n",
        "  except:\n",
        "    print('Ошибочка')"
      ],
      "metadata": {
        "id": "JuTici6yOM5l"
      },
      "execution_count": 95,
      "outputs": []
    },
    {
      "cell_type": "code",
      "source": [
        "trees, stumps, trees2 = chop_tree_counter(df)"
      ],
      "metadata": {
        "id": "AQct1Cs21aD2"
      },
      "execution_count": 96,
      "outputs": []
    },
    {
      "cell_type": "code",
      "source": [
        "trees"
      ],
      "metadata": {
        "colab": {
          "base_uri": "https://localhost:8080/",
          "height": 488
        },
        "id": "QlQhzPds2k63",
        "outputId": "30b8b59d-a76e-4157-8776-1b3edf489a6d"
      },
      "execution_count": 97,
      "outputs": [
        {
          "output_type": "execute_result",
          "data": {
            "text/plain": [
              "                                       Кол-во деревьев  Кол-во стволов  \\\n",
              "tree_type               diameter_bins                                    \n",
              "Мягколиственное/хвойное total                     80.0           121.0   \n",
              "                        до 10                      4.0             6.0   \n",
              "                        до 20                     58.0            89.0   \n",
              "                        до 30                      8.0            10.0   \n",
              "                        до 40                      7.0            10.0   \n",
              "                        до 50                      2.0             5.0   \n",
              "                        до 60                      1.0             1.0   \n",
              "Твердолиственное        total                    261.0           307.0   \n",
              "                        до 10                     82.0            84.0   \n",
              "                        до 20                    108.0           129.0   \n",
              "                        до 30                     43.0            52.0   \n",
              "                        до 40                     24.0            37.0   \n",
              "                        до 50                      4.0             5.0   \n",
              "\n",
              "                                           Тоннаж  \n",
              "tree_type               diameter_bins              \n",
              "Мягколиственное/хвойное total           65.614762  \n",
              "                        до 10            0.476571  \n",
              "                        до 20           24.716571  \n",
              "                        до 30            7.638095  \n",
              "                        до 40           15.394286  \n",
              "                        до 50           13.373810  \n",
              "                        до 60            4.015429  \n",
              "Твердолиственное        total          152.547905  \n",
              "                        до 10            6.672000  \n",
              "                        до 20           35.825143  \n",
              "                        до 30           39.718095  \n",
              "                        до 40           56.958857  \n",
              "                        до 50           13.373810  "
            ],
            "text/html": [
              "\n",
              "  <div id=\"df-4af4468d-9c3e-4748-94ff-139647804a7b\">\n",
              "    <div class=\"colab-df-container\">\n",
              "      <div>\n",
              "<style scoped>\n",
              "    .dataframe tbody tr th:only-of-type {\n",
              "        vertical-align: middle;\n",
              "    }\n",
              "\n",
              "    .dataframe tbody tr th {\n",
              "        vertical-align: top;\n",
              "    }\n",
              "\n",
              "    .dataframe thead th {\n",
              "        text-align: right;\n",
              "    }\n",
              "</style>\n",
              "<table border=\"1\" class=\"dataframe\">\n",
              "  <thead>\n",
              "    <tr style=\"text-align: right;\">\n",
              "      <th></th>\n",
              "      <th></th>\n",
              "      <th>Кол-во деревьев</th>\n",
              "      <th>Кол-во стволов</th>\n",
              "      <th>Тоннаж</th>\n",
              "    </tr>\n",
              "    <tr>\n",
              "      <th>tree_type</th>\n",
              "      <th>diameter_bins</th>\n",
              "      <th></th>\n",
              "      <th></th>\n",
              "      <th></th>\n",
              "    </tr>\n",
              "  </thead>\n",
              "  <tbody>\n",
              "    <tr>\n",
              "      <th rowspan=\"7\" valign=\"top\">Мягколиственное/хвойное</th>\n",
              "      <th>total</th>\n",
              "      <td>80.0</td>\n",
              "      <td>121.0</td>\n",
              "      <td>65.614762</td>\n",
              "    </tr>\n",
              "    <tr>\n",
              "      <th>до 10</th>\n",
              "      <td>4.0</td>\n",
              "      <td>6.0</td>\n",
              "      <td>0.476571</td>\n",
              "    </tr>\n",
              "    <tr>\n",
              "      <th>до 20</th>\n",
              "      <td>58.0</td>\n",
              "      <td>89.0</td>\n",
              "      <td>24.716571</td>\n",
              "    </tr>\n",
              "    <tr>\n",
              "      <th>до 30</th>\n",
              "      <td>8.0</td>\n",
              "      <td>10.0</td>\n",
              "      <td>7.638095</td>\n",
              "    </tr>\n",
              "    <tr>\n",
              "      <th>до 40</th>\n",
              "      <td>7.0</td>\n",
              "      <td>10.0</td>\n",
              "      <td>15.394286</td>\n",
              "    </tr>\n",
              "    <tr>\n",
              "      <th>до 50</th>\n",
              "      <td>2.0</td>\n",
              "      <td>5.0</td>\n",
              "      <td>13.373810</td>\n",
              "    </tr>\n",
              "    <tr>\n",
              "      <th>до 60</th>\n",
              "      <td>1.0</td>\n",
              "      <td>1.0</td>\n",
              "      <td>4.015429</td>\n",
              "    </tr>\n",
              "    <tr>\n",
              "      <th rowspan=\"6\" valign=\"top\">Твердолиственное</th>\n",
              "      <th>total</th>\n",
              "      <td>261.0</td>\n",
              "      <td>307.0</td>\n",
              "      <td>152.547905</td>\n",
              "    </tr>\n",
              "    <tr>\n",
              "      <th>до 10</th>\n",
              "      <td>82.0</td>\n",
              "      <td>84.0</td>\n",
              "      <td>6.672000</td>\n",
              "    </tr>\n",
              "    <tr>\n",
              "      <th>до 20</th>\n",
              "      <td>108.0</td>\n",
              "      <td>129.0</td>\n",
              "      <td>35.825143</td>\n",
              "    </tr>\n",
              "    <tr>\n",
              "      <th>до 30</th>\n",
              "      <td>43.0</td>\n",
              "      <td>52.0</td>\n",
              "      <td>39.718095</td>\n",
              "    </tr>\n",
              "    <tr>\n",
              "      <th>до 40</th>\n",
              "      <td>24.0</td>\n",
              "      <td>37.0</td>\n",
              "      <td>56.958857</td>\n",
              "    </tr>\n",
              "    <tr>\n",
              "      <th>до 50</th>\n",
              "      <td>4.0</td>\n",
              "      <td>5.0</td>\n",
              "      <td>13.373810</td>\n",
              "    </tr>\n",
              "  </tbody>\n",
              "</table>\n",
              "</div>\n",
              "      <button class=\"colab-df-convert\" onclick=\"convertToInteractive('df-4af4468d-9c3e-4748-94ff-139647804a7b')\"\n",
              "              title=\"Convert this dataframe to an interactive table.\"\n",
              "              style=\"display:none;\">\n",
              "        \n",
              "  <svg xmlns=\"http://www.w3.org/2000/svg\" height=\"24px\"viewBox=\"0 0 24 24\"\n",
              "       width=\"24px\">\n",
              "    <path d=\"M0 0h24v24H0V0z\" fill=\"none\"/>\n",
              "    <path d=\"M18.56 5.44l.94 2.06.94-2.06 2.06-.94-2.06-.94-.94-2.06-.94 2.06-2.06.94zm-11 1L8.5 8.5l.94-2.06 2.06-.94-2.06-.94L8.5 2.5l-.94 2.06-2.06.94zm10 10l.94 2.06.94-2.06 2.06-.94-2.06-.94-.94-2.06-.94 2.06-2.06.94z\"/><path d=\"M17.41 7.96l-1.37-1.37c-.4-.4-.92-.59-1.43-.59-.52 0-1.04.2-1.43.59L10.3 9.45l-7.72 7.72c-.78.78-.78 2.05 0 2.83L4 21.41c.39.39.9.59 1.41.59.51 0 1.02-.2 1.41-.59l7.78-7.78 2.81-2.81c.8-.78.8-2.07 0-2.86zM5.41 20L4 18.59l7.72-7.72 1.47 1.35L5.41 20z\"/>\n",
              "  </svg>\n",
              "      </button>\n",
              "      \n",
              "  <style>\n",
              "    .colab-df-container {\n",
              "      display:flex;\n",
              "      flex-wrap:wrap;\n",
              "      gap: 12px;\n",
              "    }\n",
              "\n",
              "    .colab-df-convert {\n",
              "      background-color: #E8F0FE;\n",
              "      border: none;\n",
              "      border-radius: 50%;\n",
              "      cursor: pointer;\n",
              "      display: none;\n",
              "      fill: #1967D2;\n",
              "      height: 32px;\n",
              "      padding: 0 0 0 0;\n",
              "      width: 32px;\n",
              "    }\n",
              "\n",
              "    .colab-df-convert:hover {\n",
              "      background-color: #E2EBFA;\n",
              "      box-shadow: 0px 1px 2px rgba(60, 64, 67, 0.3), 0px 1px 3px 1px rgba(60, 64, 67, 0.15);\n",
              "      fill: #174EA6;\n",
              "    }\n",
              "\n",
              "    [theme=dark] .colab-df-convert {\n",
              "      background-color: #3B4455;\n",
              "      fill: #D2E3FC;\n",
              "    }\n",
              "\n",
              "    [theme=dark] .colab-df-convert:hover {\n",
              "      background-color: #434B5C;\n",
              "      box-shadow: 0px 1px 3px 1px rgba(0, 0, 0, 0.15);\n",
              "      filter: drop-shadow(0px 1px 2px rgba(0, 0, 0, 0.3));\n",
              "      fill: #FFFFFF;\n",
              "    }\n",
              "  </style>\n",
              "\n",
              "      <script>\n",
              "        const buttonEl =\n",
              "          document.querySelector('#df-4af4468d-9c3e-4748-94ff-139647804a7b button.colab-df-convert');\n",
              "        buttonEl.style.display =\n",
              "          google.colab.kernel.accessAllowed ? 'block' : 'none';\n",
              "\n",
              "        async function convertToInteractive(key) {\n",
              "          const element = document.querySelector('#df-4af4468d-9c3e-4748-94ff-139647804a7b');\n",
              "          const dataTable =\n",
              "            await google.colab.kernel.invokeFunction('convertToInteractive',\n",
              "                                                     [key], {});\n",
              "          if (!dataTable) return;\n",
              "\n",
              "          const docLinkHtml = 'Like what you see? Visit the ' +\n",
              "            '<a target=\"_blank\" href=https://colab.research.google.com/notebooks/data_table.ipynb>data table notebook</a>'\n",
              "            + ' to learn more about interactive tables.';\n",
              "          element.innerHTML = '';\n",
              "          dataTable['output_type'] = 'display_data';\n",
              "          await google.colab.output.renderOutput(dataTable, element);\n",
              "          const docLink = document.createElement('div');\n",
              "          docLink.innerHTML = docLinkHtml;\n",
              "          element.appendChild(docLink);\n",
              "        }\n",
              "      </script>\n",
              "    </div>\n",
              "  </div>\n",
              "  "
            ]
          },
          "metadata": {},
          "execution_count": 97
        }
      ]
    },
    {
      "cell_type": "code",
      "source": [
        "trees2"
      ],
      "metadata": {
        "colab": {
          "base_uri": "https://localhost:8080/",
          "height": 269
        },
        "id": "HjOxyElG0Dkv",
        "outputId": "bbfe2afe-7902-4018-8905-b3302d8f0a3b"
      },
      "execution_count": 98,
      "outputs": [
        {
          "output_type": "execute_result",
          "data": {
            "text/plain": [
              "                tree  stvol_count     weight\n",
              "diameter_bins                               \n",
              "до 10           86.0         90.0   7.148571\n",
              "до 20          166.0        218.0  60.541714\n",
              "до 30           51.0         62.0  47.356190\n",
              "до 40           31.0         47.0  72.353143\n",
              "до 50            6.0         10.0  26.747619\n",
              "до 60            1.0          1.0   4.015429"
            ],
            "text/html": [
              "\n",
              "  <div id=\"df-2a00a1ff-ad99-4709-94c2-80688e31f420\">\n",
              "    <div class=\"colab-df-container\">\n",
              "      <div>\n",
              "<style scoped>\n",
              "    .dataframe tbody tr th:only-of-type {\n",
              "        vertical-align: middle;\n",
              "    }\n",
              "\n",
              "    .dataframe tbody tr th {\n",
              "        vertical-align: top;\n",
              "    }\n",
              "\n",
              "    .dataframe thead th {\n",
              "        text-align: right;\n",
              "    }\n",
              "</style>\n",
              "<table border=\"1\" class=\"dataframe\">\n",
              "  <thead>\n",
              "    <tr style=\"text-align: right;\">\n",
              "      <th></th>\n",
              "      <th>tree</th>\n",
              "      <th>stvol_count</th>\n",
              "      <th>weight</th>\n",
              "    </tr>\n",
              "    <tr>\n",
              "      <th>diameter_bins</th>\n",
              "      <th></th>\n",
              "      <th></th>\n",
              "      <th></th>\n",
              "    </tr>\n",
              "  </thead>\n",
              "  <tbody>\n",
              "    <tr>\n",
              "      <th>до 10</th>\n",
              "      <td>86.0</td>\n",
              "      <td>90.0</td>\n",
              "      <td>7.148571</td>\n",
              "    </tr>\n",
              "    <tr>\n",
              "      <th>до 20</th>\n",
              "      <td>166.0</td>\n",
              "      <td>218.0</td>\n",
              "      <td>60.541714</td>\n",
              "    </tr>\n",
              "    <tr>\n",
              "      <th>до 30</th>\n",
              "      <td>51.0</td>\n",
              "      <td>62.0</td>\n",
              "      <td>47.356190</td>\n",
              "    </tr>\n",
              "    <tr>\n",
              "      <th>до 40</th>\n",
              "      <td>31.0</td>\n",
              "      <td>47.0</td>\n",
              "      <td>72.353143</td>\n",
              "    </tr>\n",
              "    <tr>\n",
              "      <th>до 50</th>\n",
              "      <td>6.0</td>\n",
              "      <td>10.0</td>\n",
              "      <td>26.747619</td>\n",
              "    </tr>\n",
              "    <tr>\n",
              "      <th>до 60</th>\n",
              "      <td>1.0</td>\n",
              "      <td>1.0</td>\n",
              "      <td>4.015429</td>\n",
              "    </tr>\n",
              "  </tbody>\n",
              "</table>\n",
              "</div>\n",
              "      <button class=\"colab-df-convert\" onclick=\"convertToInteractive('df-2a00a1ff-ad99-4709-94c2-80688e31f420')\"\n",
              "              title=\"Convert this dataframe to an interactive table.\"\n",
              "              style=\"display:none;\">\n",
              "        \n",
              "  <svg xmlns=\"http://www.w3.org/2000/svg\" height=\"24px\"viewBox=\"0 0 24 24\"\n",
              "       width=\"24px\">\n",
              "    <path d=\"M0 0h24v24H0V0z\" fill=\"none\"/>\n",
              "    <path d=\"M18.56 5.44l.94 2.06.94-2.06 2.06-.94-2.06-.94-.94-2.06-.94 2.06-2.06.94zm-11 1L8.5 8.5l.94-2.06 2.06-.94-2.06-.94L8.5 2.5l-.94 2.06-2.06.94zm10 10l.94 2.06.94-2.06 2.06-.94-2.06-.94-.94-2.06-.94 2.06-2.06.94z\"/><path d=\"M17.41 7.96l-1.37-1.37c-.4-.4-.92-.59-1.43-.59-.52 0-1.04.2-1.43.59L10.3 9.45l-7.72 7.72c-.78.78-.78 2.05 0 2.83L4 21.41c.39.39.9.59 1.41.59.51 0 1.02-.2 1.41-.59l7.78-7.78 2.81-2.81c.8-.78.8-2.07 0-2.86zM5.41 20L4 18.59l7.72-7.72 1.47 1.35L5.41 20z\"/>\n",
              "  </svg>\n",
              "      </button>\n",
              "      \n",
              "  <style>\n",
              "    .colab-df-container {\n",
              "      display:flex;\n",
              "      flex-wrap:wrap;\n",
              "      gap: 12px;\n",
              "    }\n",
              "\n",
              "    .colab-df-convert {\n",
              "      background-color: #E8F0FE;\n",
              "      border: none;\n",
              "      border-radius: 50%;\n",
              "      cursor: pointer;\n",
              "      display: none;\n",
              "      fill: #1967D2;\n",
              "      height: 32px;\n",
              "      padding: 0 0 0 0;\n",
              "      width: 32px;\n",
              "    }\n",
              "\n",
              "    .colab-df-convert:hover {\n",
              "      background-color: #E2EBFA;\n",
              "      box-shadow: 0px 1px 2px rgba(60, 64, 67, 0.3), 0px 1px 3px 1px rgba(60, 64, 67, 0.15);\n",
              "      fill: #174EA6;\n",
              "    }\n",
              "\n",
              "    [theme=dark] .colab-df-convert {\n",
              "      background-color: #3B4455;\n",
              "      fill: #D2E3FC;\n",
              "    }\n",
              "\n",
              "    [theme=dark] .colab-df-convert:hover {\n",
              "      background-color: #434B5C;\n",
              "      box-shadow: 0px 1px 3px 1px rgba(0, 0, 0, 0.15);\n",
              "      filter: drop-shadow(0px 1px 2px rgba(0, 0, 0, 0.3));\n",
              "      fill: #FFFFFF;\n",
              "    }\n",
              "  </style>\n",
              "\n",
              "      <script>\n",
              "        const buttonEl =\n",
              "          document.querySelector('#df-2a00a1ff-ad99-4709-94c2-80688e31f420 button.colab-df-convert');\n",
              "        buttonEl.style.display =\n",
              "          google.colab.kernel.accessAllowed ? 'block' : 'none';\n",
              "\n",
              "        async function convertToInteractive(key) {\n",
              "          const element = document.querySelector('#df-2a00a1ff-ad99-4709-94c2-80688e31f420');\n",
              "          const dataTable =\n",
              "            await google.colab.kernel.invokeFunction('convertToInteractive',\n",
              "                                                     [key], {});\n",
              "          if (!dataTable) return;\n",
              "\n",
              "          const docLinkHtml = 'Like what you see? Visit the ' +\n",
              "            '<a target=\"_blank\" href=https://colab.research.google.com/notebooks/data_table.ipynb>data table notebook</a>'\n",
              "            + ' to learn more about interactive tables.';\n",
              "          element.innerHTML = '';\n",
              "          dataTable['output_type'] = 'display_data';\n",
              "          await google.colab.output.renderOutput(dataTable, element);\n",
              "          const docLink = document.createElement('div');\n",
              "          docLink.innerHTML = docLinkHtml;\n",
              "          element.appendChild(docLink);\n",
              "        }\n",
              "      </script>\n",
              "    </div>\n",
              "  </div>\n",
              "  "
            ]
          },
          "metadata": {},
          "execution_count": 98
        }
      ]
    },
    {
      "cell_type": "code",
      "source": [
        "trees2.stvol_count.sum()"
      ],
      "metadata": {
        "colab": {
          "base_uri": "https://localhost:8080/"
        },
        "id": "kiDSwg_50i-E",
        "outputId": "670b2759-00f8-4a37-ad08-2988b47d32b1"
      },
      "execution_count": 99,
      "outputs": [
        {
          "output_type": "execute_result",
          "data": {
            "text/plain": [
              "428.0"
            ]
          },
          "metadata": {},
          "execution_count": 99
        }
      ]
    },
    {
      "cell_type": "code",
      "source": [
        "trees2.tree.sum()"
      ],
      "metadata": {
        "colab": {
          "base_uri": "https://localhost:8080/"
        },
        "id": "WEQZSOcz0mzb",
        "outputId": "9c9e4c25-6bc1-45e2-8137-511d3260c075"
      },
      "execution_count": 100,
      "outputs": [
        {
          "output_type": "execute_result",
          "data": {
            "text/plain": [
              "341.0"
            ]
          },
          "metadata": {},
          "execution_count": 100
        }
      ]
    },
    {
      "cell_type": "code",
      "source": [
        "tree_weigh = trees.query('diameter_bins == \"total\"')['Тоннаж'].sum()"
      ],
      "metadata": {
        "id": "99AI24SySrsZ"
      },
      "execution_count": 101,
      "outputs": []
    },
    {
      "cell_type": "code",
      "source": [
        "print(f'''Итого вывозимый тоннаж порубочных остатков \n",
        "      {tree_weigh.round(2)} от деревьев, \n",
        "      {bush_weigth} от кустов, \n",
        "      всего {round(tree_weigh + bush_weigth, 2)} тонны''')"
      ],
      "metadata": {
        "colab": {
          "base_uri": "https://localhost:8080/"
        },
        "id": "4TpBI_n97cIv",
        "outputId": "0cd5101f-1854-41c1-e7c1-c018feba3e10"
      },
      "execution_count": 102,
      "outputs": [
        {
          "output_type": "stream",
          "name": "stdout",
          "text": [
            "Итого вывозимый тоннаж порубочных остатков \n",
            "      218.16 от деревьев, \n",
            "      23.275 от кустов, \n",
            "      всего 241.44 тонны\n"
          ]
        }
      ]
    },
    {
      "cell_type": "code",
      "source": [
        "stumps"
      ],
      "metadata": {
        "colab": {
          "base_uri": "https://localhost:8080/",
          "height": 739
        },
        "id": "ZyXOyWdc7nFK",
        "outputId": "99f33258-8a10-4ea0-eb3f-6eb24e1b02da"
      },
      "execution_count": 103,
      "outputs": [
        {
          "output_type": "execute_result",
          "data": {
            "text/plain": [
              "                                             Кол-во пней\n",
              "tree_type               stump_diameter_bins             \n",
              "Мягколиственное/хвойное до 140                       1.0\n",
              "                        до 170                       1.0\n",
              "                        до 20                       34.0\n",
              "                        до 30                       22.0\n",
              "                        до 40                        9.0\n",
              "                        до 50                        6.0\n",
              "                        до 60                        3.0\n",
              "                        до 70                        3.0\n",
              "                        до 90                        1.0\n",
              "Твердолиственное        до 10                        3.0\n",
              "                        до 100                       1.0\n",
              "                        до 120                       2.0\n",
              "                        до 140                       1.0\n",
              "                        до 20                      155.0\n",
              "                        до 30                       37.0\n",
              "                        до 40                       37.0\n",
              "                        до 50                       13.0\n",
              "                        до 60                        3.0\n",
              "                        до 70                        5.0\n",
              "                        до 80                        1.0\n",
              "                        до 90                        3.0"
            ],
            "text/html": [
              "\n",
              "  <div id=\"df-961291dd-5708-435d-81f4-7d61ee10bcf4\">\n",
              "    <div class=\"colab-df-container\">\n",
              "      <div>\n",
              "<style scoped>\n",
              "    .dataframe tbody tr th:only-of-type {\n",
              "        vertical-align: middle;\n",
              "    }\n",
              "\n",
              "    .dataframe tbody tr th {\n",
              "        vertical-align: top;\n",
              "    }\n",
              "\n",
              "    .dataframe thead th {\n",
              "        text-align: right;\n",
              "    }\n",
              "</style>\n",
              "<table border=\"1\" class=\"dataframe\">\n",
              "  <thead>\n",
              "    <tr style=\"text-align: right;\">\n",
              "      <th></th>\n",
              "      <th></th>\n",
              "      <th>Кол-во пней</th>\n",
              "    </tr>\n",
              "    <tr>\n",
              "      <th>tree_type</th>\n",
              "      <th>stump_diameter_bins</th>\n",
              "      <th></th>\n",
              "    </tr>\n",
              "  </thead>\n",
              "  <tbody>\n",
              "    <tr>\n",
              "      <th rowspan=\"9\" valign=\"top\">Мягколиственное/хвойное</th>\n",
              "      <th>до 140</th>\n",
              "      <td>1.0</td>\n",
              "    </tr>\n",
              "    <tr>\n",
              "      <th>до 170</th>\n",
              "      <td>1.0</td>\n",
              "    </tr>\n",
              "    <tr>\n",
              "      <th>до 20</th>\n",
              "      <td>34.0</td>\n",
              "    </tr>\n",
              "    <tr>\n",
              "      <th>до 30</th>\n",
              "      <td>22.0</td>\n",
              "    </tr>\n",
              "    <tr>\n",
              "      <th>до 40</th>\n",
              "      <td>9.0</td>\n",
              "    </tr>\n",
              "    <tr>\n",
              "      <th>до 50</th>\n",
              "      <td>6.0</td>\n",
              "    </tr>\n",
              "    <tr>\n",
              "      <th>до 60</th>\n",
              "      <td>3.0</td>\n",
              "    </tr>\n",
              "    <tr>\n",
              "      <th>до 70</th>\n",
              "      <td>3.0</td>\n",
              "    </tr>\n",
              "    <tr>\n",
              "      <th>до 90</th>\n",
              "      <td>1.0</td>\n",
              "    </tr>\n",
              "    <tr>\n",
              "      <th rowspan=\"12\" valign=\"top\">Твердолиственное</th>\n",
              "      <th>до 10</th>\n",
              "      <td>3.0</td>\n",
              "    </tr>\n",
              "    <tr>\n",
              "      <th>до 100</th>\n",
              "      <td>1.0</td>\n",
              "    </tr>\n",
              "    <tr>\n",
              "      <th>до 120</th>\n",
              "      <td>2.0</td>\n",
              "    </tr>\n",
              "    <tr>\n",
              "      <th>до 140</th>\n",
              "      <td>1.0</td>\n",
              "    </tr>\n",
              "    <tr>\n",
              "      <th>до 20</th>\n",
              "      <td>155.0</td>\n",
              "    </tr>\n",
              "    <tr>\n",
              "      <th>до 30</th>\n",
              "      <td>37.0</td>\n",
              "    </tr>\n",
              "    <tr>\n",
              "      <th>до 40</th>\n",
              "      <td>37.0</td>\n",
              "    </tr>\n",
              "    <tr>\n",
              "      <th>до 50</th>\n",
              "      <td>13.0</td>\n",
              "    </tr>\n",
              "    <tr>\n",
              "      <th>до 60</th>\n",
              "      <td>3.0</td>\n",
              "    </tr>\n",
              "    <tr>\n",
              "      <th>до 70</th>\n",
              "      <td>5.0</td>\n",
              "    </tr>\n",
              "    <tr>\n",
              "      <th>до 80</th>\n",
              "      <td>1.0</td>\n",
              "    </tr>\n",
              "    <tr>\n",
              "      <th>до 90</th>\n",
              "      <td>3.0</td>\n",
              "    </tr>\n",
              "  </tbody>\n",
              "</table>\n",
              "</div>\n",
              "      <button class=\"colab-df-convert\" onclick=\"convertToInteractive('df-961291dd-5708-435d-81f4-7d61ee10bcf4')\"\n",
              "              title=\"Convert this dataframe to an interactive table.\"\n",
              "              style=\"display:none;\">\n",
              "        \n",
              "  <svg xmlns=\"http://www.w3.org/2000/svg\" height=\"24px\"viewBox=\"0 0 24 24\"\n",
              "       width=\"24px\">\n",
              "    <path d=\"M0 0h24v24H0V0z\" fill=\"none\"/>\n",
              "    <path d=\"M18.56 5.44l.94 2.06.94-2.06 2.06-.94-2.06-.94-.94-2.06-.94 2.06-2.06.94zm-11 1L8.5 8.5l.94-2.06 2.06-.94-2.06-.94L8.5 2.5l-.94 2.06-2.06.94zm10 10l.94 2.06.94-2.06 2.06-.94-2.06-.94-.94-2.06-.94 2.06-2.06.94z\"/><path d=\"M17.41 7.96l-1.37-1.37c-.4-.4-.92-.59-1.43-.59-.52 0-1.04.2-1.43.59L10.3 9.45l-7.72 7.72c-.78.78-.78 2.05 0 2.83L4 21.41c.39.39.9.59 1.41.59.51 0 1.02-.2 1.41-.59l7.78-7.78 2.81-2.81c.8-.78.8-2.07 0-2.86zM5.41 20L4 18.59l7.72-7.72 1.47 1.35L5.41 20z\"/>\n",
              "  </svg>\n",
              "      </button>\n",
              "      \n",
              "  <style>\n",
              "    .colab-df-container {\n",
              "      display:flex;\n",
              "      flex-wrap:wrap;\n",
              "      gap: 12px;\n",
              "    }\n",
              "\n",
              "    .colab-df-convert {\n",
              "      background-color: #E8F0FE;\n",
              "      border: none;\n",
              "      border-radius: 50%;\n",
              "      cursor: pointer;\n",
              "      display: none;\n",
              "      fill: #1967D2;\n",
              "      height: 32px;\n",
              "      padding: 0 0 0 0;\n",
              "      width: 32px;\n",
              "    }\n",
              "\n",
              "    .colab-df-convert:hover {\n",
              "      background-color: #E2EBFA;\n",
              "      box-shadow: 0px 1px 2px rgba(60, 64, 67, 0.3), 0px 1px 3px 1px rgba(60, 64, 67, 0.15);\n",
              "      fill: #174EA6;\n",
              "    }\n",
              "\n",
              "    [theme=dark] .colab-df-convert {\n",
              "      background-color: #3B4455;\n",
              "      fill: #D2E3FC;\n",
              "    }\n",
              "\n",
              "    [theme=dark] .colab-df-convert:hover {\n",
              "      background-color: #434B5C;\n",
              "      box-shadow: 0px 1px 3px 1px rgba(0, 0, 0, 0.15);\n",
              "      filter: drop-shadow(0px 1px 2px rgba(0, 0, 0, 0.3));\n",
              "      fill: #FFFFFF;\n",
              "    }\n",
              "  </style>\n",
              "\n",
              "      <script>\n",
              "        const buttonEl =\n",
              "          document.querySelector('#df-961291dd-5708-435d-81f4-7d61ee10bcf4 button.colab-df-convert');\n",
              "        buttonEl.style.display =\n",
              "          google.colab.kernel.accessAllowed ? 'block' : 'none';\n",
              "\n",
              "        async function convertToInteractive(key) {\n",
              "          const element = document.querySelector('#df-961291dd-5708-435d-81f4-7d61ee10bcf4');\n",
              "          const dataTable =\n",
              "            await google.colab.kernel.invokeFunction('convertToInteractive',\n",
              "                                                     [key], {});\n",
              "          if (!dataTable) return;\n",
              "\n",
              "          const docLinkHtml = 'Like what you see? Visit the ' +\n",
              "            '<a target=\"_blank\" href=https://colab.research.google.com/notebooks/data_table.ipynb>data table notebook</a>'\n",
              "            + ' to learn more about interactive tables.';\n",
              "          element.innerHTML = '';\n",
              "          dataTable['output_type'] = 'display_data';\n",
              "          await google.colab.output.renderOutput(dataTable, element);\n",
              "          const docLink = document.createElement('div');\n",
              "          docLink.innerHTML = docLinkHtml;\n",
              "          element.appendChild(docLink);\n",
              "        }\n",
              "      </script>\n",
              "    </div>\n",
              "  </div>\n",
              "  "
            ]
          },
          "metadata": {},
          "execution_count": 103
        }
      ]
    },
    {
      "cell_type": "code",
      "source": [],
      "metadata": {
        "id": "UB18MF-61Hd2"
      },
      "execution_count": null,
      "outputs": []
    }
  ]
}