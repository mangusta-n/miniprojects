{
 "cells": [
  {
   "cell_type": "markdown",
   "metadata": {
    "id": "mJeJgoTXpCwd"
   },
   "source": [
    "## Загрузка и предобработка файла"
   ]
  },
  {
   "cell_type": "code",
   "execution_count": 1,
   "metadata": {
    "id": "Az1XTdd5oX9m"
   },
   "outputs": [],
   "source": [
    "import pandas as pd"
   ]
  },
  {
   "cell_type": "markdown",
   "metadata": {
    "id": "AOIUS4wGtnHl"
   },
   "source": [
    "https://drive.google.com/file/d/1hAgbwKURl8yLgMDiTrB-T_V5tg3SqQTn/view?usp=sharing"
   ]
  },
  {
   "cell_type": "code",
   "execution_count": 2,
   "metadata": {
    "colab": {
     "base_uri": "https://localhost:8080/"
    },
    "id": "v77rw0muofCt",
    "outputId": "0a57487f-1a6f-43f7-f657-e259c6c41ce9"
   },
   "outputs": [],
   "source": [
    "#! gdown --id 1hAgbwKURl8yLgMDiTrB-T_V5tg3SqQTn\n"
   ]
  },
  {
   "cell_type": "code",
   "execution_count": 3,
   "metadata": {
    "id": "0Y_r_Wjjorti"
   },
   "outputs": [],
   "source": [
    "df = pd.read_csv('perechetka_seti.csv', sep=';')"
   ]
  },
  {
   "cell_type": "code",
   "execution_count": 4,
   "metadata": {
    "colab": {
     "base_uri": "https://localhost:8080/",
     "height": 206
    },
    "id": "f1pSXc18pTEJ",
    "outputId": "96a1385b-69f4-42bf-ed9a-80038173004d"
   },
   "outputs": [
    {
     "data": {
      "text/html": [
       "<div>\n",
       "<style scoped>\n",
       "    .dataframe tbody tr th:only-of-type {\n",
       "        vertical-align: middle;\n",
       "    }\n",
       "\n",
       "    .dataframe tbody tr th {\n",
       "        vertical-align: top;\n",
       "    }\n",
       "\n",
       "    .dataframe thead th {\n",
       "        text-align: right;\n",
       "    }\n",
       "</style>\n",
       "<table border=\"1\" class=\"dataframe\">\n",
       "  <thead>\n",
       "    <tr style=\"text-align: right;\">\n",
       "      <th></th>\n",
       "      <th>number</th>\n",
       "      <th>type</th>\n",
       "      <th>tree</th>\n",
       "      <th>bush</th>\n",
       "      <th>diameter</th>\n",
       "      <th>height</th>\n",
       "      <th>description</th>\n",
       "      <th>action</th>\n",
       "    </tr>\n",
       "  </thead>\n",
       "  <tbody>\n",
       "    <tr>\n",
       "      <th>0</th>\n",
       "      <td>3</td>\n",
       "      <td>Сосна</td>\n",
       "      <td>1.0</td>\n",
       "      <td>NaN</td>\n",
       "      <td>56</td>\n",
       "      <td>NaN</td>\n",
       "      <td>ствол наклонен</td>\n",
       "      <td>Вырубить</td>\n",
       "    </tr>\n",
       "    <tr>\n",
       "      <th>1</th>\n",
       "      <td>4</td>\n",
       "      <td>Сосна</td>\n",
       "      <td>1.0</td>\n",
       "      <td>NaN</td>\n",
       "      <td>40</td>\n",
       "      <td>NaN</td>\n",
       "      <td>NaN</td>\n",
       "      <td>Вырубить</td>\n",
       "    </tr>\n",
       "    <tr>\n",
       "      <th>2</th>\n",
       "      <td>10</td>\n",
       "      <td>Сосна</td>\n",
       "      <td>1.0</td>\n",
       "      <td>NaN</td>\n",
       "      <td>26</td>\n",
       "      <td>NaN</td>\n",
       "      <td>NaN</td>\n",
       "      <td>Сохранить</td>\n",
       "    </tr>\n",
       "    <tr>\n",
       "      <th>3</th>\n",
       "      <td>11</td>\n",
       "      <td>Сосна</td>\n",
       "      <td>1.0</td>\n",
       "      <td>NaN</td>\n",
       "      <td>26</td>\n",
       "      <td>NaN</td>\n",
       "      <td>NaN</td>\n",
       "      <td>Сохранить</td>\n",
       "    </tr>\n",
       "    <tr>\n",
       "      <th>4</th>\n",
       "      <td>12</td>\n",
       "      <td>Сосна</td>\n",
       "      <td>1.0</td>\n",
       "      <td>NaN</td>\n",
       "      <td>10</td>\n",
       "      <td>NaN</td>\n",
       "      <td>NaN</td>\n",
       "      <td>Сохранить</td>\n",
       "    </tr>\n",
       "  </tbody>\n",
       "</table>\n",
       "</div>"
      ],
      "text/plain": [
       "   number   type  tree  bush diameter  height     description     action\n",
       "0       3  Сосна   1.0   NaN       56     NaN  ствол наклонен   Вырубить\n",
       "1       4  Сосна   1.0   NaN       40     NaN             NaN   Вырубить\n",
       "2      10  Сосна   1.0   NaN       26     NaN             NaN  Сохранить\n",
       "3      11  Сосна   1.0   NaN       26     NaN             NaN  Сохранить\n",
       "4      12  Сосна   1.0   NaN       10     NaN             NaN  Сохранить"
      ]
     },
     "execution_count": 4,
     "metadata": {},
     "output_type": "execute_result"
    }
   ],
   "source": [
    "df.head()"
   ]
  },
  {
   "cell_type": "code",
   "execution_count": 5,
   "metadata": {
    "colab": {
     "base_uri": "https://localhost:8080/"
    },
    "id": "XgMMd_8uulH4",
    "outputId": "4bfb7cd4-be7a-45c8-ad86-62e6cdffda93"
   },
   "outputs": [
    {
     "name": "stdout",
     "output_type": "stream",
     "text": [
      "<class 'pandas.core.frame.DataFrame'>\n",
      "RangeIndex: 1215 entries, 0 to 1214\n",
      "Data columns (total 8 columns):\n",
      " #   Column       Non-Null Count  Dtype  \n",
      "---  ------       --------------  -----  \n",
      " 0   number       1215 non-null   int64  \n",
      " 1   type         1215 non-null   object \n",
      " 2   tree         1120 non-null   float64\n",
      " 3   bush         64 non-null     float64\n",
      " 4   diameter     1150 non-null   object \n",
      " 5   height       0 non-null      float64\n",
      " 6   description  463 non-null    object \n",
      " 7   action       1215 non-null   object \n",
      "dtypes: float64(3), int64(1), object(4)\n",
      "memory usage: 76.1+ KB\n"
     ]
    }
   ],
   "source": [
    "df.info()"
   ]
  },
  {
   "cell_type": "markdown",
   "metadata": {
    "id": "RQslfnBUxQwd"
   },
   "source": [
    "В столбцах tree и bush есть пропуски - это специфика данных, в tree отмечено количество только деревьев, bush соответственно кустов"
   ]
  },
  {
   "cell_type": "code",
   "execution_count": 6,
   "metadata": {
    "colab": {
     "base_uri": "https://localhost:8080/"
    },
    "id": "SVZWwBg7w8LY",
    "outputId": "a0980f14-4482-4d48-f50a-cef2b89f31d9"
   },
   "outputs": [
    {
     "data": {
      "text/plain": [
       "1.0    1115\n",
       "2.0       4\n",
       "3.0       1\n",
       "Name: tree, dtype: int64"
      ]
     },
     "execution_count": 6,
     "metadata": {},
     "output_type": "execute_result"
    }
   ],
   "source": [
    "df.tree.value_counts()"
   ]
  },
  {
   "cell_type": "code",
   "execution_count": 7,
   "metadata": {
    "id": "-drsWUYXxqc_"
   },
   "outputs": [],
   "source": [
    "df['tree'] = pd.to_numeric(df['tree'], errors='coerce')\n",
    "df['bush'] = pd.to_numeric(df['bush'], errors='coerce')\n"
   ]
  },
  {
   "cell_type": "code",
   "execution_count": 8,
   "metadata": {
    "colab": {
     "base_uri": "https://localhost:8080/",
     "height": 99
    },
    "id": "DnQRYqmVvC4p",
    "outputId": "573d3542-1b2e-4b16-a3d6-e45495bf9040"
   },
   "outputs": [
    {
     "data": {
      "text/plain": [
       "'Общее количество деревьев и кустарников'"
      ]
     },
     "metadata": {},
     "output_type": "display_data"
    },
    {
     "data": {
      "text/html": [
       "<div>\n",
       "<style scoped>\n",
       "    .dataframe tbody tr th:only-of-type {\n",
       "        vertical-align: middle;\n",
       "    }\n",
       "\n",
       "    .dataframe tbody tr th {\n",
       "        vertical-align: top;\n",
       "    }\n",
       "\n",
       "    .dataframe thead th {\n",
       "        text-align: right;\n",
       "    }\n",
       "</style>\n",
       "<table border=\"1\" class=\"dataframe\">\n",
       "  <thead>\n",
       "    <tr style=\"text-align: right;\">\n",
       "      <th></th>\n",
       "      <th>action</th>\n",
       "      <th>tree</th>\n",
       "      <th>bush</th>\n",
       "    </tr>\n",
       "  </thead>\n",
       "  <tbody>\n",
       "    <tr>\n",
       "      <th>0</th>\n",
       "      <td>Вырубить</td>\n",
       "      <td>823.0</td>\n",
       "      <td>37.0</td>\n",
       "    </tr>\n",
       "    <tr>\n",
       "      <th>1</th>\n",
       "      <td>Сохранить</td>\n",
       "      <td>300.0</td>\n",
       "      <td>212.0</td>\n",
       "    </tr>\n",
       "    <tr>\n",
       "      <th>2</th>\n",
       "      <td>вырубить</td>\n",
       "      <td>3.0</td>\n",
       "      <td>0.0</td>\n",
       "    </tr>\n",
       "  </tbody>\n",
       "</table>\n",
       "</div>"
      ],
      "text/plain": [
       "      action   tree   bush\n",
       "0   Вырубить  823.0   37.0\n",
       "1  Сохранить  300.0  212.0\n",
       "2   вырубить    3.0    0.0"
      ]
     },
     "execution_count": 8,
     "metadata": {},
     "output_type": "execute_result"
    }
   ],
   "source": [
    "display('Общее количество деревьев и кустарников')\n",
    "df.groupby('action', as_index=False)[['tree', 'bush']].sum()"
   ]
  },
  {
   "cell_type": "markdown",
   "metadata": {
    "id": "HJ2ecY9Y4Sp2"
   },
   "source": [
    "##Получение данных"
   ]
  },
  {
   "cell_type": "markdown",
   "metadata": {
    "id": "jlKeDwl30k-e"
   },
   "source": [
    "Тут только вырубка (еще бывает пересадка и сохранение). Значит для расчетов нам нужны следующие данные: \n",
    "1. количество поросли и кустарников, \n",
    "2. количество деревьев твердолиственных и мягколиственных, \n",
    "3. количество деревьев по группам (диаметр от 1 до 10, от 11 до 20 и тд), \n",
    "4. является ли дерево многоствольным, число стволов, \n",
    "5. диаметр пня. Если указно несколько диаметров, берем бОльший. Диаметр пня у многоствольных больше. \n",
    "6. Количество вывозимых порубочных остатков"
   ]
  },
  {
   "cell_type": "markdown",
   "metadata": {
    "id": "DgEuEbuUNSY4"
   },
   "source": [
    "###Кустарники"
   ]
  },
  {
   "cell_type": "code",
   "execution_count": 10,
   "metadata": {
    "id": "T0cn4BTL3Am8"
   },
   "outputs": [],
   "source": [
    "def chop_bush_counter(df):\n",
    "  try:\n",
    "    df_bush = df[(~df.bush.isna()) & (df.action == 'Вырубить')]\\\n",
    "          [['type', 'bush', 'height', 'description']]\n",
    "    df_bush['bush_cat'] = df['type'].apply(lambda x: '1поросль' if x == 'поросль' else '2куст')\n",
    "    df_bush_to_chop = df_bush.groupby('bush_cat', as_index=False)[['bush']].sum()\n",
    "    return df_bush_to_chop\n",
    "  except:\n",
    "    print('Ошибочка')"
   ]
  },
  {
   "cell_type": "code",
   "execution_count": 11,
   "metadata": {
    "id": "n9V3OlC2zxw7"
   },
   "outputs": [],
   "source": [
    "df_bush_to_chop = chop_bush_counter(df)"
   ]
  },
  {
   "cell_type": "code",
   "execution_count": 12,
   "metadata": {
    "colab": {
     "base_uri": "https://localhost:8080/",
     "height": 112
    },
    "id": "MaFT_xXqK-dz",
    "outputId": "0f6a0ba9-23c3-4c61-caa6-a96055c257d5"
   },
   "outputs": [
    {
     "data": {
      "text/html": [
       "\n",
       "  <div id=\"df-c83959c8-3ec5-4aae-820d-4ec1954d2775\">\n",
       "    <div class=\"colab-df-container\">\n",
       "      <div>\n",
       "<style scoped>\n",
       "    .dataframe tbody tr th:only-of-type {\n",
       "        vertical-align: middle;\n",
       "    }\n",
       "\n",
       "    .dataframe tbody tr th {\n",
       "        vertical-align: top;\n",
       "    }\n",
       "\n",
       "    .dataframe thead th {\n",
       "        text-align: right;\n",
       "    }\n",
       "</style>\n",
       "<table border=\"1\" class=\"dataframe\">\n",
       "  <thead>\n",
       "    <tr style=\"text-align: right;\">\n",
       "      <th></th>\n",
       "      <th>bush_cat</th>\n",
       "      <th>bush</th>\n",
       "    </tr>\n",
       "  </thead>\n",
       "  <tbody>\n",
       "    <tr>\n",
       "      <th>0</th>\n",
       "      <td>1поросль</td>\n",
       "      <td>845.0</td>\n",
       "    </tr>\n",
       "    <tr>\n",
       "      <th>1</th>\n",
       "      <td>2куст</td>\n",
       "      <td>43.0</td>\n",
       "    </tr>\n",
       "  </tbody>\n",
       "</table>\n",
       "</div>\n",
       "      <button class=\"colab-df-convert\" onclick=\"convertToInteractive('df-c83959c8-3ec5-4aae-820d-4ec1954d2775')\"\n",
       "              title=\"Convert this dataframe to an interactive table.\"\n",
       "              style=\"display:none;\">\n",
       "        \n",
       "  <svg xmlns=\"http://www.w3.org/2000/svg\" height=\"24px\"viewBox=\"0 0 24 24\"\n",
       "       width=\"24px\">\n",
       "    <path d=\"M0 0h24v24H0V0z\" fill=\"none\"/>\n",
       "    <path d=\"M18.56 5.44l.94 2.06.94-2.06 2.06-.94-2.06-.94-.94-2.06-.94 2.06-2.06.94zm-11 1L8.5 8.5l.94-2.06 2.06-.94-2.06-.94L8.5 2.5l-.94 2.06-2.06.94zm10 10l.94 2.06.94-2.06 2.06-.94-2.06-.94-.94-2.06-.94 2.06-2.06.94z\"/><path d=\"M17.41 7.96l-1.37-1.37c-.4-.4-.92-.59-1.43-.59-.52 0-1.04.2-1.43.59L10.3 9.45l-7.72 7.72c-.78.78-.78 2.05 0 2.83L4 21.41c.39.39.9.59 1.41.59.51 0 1.02-.2 1.41-.59l7.78-7.78 2.81-2.81c.8-.78.8-2.07 0-2.86zM5.41 20L4 18.59l7.72-7.72 1.47 1.35L5.41 20z\"/>\n",
       "  </svg>\n",
       "      </button>\n",
       "      \n",
       "  <style>\n",
       "    .colab-df-container {\n",
       "      display:flex;\n",
       "      flex-wrap:wrap;\n",
       "      gap: 12px;\n",
       "    }\n",
       "\n",
       "    .colab-df-convert {\n",
       "      background-color: #E8F0FE;\n",
       "      border: none;\n",
       "      border-radius: 50%;\n",
       "      cursor: pointer;\n",
       "      display: none;\n",
       "      fill: #1967D2;\n",
       "      height: 32px;\n",
       "      padding: 0 0 0 0;\n",
       "      width: 32px;\n",
       "    }\n",
       "\n",
       "    .colab-df-convert:hover {\n",
       "      background-color: #E2EBFA;\n",
       "      box-shadow: 0px 1px 2px rgba(60, 64, 67, 0.3), 0px 1px 3px 1px rgba(60, 64, 67, 0.15);\n",
       "      fill: #174EA6;\n",
       "    }\n",
       "\n",
       "    [theme=dark] .colab-df-convert {\n",
       "      background-color: #3B4455;\n",
       "      fill: #D2E3FC;\n",
       "    }\n",
       "\n",
       "    [theme=dark] .colab-df-convert:hover {\n",
       "      background-color: #434B5C;\n",
       "      box-shadow: 0px 1px 3px 1px rgba(0, 0, 0, 0.15);\n",
       "      filter: drop-shadow(0px 1px 2px rgba(0, 0, 0, 0.3));\n",
       "      fill: #FFFFFF;\n",
       "    }\n",
       "  </style>\n",
       "\n",
       "      <script>\n",
       "        const buttonEl =\n",
       "          document.querySelector('#df-c83959c8-3ec5-4aae-820d-4ec1954d2775 button.colab-df-convert');\n",
       "        buttonEl.style.display =\n",
       "          google.colab.kernel.accessAllowed ? 'block' : 'none';\n",
       "\n",
       "        async function convertToInteractive(key) {\n",
       "          const element = document.querySelector('#df-c83959c8-3ec5-4aae-820d-4ec1954d2775');\n",
       "          const dataTable =\n",
       "            await google.colab.kernel.invokeFunction('convertToInteractive',\n",
       "                                                     [key], {});\n",
       "          if (!dataTable) return;\n",
       "\n",
       "          const docLinkHtml = 'Like what you see? Visit the ' +\n",
       "            '<a target=\"_blank\" href=https://colab.research.google.com/notebooks/data_table.ipynb>data table notebook</a>'\n",
       "            + ' to learn more about interactive tables.';\n",
       "          element.innerHTML = '';\n",
       "          dataTable['output_type'] = 'display_data';\n",
       "          await google.colab.output.renderOutput(dataTable, element);\n",
       "          const docLink = document.createElement('div');\n",
       "          docLink.innerHTML = docLinkHtml;\n",
       "          element.appendChild(docLink);\n",
       "        }\n",
       "      </script>\n",
       "    </div>\n",
       "  </div>\n",
       "  "
      ],
      "text/plain": [
       "   bush_cat   bush\n",
       "0  1поросль  845.0\n",
       "1     2куст   43.0"
      ]
     },
     "execution_count": 12,
     "metadata": {},
     "output_type": "execute_result"
    }
   ],
   "source": [
    "df_bush_to_chop"
   ]
  },
  {
   "cell_type": "code",
   "execution_count": 38,
   "metadata": {
    "id": "DrIhvMrvLamY"
   },
   "outputs": [],
   "source": [
    "bush_weigth = df_bush_to_chop.bush[0]*0.025 + df_bush_to_chop.bush[1]*0.05"
   ]
  },
  {
   "cell_type": "code",
   "execution_count": 39,
   "metadata": {
    "colab": {
     "base_uri": "https://localhost:8080/"
    },
    "id": "1ME04yk2LC8A",
    "outputId": "a2ab3de4-3cb3-480e-fda7-35ebdf339415"
   },
   "outputs": [
    {
     "name": "stdout",
     "output_type": "stream",
     "text": [
      "Общее количество кустов 888.0, вес порубочных остатков 23.275 т.\n"
     ]
    }
   ],
   "source": [
    "print(f'Общее количество кустов {df_bush_to_chop.bush.sum()}, вес порубочных остатков {bush_weigth} т.')"
   ]
  },
  {
   "cell_type": "markdown",
   "metadata": {
    "id": "N9B99wEVNWNN"
   },
   "source": [
    "###Деревья"
   ]
  },
  {
   "cell_type": "markdown",
   "metadata": {
    "id": "hH3F4G07NZwW"
   },
   "source": [
    "Сначала выделим некоторые вспомогательные функции: деление на группы, подсчет ствольности, деление на категории по твердости древесины, и впомогательные данные по весу в тоннах относительно диаметра ствола"
   ]
  },
  {
   "cell_type": "code",
   "execution_count": 77,
   "metadata": {
    "id": "f24EoDo418kL"
   },
   "outputs": [],
   "source": [
    "#ствольность обычно указана в комментарии\n",
    "def is_mnogostv(row):\n",
    "  for i in range(5, 0, -1):\n",
    "    if str(i)+' с' in row:\n",
    "        return int(i)\n",
    "  return 1   "
   ]
  },
  {
   "cell_type": "code",
   "execution_count": 78,
   "metadata": {
    "id": "dJ8HyiRJ8bhv"
   },
   "outputs": [],
   "source": [
    "def tree_type(row):\n",
    "  tverd_types = ['Клен', 'Бук', 'Орех', 'Ясень' , 'Яблоня', 'Вишня', \n",
    "           'Сухостой', 'Самосев', 'Рябина', 'Акация']\n",
    "  for tree_type in tverd_types:\n",
    "    if tree_type.lower() in row.lower():\n",
    "      return 'Твердолиственное'\n",
    "  return 'Мягколиственное/хвойное'"
   ]
  },
  {
   "cell_type": "code",
   "execution_count": 79,
   "metadata": {
    "id": "V1MmBU6G-zhz"
   },
   "outputs": [],
   "source": [
    "def diameter_bins(row):\n",
    "  return f'до {row // 10 + 1}0'"
   ]
  },
  {
   "cell_type": "code",
   "execution_count": 80,
   "metadata": {
    "id": "r7099ISU-jsA"
   },
   "outputs": [],
   "source": [
    "df_mass = {'до 10' : 0.0794285714285714, \n",
    "           'до 20' : 0.277714285714286, \n",
    "           'до 30' : 0.763809523809524, \n",
    "           'до 40' : 1.53942857142857, \n",
    "           'до 50' : 2.67476190476191, \n",
    "           'до 60' : 4.01542857142857, \n",
    "           'до 70' : 6.57371428571429, \n",
    "           'до 80' : 8.21714285714286, \n",
    "           'до 90' : 10.6822857142857, \n",
    "           'поросль' : 0.05, \n",
    "           'куст' : 0.01}"
   ]
  },
  {
   "cell_type": "markdown",
   "metadata": {
    "id": "ZTEvvV4ROHOy"
   },
   "source": [
    "А теперь собственно функция, которая посчитает нам итоговую таблицу c количеством деревьев по категориям и диаметром и количеством порубочных остатков (а также диаметры пней для корчевки)."
   ]
  },
  {
   "cell_type": "code",
   "execution_count": 95,
   "metadata": {
    "id": "JuTici6yOM5l"
   },
   "outputs": [],
   "source": [
    "def chop_tree_counter(df):\n",
    "  try:\n",
    "    df_tree = df[(df.bush.isna()) & (df.action == 'Вырубить')]\\\n",
    "              [['type', 'tree', 'diameter', 'height', 'description']]\n",
    "    df_tree['stvol'] = df.description.apply(is_mnogostv)\n",
    "    df_tree['diameter'] = df_tree['diameter'].apply(lambda x: int(str(x).split('-')[-1]))\n",
    "    df_tree['stvol_count'] = df_tree['stvol'] * df_tree['tree']\n",
    "    df_tree['stump_diameter'] = df_tree['diameter'] * df_tree['stvol'] + 5\n",
    "    df_tree['tree_type'] = df_tree['type'].apply(tree_type)\n",
    "    df_tree['diameter_bins'] = df_tree['diameter'].apply(diameter_bins)\n",
    "    df_tree['stump_diameter_bins'] = df_tree['stump_diameter'].apply(diameter_bins)\n",
    "    df_tree['weight'] = df_tree['diameter_bins'].map(df_mass) * df_tree['stvol_count']\n",
    "    df_tree_grouped = df_tree.groupby(['tree_type', 'diameter_bins'])\\\n",
    "              [['tree', 'stvol_count', 'weight']].sum()\n",
    "    df_tree_trees = (pd.concat([df_tree_grouped,\n",
    "           df_tree_grouped.groupby(level=0).sum()\n",
    "           .assign(claim_type= \"total\")\n",
    "           .set_index('claim_type', append=True)]).sort_index()\n",
    "           .rename(columns={'tree':'Кол-во деревьев', \n",
    "                            'stvol_count': 'Кол-во стволов',\n",
    "                            'weight': 'Тоннаж'}))\n",
    "    df_tree_grouped_diam = df_tree.groupby('diameter_bins')\\\n",
    "              [['tree', 'stvol_count', 'weight']].sum()\n",
    "    \n",
    "    df_stumps = (df_tree.groupby(['tree_type', 'stump_diameter_bins'])[['tree']].sum()\n",
    "                .rename(columns={'tree':'Кол-во пней'}))\n",
    "    return df_tree_trees, df_stumps, df_tree_grouped_diam\n",
    "  except:\n",
    "    print('Ошибочка')"
   ]
  },
  {
   "cell_type": "code",
   "execution_count": 96,
   "metadata": {
    "id": "AQct1Cs21aD2"
   },
   "outputs": [],
   "source": [
    "trees, stumps, trees2 = chop_tree_counter(df)"
   ]
  },
  {
   "cell_type": "code",
   "execution_count": 97,
   "metadata": {
    "colab": {
     "base_uri": "https://localhost:8080/",
     "height": 488
    },
    "id": "QlQhzPds2k63",
    "outputId": "30b8b59d-a76e-4157-8776-1b3edf489a6d"
   },
   "outputs": [
    {
     "data": {
      "text/html": [
       "\n",
       "  <div id=\"df-4af4468d-9c3e-4748-94ff-139647804a7b\">\n",
       "    <div class=\"colab-df-container\">\n",
       "      <div>\n",
       "<style scoped>\n",
       "    .dataframe tbody tr th:only-of-type {\n",
       "        vertical-align: middle;\n",
       "    }\n",
       "\n",
       "    .dataframe tbody tr th {\n",
       "        vertical-align: top;\n",
       "    }\n",
       "\n",
       "    .dataframe thead th {\n",
       "        text-align: right;\n",
       "    }\n",
       "</style>\n",
       "<table border=\"1\" class=\"dataframe\">\n",
       "  <thead>\n",
       "    <tr style=\"text-align: right;\">\n",
       "      <th></th>\n",
       "      <th></th>\n",
       "      <th>Кол-во деревьев</th>\n",
       "      <th>Кол-во стволов</th>\n",
       "      <th>Тоннаж</th>\n",
       "    </tr>\n",
       "    <tr>\n",
       "      <th>tree_type</th>\n",
       "      <th>diameter_bins</th>\n",
       "      <th></th>\n",
       "      <th></th>\n",
       "      <th></th>\n",
       "    </tr>\n",
       "  </thead>\n",
       "  <tbody>\n",
       "    <tr>\n",
       "      <th rowspan=\"7\" valign=\"top\">Мягколиственное/хвойное</th>\n",
       "      <th>total</th>\n",
       "      <td>80.0</td>\n",
       "      <td>121.0</td>\n",
       "      <td>65.614762</td>\n",
       "    </tr>\n",
       "    <tr>\n",
       "      <th>до 10</th>\n",
       "      <td>4.0</td>\n",
       "      <td>6.0</td>\n",
       "      <td>0.476571</td>\n",
       "    </tr>\n",
       "    <tr>\n",
       "      <th>до 20</th>\n",
       "      <td>58.0</td>\n",
       "      <td>89.0</td>\n",
       "      <td>24.716571</td>\n",
       "    </tr>\n",
       "    <tr>\n",
       "      <th>до 30</th>\n",
       "      <td>8.0</td>\n",
       "      <td>10.0</td>\n",
       "      <td>7.638095</td>\n",
       "    </tr>\n",
       "    <tr>\n",
       "      <th>до 40</th>\n",
       "      <td>7.0</td>\n",
       "      <td>10.0</td>\n",
       "      <td>15.394286</td>\n",
       "    </tr>\n",
       "    <tr>\n",
       "      <th>до 50</th>\n",
       "      <td>2.0</td>\n",
       "      <td>5.0</td>\n",
       "      <td>13.373810</td>\n",
       "    </tr>\n",
       "    <tr>\n",
       "      <th>до 60</th>\n",
       "      <td>1.0</td>\n",
       "      <td>1.0</td>\n",
       "      <td>4.015429</td>\n",
       "    </tr>\n",
       "    <tr>\n",
       "      <th rowspan=\"6\" valign=\"top\">Твердолиственное</th>\n",
       "      <th>total</th>\n",
       "      <td>261.0</td>\n",
       "      <td>307.0</td>\n",
       "      <td>152.547905</td>\n",
       "    </tr>\n",
       "    <tr>\n",
       "      <th>до 10</th>\n",
       "      <td>82.0</td>\n",
       "      <td>84.0</td>\n",
       "      <td>6.672000</td>\n",
       "    </tr>\n",
       "    <tr>\n",
       "      <th>до 20</th>\n",
       "      <td>108.0</td>\n",
       "      <td>129.0</td>\n",
       "      <td>35.825143</td>\n",
       "    </tr>\n",
       "    <tr>\n",
       "      <th>до 30</th>\n",
       "      <td>43.0</td>\n",
       "      <td>52.0</td>\n",
       "      <td>39.718095</td>\n",
       "    </tr>\n",
       "    <tr>\n",
       "      <th>до 40</th>\n",
       "      <td>24.0</td>\n",
       "      <td>37.0</td>\n",
       "      <td>56.958857</td>\n",
       "    </tr>\n",
       "    <tr>\n",
       "      <th>до 50</th>\n",
       "      <td>4.0</td>\n",
       "      <td>5.0</td>\n",
       "      <td>13.373810</td>\n",
       "    </tr>\n",
       "  </tbody>\n",
       "</table>\n",
       "</div>\n",
       "      <button class=\"colab-df-convert\" onclick=\"convertToInteractive('df-4af4468d-9c3e-4748-94ff-139647804a7b')\"\n",
       "              title=\"Convert this dataframe to an interactive table.\"\n",
       "              style=\"display:none;\">\n",
       "        \n",
       "  <svg xmlns=\"http://www.w3.org/2000/svg\" height=\"24px\"viewBox=\"0 0 24 24\"\n",
       "       width=\"24px\">\n",
       "    <path d=\"M0 0h24v24H0V0z\" fill=\"none\"/>\n",
       "    <path d=\"M18.56 5.44l.94 2.06.94-2.06 2.06-.94-2.06-.94-.94-2.06-.94 2.06-2.06.94zm-11 1L8.5 8.5l.94-2.06 2.06-.94-2.06-.94L8.5 2.5l-.94 2.06-2.06.94zm10 10l.94 2.06.94-2.06 2.06-.94-2.06-.94-.94-2.06-.94 2.06-2.06.94z\"/><path d=\"M17.41 7.96l-1.37-1.37c-.4-.4-.92-.59-1.43-.59-.52 0-1.04.2-1.43.59L10.3 9.45l-7.72 7.72c-.78.78-.78 2.05 0 2.83L4 21.41c.39.39.9.59 1.41.59.51 0 1.02-.2 1.41-.59l7.78-7.78 2.81-2.81c.8-.78.8-2.07 0-2.86zM5.41 20L4 18.59l7.72-7.72 1.47 1.35L5.41 20z\"/>\n",
       "  </svg>\n",
       "      </button>\n",
       "      \n",
       "  <style>\n",
       "    .colab-df-container {\n",
       "      display:flex;\n",
       "      flex-wrap:wrap;\n",
       "      gap: 12px;\n",
       "    }\n",
       "\n",
       "    .colab-df-convert {\n",
       "      background-color: #E8F0FE;\n",
       "      border: none;\n",
       "      border-radius: 50%;\n",
       "      cursor: pointer;\n",
       "      display: none;\n",
       "      fill: #1967D2;\n",
       "      height: 32px;\n",
       "      padding: 0 0 0 0;\n",
       "      width: 32px;\n",
       "    }\n",
       "\n",
       "    .colab-df-convert:hover {\n",
       "      background-color: #E2EBFA;\n",
       "      box-shadow: 0px 1px 2px rgba(60, 64, 67, 0.3), 0px 1px 3px 1px rgba(60, 64, 67, 0.15);\n",
       "      fill: #174EA6;\n",
       "    }\n",
       "\n",
       "    [theme=dark] .colab-df-convert {\n",
       "      background-color: #3B4455;\n",
       "      fill: #D2E3FC;\n",
       "    }\n",
       "\n",
       "    [theme=dark] .colab-df-convert:hover {\n",
       "      background-color: #434B5C;\n",
       "      box-shadow: 0px 1px 3px 1px rgba(0, 0, 0, 0.15);\n",
       "      filter: drop-shadow(0px 1px 2px rgba(0, 0, 0, 0.3));\n",
       "      fill: #FFFFFF;\n",
       "    }\n",
       "  </style>\n",
       "\n",
       "      <script>\n",
       "        const buttonEl =\n",
       "          document.querySelector('#df-4af4468d-9c3e-4748-94ff-139647804a7b button.colab-df-convert');\n",
       "        buttonEl.style.display =\n",
       "          google.colab.kernel.accessAllowed ? 'block' : 'none';\n",
       "\n",
       "        async function convertToInteractive(key) {\n",
       "          const element = document.querySelector('#df-4af4468d-9c3e-4748-94ff-139647804a7b');\n",
       "          const dataTable =\n",
       "            await google.colab.kernel.invokeFunction('convertToInteractive',\n",
       "                                                     [key], {});\n",
       "          if (!dataTable) return;\n",
       "\n",
       "          const docLinkHtml = 'Like what you see? Visit the ' +\n",
       "            '<a target=\"_blank\" href=https://colab.research.google.com/notebooks/data_table.ipynb>data table notebook</a>'\n",
       "            + ' to learn more about interactive tables.';\n",
       "          element.innerHTML = '';\n",
       "          dataTable['output_type'] = 'display_data';\n",
       "          await google.colab.output.renderOutput(dataTable, element);\n",
       "          const docLink = document.createElement('div');\n",
       "          docLink.innerHTML = docLinkHtml;\n",
       "          element.appendChild(docLink);\n",
       "        }\n",
       "      </script>\n",
       "    </div>\n",
       "  </div>\n",
       "  "
      ],
      "text/plain": [
       "                                       Кол-во деревьев  Кол-во стволов  \\\n",
       "tree_type               diameter_bins                                    \n",
       "Мягколиственное/хвойное total                     80.0           121.0   \n",
       "                        до 10                      4.0             6.0   \n",
       "                        до 20                     58.0            89.0   \n",
       "                        до 30                      8.0            10.0   \n",
       "                        до 40                      7.0            10.0   \n",
       "                        до 50                      2.0             5.0   \n",
       "                        до 60                      1.0             1.0   \n",
       "Твердолиственное        total                    261.0           307.0   \n",
       "                        до 10                     82.0            84.0   \n",
       "                        до 20                    108.0           129.0   \n",
       "                        до 30                     43.0            52.0   \n",
       "                        до 40                     24.0            37.0   \n",
       "                        до 50                      4.0             5.0   \n",
       "\n",
       "                                           Тоннаж  \n",
       "tree_type               diameter_bins              \n",
       "Мягколиственное/хвойное total           65.614762  \n",
       "                        до 10            0.476571  \n",
       "                        до 20           24.716571  \n",
       "                        до 30            7.638095  \n",
       "                        до 40           15.394286  \n",
       "                        до 50           13.373810  \n",
       "                        до 60            4.015429  \n",
       "Твердолиственное        total          152.547905  \n",
       "                        до 10            6.672000  \n",
       "                        до 20           35.825143  \n",
       "                        до 30           39.718095  \n",
       "                        до 40           56.958857  \n",
       "                        до 50           13.373810  "
      ]
     },
     "execution_count": 97,
     "metadata": {},
     "output_type": "execute_result"
    }
   ],
   "source": [
    "trees"
   ]
  },
  {
   "cell_type": "code",
   "execution_count": 98,
   "metadata": {
    "colab": {
     "base_uri": "https://localhost:8080/",
     "height": 269
    },
    "id": "HjOxyElG0Dkv",
    "outputId": "bbfe2afe-7902-4018-8905-b3302d8f0a3b"
   },
   "outputs": [
    {
     "data": {
      "text/html": [
       "\n",
       "  <div id=\"df-2a00a1ff-ad99-4709-94c2-80688e31f420\">\n",
       "    <div class=\"colab-df-container\">\n",
       "      <div>\n",
       "<style scoped>\n",
       "    .dataframe tbody tr th:only-of-type {\n",
       "        vertical-align: middle;\n",
       "    }\n",
       "\n",
       "    .dataframe tbody tr th {\n",
       "        vertical-align: top;\n",
       "    }\n",
       "\n",
       "    .dataframe thead th {\n",
       "        text-align: right;\n",
       "    }\n",
       "</style>\n",
       "<table border=\"1\" class=\"dataframe\">\n",
       "  <thead>\n",
       "    <tr style=\"text-align: right;\">\n",
       "      <th></th>\n",
       "      <th>tree</th>\n",
       "      <th>stvol_count</th>\n",
       "      <th>weight</th>\n",
       "    </tr>\n",
       "    <tr>\n",
       "      <th>diameter_bins</th>\n",
       "      <th></th>\n",
       "      <th></th>\n",
       "      <th></th>\n",
       "    </tr>\n",
       "  </thead>\n",
       "  <tbody>\n",
       "    <tr>\n",
       "      <th>до 10</th>\n",
       "      <td>86.0</td>\n",
       "      <td>90.0</td>\n",
       "      <td>7.148571</td>\n",
       "    </tr>\n",
       "    <tr>\n",
       "      <th>до 20</th>\n",
       "      <td>166.0</td>\n",
       "      <td>218.0</td>\n",
       "      <td>60.541714</td>\n",
       "    </tr>\n",
       "    <tr>\n",
       "      <th>до 30</th>\n",
       "      <td>51.0</td>\n",
       "      <td>62.0</td>\n",
       "      <td>47.356190</td>\n",
       "    </tr>\n",
       "    <tr>\n",
       "      <th>до 40</th>\n",
       "      <td>31.0</td>\n",
       "      <td>47.0</td>\n",
       "      <td>72.353143</td>\n",
       "    </tr>\n",
       "    <tr>\n",
       "      <th>до 50</th>\n",
       "      <td>6.0</td>\n",
       "      <td>10.0</td>\n",
       "      <td>26.747619</td>\n",
       "    </tr>\n",
       "    <tr>\n",
       "      <th>до 60</th>\n",
       "      <td>1.0</td>\n",
       "      <td>1.0</td>\n",
       "      <td>4.015429</td>\n",
       "    </tr>\n",
       "  </tbody>\n",
       "</table>\n",
       "</div>\n",
       "      <button class=\"colab-df-convert\" onclick=\"convertToInteractive('df-2a00a1ff-ad99-4709-94c2-80688e31f420')\"\n",
       "              title=\"Convert this dataframe to an interactive table.\"\n",
       "              style=\"display:none;\">\n",
       "        \n",
       "  <svg xmlns=\"http://www.w3.org/2000/svg\" height=\"24px\"viewBox=\"0 0 24 24\"\n",
       "       width=\"24px\">\n",
       "    <path d=\"M0 0h24v24H0V0z\" fill=\"none\"/>\n",
       "    <path d=\"M18.56 5.44l.94 2.06.94-2.06 2.06-.94-2.06-.94-.94-2.06-.94 2.06-2.06.94zm-11 1L8.5 8.5l.94-2.06 2.06-.94-2.06-.94L8.5 2.5l-.94 2.06-2.06.94zm10 10l.94 2.06.94-2.06 2.06-.94-2.06-.94-.94-2.06-.94 2.06-2.06.94z\"/><path d=\"M17.41 7.96l-1.37-1.37c-.4-.4-.92-.59-1.43-.59-.52 0-1.04.2-1.43.59L10.3 9.45l-7.72 7.72c-.78.78-.78 2.05 0 2.83L4 21.41c.39.39.9.59 1.41.59.51 0 1.02-.2 1.41-.59l7.78-7.78 2.81-2.81c.8-.78.8-2.07 0-2.86zM5.41 20L4 18.59l7.72-7.72 1.47 1.35L5.41 20z\"/>\n",
       "  </svg>\n",
       "      </button>\n",
       "      \n",
       "  <style>\n",
       "    .colab-df-container {\n",
       "      display:flex;\n",
       "      flex-wrap:wrap;\n",
       "      gap: 12px;\n",
       "    }\n",
       "\n",
       "    .colab-df-convert {\n",
       "      background-color: #E8F0FE;\n",
       "      border: none;\n",
       "      border-radius: 50%;\n",
       "      cursor: pointer;\n",
       "      display: none;\n",
       "      fill: #1967D2;\n",
       "      height: 32px;\n",
       "      padding: 0 0 0 0;\n",
       "      width: 32px;\n",
       "    }\n",
       "\n",
       "    .colab-df-convert:hover {\n",
       "      background-color: #E2EBFA;\n",
       "      box-shadow: 0px 1px 2px rgba(60, 64, 67, 0.3), 0px 1px 3px 1px rgba(60, 64, 67, 0.15);\n",
       "      fill: #174EA6;\n",
       "    }\n",
       "\n",
       "    [theme=dark] .colab-df-convert {\n",
       "      background-color: #3B4455;\n",
       "      fill: #D2E3FC;\n",
       "    }\n",
       "\n",
       "    [theme=dark] .colab-df-convert:hover {\n",
       "      background-color: #434B5C;\n",
       "      box-shadow: 0px 1px 3px 1px rgba(0, 0, 0, 0.15);\n",
       "      filter: drop-shadow(0px 1px 2px rgba(0, 0, 0, 0.3));\n",
       "      fill: #FFFFFF;\n",
       "    }\n",
       "  </style>\n",
       "\n",
       "      <script>\n",
       "        const buttonEl =\n",
       "          document.querySelector('#df-2a00a1ff-ad99-4709-94c2-80688e31f420 button.colab-df-convert');\n",
       "        buttonEl.style.display =\n",
       "          google.colab.kernel.accessAllowed ? 'block' : 'none';\n",
       "\n",
       "        async function convertToInteractive(key) {\n",
       "          const element = document.querySelector('#df-2a00a1ff-ad99-4709-94c2-80688e31f420');\n",
       "          const dataTable =\n",
       "            await google.colab.kernel.invokeFunction('convertToInteractive',\n",
       "                                                     [key], {});\n",
       "          if (!dataTable) return;\n",
       "\n",
       "          const docLinkHtml = 'Like what you see? Visit the ' +\n",
       "            '<a target=\"_blank\" href=https://colab.research.google.com/notebooks/data_table.ipynb>data table notebook</a>'\n",
       "            + ' to learn more about interactive tables.';\n",
       "          element.innerHTML = '';\n",
       "          dataTable['output_type'] = 'display_data';\n",
       "          await google.colab.output.renderOutput(dataTable, element);\n",
       "          const docLink = document.createElement('div');\n",
       "          docLink.innerHTML = docLinkHtml;\n",
       "          element.appendChild(docLink);\n",
       "        }\n",
       "      </script>\n",
       "    </div>\n",
       "  </div>\n",
       "  "
      ],
      "text/plain": [
       "                tree  stvol_count     weight\n",
       "diameter_bins                               \n",
       "до 10           86.0         90.0   7.148571\n",
       "до 20          166.0        218.0  60.541714\n",
       "до 30           51.0         62.0  47.356190\n",
       "до 40           31.0         47.0  72.353143\n",
       "до 50            6.0         10.0  26.747619\n",
       "до 60            1.0          1.0   4.015429"
      ]
     },
     "execution_count": 98,
     "metadata": {},
     "output_type": "execute_result"
    }
   ],
   "source": [
    "trees2"
   ]
  },
  {
   "cell_type": "code",
   "execution_count": 99,
   "metadata": {
    "colab": {
     "base_uri": "https://localhost:8080/"
    },
    "id": "kiDSwg_50i-E",
    "outputId": "670b2759-00f8-4a37-ad08-2988b47d32b1"
   },
   "outputs": [
    {
     "data": {
      "text/plain": [
       "428.0"
      ]
     },
     "execution_count": 99,
     "metadata": {},
     "output_type": "execute_result"
    }
   ],
   "source": [
    "trees2.stvol_count.sum()"
   ]
  },
  {
   "cell_type": "code",
   "execution_count": 100,
   "metadata": {
    "colab": {
     "base_uri": "https://localhost:8080/"
    },
    "id": "WEQZSOcz0mzb",
    "outputId": "9c9e4c25-6bc1-45e2-8137-511d3260c075"
   },
   "outputs": [
    {
     "data": {
      "text/plain": [
       "341.0"
      ]
     },
     "execution_count": 100,
     "metadata": {},
     "output_type": "execute_result"
    }
   ],
   "source": [
    "trees2.tree.sum()"
   ]
  },
  {
   "cell_type": "code",
   "execution_count": 101,
   "metadata": {
    "id": "99AI24SySrsZ"
   },
   "outputs": [],
   "source": [
    "tree_weigh = trees.query('diameter_bins == \"total\"')['Тоннаж'].sum()"
   ]
  },
  {
   "cell_type": "code",
   "execution_count": 102,
   "metadata": {
    "colab": {
     "base_uri": "https://localhost:8080/"
    },
    "id": "4TpBI_n97cIv",
    "outputId": "0cd5101f-1854-41c1-e7c1-c018feba3e10"
   },
   "outputs": [
    {
     "name": "stdout",
     "output_type": "stream",
     "text": [
      "Итого вывозимый тоннаж порубочных остатков \n",
      "      218.16 от деревьев, \n",
      "      23.275 от кустов, \n",
      "      всего 241.44 тонны\n"
     ]
    }
   ],
   "source": [
    "print(f'''Итого вывозимый тоннаж порубочных остатков \n",
    "      {tree_weigh.round(2)} от деревьев, \n",
    "      {bush_weigth} от кустов, \n",
    "      всего {round(tree_weigh + bush_weigth, 2)} тонны''')"
   ]
  },
  {
   "cell_type": "code",
   "execution_count": 103,
   "metadata": {
    "colab": {
     "base_uri": "https://localhost:8080/",
     "height": 739
    },
    "id": "ZyXOyWdc7nFK",
    "outputId": "99f33258-8a10-4ea0-eb3f-6eb24e1b02da"
   },
   "outputs": [
    {
     "data": {
      "text/html": [
       "\n",
       "  <div id=\"df-961291dd-5708-435d-81f4-7d61ee10bcf4\">\n",
       "    <div class=\"colab-df-container\">\n",
       "      <div>\n",
       "<style scoped>\n",
       "    .dataframe tbody tr th:only-of-type {\n",
       "        vertical-align: middle;\n",
       "    }\n",
       "\n",
       "    .dataframe tbody tr th {\n",
       "        vertical-align: top;\n",
       "    }\n",
       "\n",
       "    .dataframe thead th {\n",
       "        text-align: right;\n",
       "    }\n",
       "</style>\n",
       "<table border=\"1\" class=\"dataframe\">\n",
       "  <thead>\n",
       "    <tr style=\"text-align: right;\">\n",
       "      <th></th>\n",
       "      <th></th>\n",
       "      <th>Кол-во пней</th>\n",
       "    </tr>\n",
       "    <tr>\n",
       "      <th>tree_type</th>\n",
       "      <th>stump_diameter_bins</th>\n",
       "      <th></th>\n",
       "    </tr>\n",
       "  </thead>\n",
       "  <tbody>\n",
       "    <tr>\n",
       "      <th rowspan=\"9\" valign=\"top\">Мягколиственное/хвойное</th>\n",
       "      <th>до 140</th>\n",
       "      <td>1.0</td>\n",
       "    </tr>\n",
       "    <tr>\n",
       "      <th>до 170</th>\n",
       "      <td>1.0</td>\n",
       "    </tr>\n",
       "    <tr>\n",
       "      <th>до 20</th>\n",
       "      <td>34.0</td>\n",
       "    </tr>\n",
       "    <tr>\n",
       "      <th>до 30</th>\n",
       "      <td>22.0</td>\n",
       "    </tr>\n",
       "    <tr>\n",
       "      <th>до 40</th>\n",
       "      <td>9.0</td>\n",
       "    </tr>\n",
       "    <tr>\n",
       "      <th>до 50</th>\n",
       "      <td>6.0</td>\n",
       "    </tr>\n",
       "    <tr>\n",
       "      <th>до 60</th>\n",
       "      <td>3.0</td>\n",
       "    </tr>\n",
       "    <tr>\n",
       "      <th>до 70</th>\n",
       "      <td>3.0</td>\n",
       "    </tr>\n",
       "    <tr>\n",
       "      <th>до 90</th>\n",
       "      <td>1.0</td>\n",
       "    </tr>\n",
       "    <tr>\n",
       "      <th rowspan=\"12\" valign=\"top\">Твердолиственное</th>\n",
       "      <th>до 10</th>\n",
       "      <td>3.0</td>\n",
       "    </tr>\n",
       "    <tr>\n",
       "      <th>до 100</th>\n",
       "      <td>1.0</td>\n",
       "    </tr>\n",
       "    <tr>\n",
       "      <th>до 120</th>\n",
       "      <td>2.0</td>\n",
       "    </tr>\n",
       "    <tr>\n",
       "      <th>до 140</th>\n",
       "      <td>1.0</td>\n",
       "    </tr>\n",
       "    <tr>\n",
       "      <th>до 20</th>\n",
       "      <td>155.0</td>\n",
       "    </tr>\n",
       "    <tr>\n",
       "      <th>до 30</th>\n",
       "      <td>37.0</td>\n",
       "    </tr>\n",
       "    <tr>\n",
       "      <th>до 40</th>\n",
       "      <td>37.0</td>\n",
       "    </tr>\n",
       "    <tr>\n",
       "      <th>до 50</th>\n",
       "      <td>13.0</td>\n",
       "    </tr>\n",
       "    <tr>\n",
       "      <th>до 60</th>\n",
       "      <td>3.0</td>\n",
       "    </tr>\n",
       "    <tr>\n",
       "      <th>до 70</th>\n",
       "      <td>5.0</td>\n",
       "    </tr>\n",
       "    <tr>\n",
       "      <th>до 80</th>\n",
       "      <td>1.0</td>\n",
       "    </tr>\n",
       "    <tr>\n",
       "      <th>до 90</th>\n",
       "      <td>3.0</td>\n",
       "    </tr>\n",
       "  </tbody>\n",
       "</table>\n",
       "</div>\n",
       "      <button class=\"colab-df-convert\" onclick=\"convertToInteractive('df-961291dd-5708-435d-81f4-7d61ee10bcf4')\"\n",
       "              title=\"Convert this dataframe to an interactive table.\"\n",
       "              style=\"display:none;\">\n",
       "        \n",
       "  <svg xmlns=\"http://www.w3.org/2000/svg\" height=\"24px\"viewBox=\"0 0 24 24\"\n",
       "       width=\"24px\">\n",
       "    <path d=\"M0 0h24v24H0V0z\" fill=\"none\"/>\n",
       "    <path d=\"M18.56 5.44l.94 2.06.94-2.06 2.06-.94-2.06-.94-.94-2.06-.94 2.06-2.06.94zm-11 1L8.5 8.5l.94-2.06 2.06-.94-2.06-.94L8.5 2.5l-.94 2.06-2.06.94zm10 10l.94 2.06.94-2.06 2.06-.94-2.06-.94-.94-2.06-.94 2.06-2.06.94z\"/><path d=\"M17.41 7.96l-1.37-1.37c-.4-.4-.92-.59-1.43-.59-.52 0-1.04.2-1.43.59L10.3 9.45l-7.72 7.72c-.78.78-.78 2.05 0 2.83L4 21.41c.39.39.9.59 1.41.59.51 0 1.02-.2 1.41-.59l7.78-7.78 2.81-2.81c.8-.78.8-2.07 0-2.86zM5.41 20L4 18.59l7.72-7.72 1.47 1.35L5.41 20z\"/>\n",
       "  </svg>\n",
       "      </button>\n",
       "      \n",
       "  <style>\n",
       "    .colab-df-container {\n",
       "      display:flex;\n",
       "      flex-wrap:wrap;\n",
       "      gap: 12px;\n",
       "    }\n",
       "\n",
       "    .colab-df-convert {\n",
       "      background-color: #E8F0FE;\n",
       "      border: none;\n",
       "      border-radius: 50%;\n",
       "      cursor: pointer;\n",
       "      display: none;\n",
       "      fill: #1967D2;\n",
       "      height: 32px;\n",
       "      padding: 0 0 0 0;\n",
       "      width: 32px;\n",
       "    }\n",
       "\n",
       "    .colab-df-convert:hover {\n",
       "      background-color: #E2EBFA;\n",
       "      box-shadow: 0px 1px 2px rgba(60, 64, 67, 0.3), 0px 1px 3px 1px rgba(60, 64, 67, 0.15);\n",
       "      fill: #174EA6;\n",
       "    }\n",
       "\n",
       "    [theme=dark] .colab-df-convert {\n",
       "      background-color: #3B4455;\n",
       "      fill: #D2E3FC;\n",
       "    }\n",
       "\n",
       "    [theme=dark] .colab-df-convert:hover {\n",
       "      background-color: #434B5C;\n",
       "      box-shadow: 0px 1px 3px 1px rgba(0, 0, 0, 0.15);\n",
       "      filter: drop-shadow(0px 1px 2px rgba(0, 0, 0, 0.3));\n",
       "      fill: #FFFFFF;\n",
       "    }\n",
       "  </style>\n",
       "\n",
       "      <script>\n",
       "        const buttonEl =\n",
       "          document.querySelector('#df-961291dd-5708-435d-81f4-7d61ee10bcf4 button.colab-df-convert');\n",
       "        buttonEl.style.display =\n",
       "          google.colab.kernel.accessAllowed ? 'block' : 'none';\n",
       "\n",
       "        async function convertToInteractive(key) {\n",
       "          const element = document.querySelector('#df-961291dd-5708-435d-81f4-7d61ee10bcf4');\n",
       "          const dataTable =\n",
       "            await google.colab.kernel.invokeFunction('convertToInteractive',\n",
       "                                                     [key], {});\n",
       "          if (!dataTable) return;\n",
       "\n",
       "          const docLinkHtml = 'Like what you see? Visit the ' +\n",
       "            '<a target=\"_blank\" href=https://colab.research.google.com/notebooks/data_table.ipynb>data table notebook</a>'\n",
       "            + ' to learn more about interactive tables.';\n",
       "          element.innerHTML = '';\n",
       "          dataTable['output_type'] = 'display_data';\n",
       "          await google.colab.output.renderOutput(dataTable, element);\n",
       "          const docLink = document.createElement('div');\n",
       "          docLink.innerHTML = docLinkHtml;\n",
       "          element.appendChild(docLink);\n",
       "        }\n",
       "      </script>\n",
       "    </div>\n",
       "  </div>\n",
       "  "
      ],
      "text/plain": [
       "                                             Кол-во пней\n",
       "tree_type               stump_diameter_bins             \n",
       "Мягколиственное/хвойное до 140                       1.0\n",
       "                        до 170                       1.0\n",
       "                        до 20                       34.0\n",
       "                        до 30                       22.0\n",
       "                        до 40                        9.0\n",
       "                        до 50                        6.0\n",
       "                        до 60                        3.0\n",
       "                        до 70                        3.0\n",
       "                        до 90                        1.0\n",
       "Твердолиственное        до 10                        3.0\n",
       "                        до 100                       1.0\n",
       "                        до 120                       2.0\n",
       "                        до 140                       1.0\n",
       "                        до 20                      155.0\n",
       "                        до 30                       37.0\n",
       "                        до 40                       37.0\n",
       "                        до 50                       13.0\n",
       "                        до 60                        3.0\n",
       "                        до 70                        5.0\n",
       "                        до 80                        1.0\n",
       "                        до 90                        3.0"
      ]
     },
     "execution_count": 103,
     "metadata": {},
     "output_type": "execute_result"
    }
   ],
   "source": [
    "stumps"
   ]
  },
  {
   "cell_type": "code",
   "execution_count": null,
   "metadata": {
    "id": "UB18MF-61Hd2"
   },
   "outputs": [],
   "source": []
  }
 ],
 "metadata": {
  "colab": {
   "authorship_tag": "ABX9TyO51emJG/+a7RIqWSyAXFUO",
   "mount_file_id": "1oUOjCiksB5MRanxNWQr79C6SMnlQz0wy",
   "provenance": []
  },
  "kernelspec": {
   "display_name": "Python 3 (ipykernel)",
   "language": "python",
   "name": "python3"
  },
  "language_info": {
   "codemirror_mode": {
    "name": "ipython",
    "version": 3
   },
   "file_extension": ".py",
   "mimetype": "text/x-python",
   "name": "python",
   "nbconvert_exporter": "python",
   "pygments_lexer": "ipython3",
   "version": "3.9.7"
  },
  "toc": {
   "base_numbering": 1,
   "nav_menu": {},
   "number_sections": true,
   "sideBar": true,
   "skip_h1_title": true,
   "title_cell": "Table of Contents",
   "title_sidebar": "Contents",
   "toc_cell": false,
   "toc_position": {},
   "toc_section_display": true,
   "toc_window_display": false
  }
 },
 "nbformat": 4,
 "nbformat_minor": 1
}
