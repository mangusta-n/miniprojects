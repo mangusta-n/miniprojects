{
 "cells": [
  {
   "cell_type": "markdown",
   "id": "ac3f2281",
   "metadata": {},
   "source": [
    "# Задание \n",
    "## A/B–тестирование\n",
    "\n",
    "Одной из основных задач аналитика в нашей команде является корректное проведение экспериментов. Для этого мы применяем метод A/B–тестирования. В ходе тестирования одной гипотезы целевой группе была предложена новая механика оплаты услуг на сайте, у контрольной группы оставалась базовая механика. В качестве задания Вам необходимо проанализировать итоги эксперимента и сделать вывод, стоит ли запускать новую механику оплаты на всех пользователей.\n",
    "\n",
    "#### Входные данные\n",
    "\n",
    "В качестве входных данных Вы имеете 4 csv-файла:\n",
    "\n",
    "- `groups.csv` - файл с информацией о принадлежности пользователя к контрольной или экспериментальной группе (А – контроль, B – целевая группа) \n",
    "- `groups_add.csv` - дополнительный файл с пользователями, который вам прислали спустя 2 дня после передачи данных\n",
    "- `active_studs.csv` - файл с информацией о пользователях, которые зашли на платформу в дни проведения эксперимента. \n",
    "- `checks.csv` - файл с информацией об оплатах пользователей в дни проведения эксперимента. \n",
    "\n",
    "**Вопросы**\n",
    "\n",
    "Предлагаем Вам ответить на следующие вопросы:\n",
    "\n",
    "- На какие метрики Вы смотрите в ходе анализа и почему?\n",
    "- Имеются ли различия в показателях и с чем они могут быть связаны?\n",
    "- Являются ли эти различия статистически значимыми?\n",
    "- Стоит ли запускать новую механику на всех пользователей?\n",
    "  \n",
    "Данный список вопросов не является обязательным, и Вы можете при своём ответе опираться на собственный план.\n",
    "\n",
    "**Требования к ответу**\n",
    "\n",
    "При выполнении тестового задания необходимо использовать язык программирования Python. \n",
    "В файле обязательно должны быть комментарии к тем действиям, которые Вы выполняете с данными. \n",
    "Файл должен представлять собой законченный отчёт с выводами, сделанными в ходе исследования."
   ]
  },
  {
   "cell_type": "markdown",
   "id": "b1155f76",
   "metadata": {},
   "source": [
    "#### Цель и задачи исследования\n",
    "\n",
    "**Цель исследования** - проанализировать итоги эксперимента и сделать вывод, стоит ли запускать новую механику оплаты на всех пользователей\n",
    "\n",
    "**Задачи**\n",
    "\n",
    "1. Загрузка и исследовательский анализ данных\n",
    "3. Определение целевых метрик\n",
    "4. Статистический анализ данных\n",
    "5. Вывод"
   ]
  },
  {
   "cell_type": "code",
   "execution_count": 1,
   "id": "569b787e",
   "metadata": {},
   "outputs": [],
   "source": [
    "import pandas as pd\n",
    "import numpy as np\n",
    "import matplotlib.pyplot as plt\n",
    "import seaborn as sns\n",
    "from scipy import stats as st\n",
    "from tqdm.auto import tqdm"
   ]
  },
  {
   "cell_type": "code",
   "execution_count": 2,
   "id": "7f7581c0",
   "metadata": {},
   "outputs": [],
   "source": [
    "sns.set(\n",
    "    font_scale=1.2,\n",
    "    style=\"white\",\n",
    "    rc={'figure.figsize':(15,5)}\n",
    "        )"
   ]
  },
  {
   "cell_type": "markdown",
   "id": "1db1e4ed",
   "metadata": {},
   "source": [
    "### Загрузка и исследовательский анализ данных"
   ]
  },
  {
   "cell_type": "markdown",
   "id": "a191ffd1",
   "metadata": {},
   "source": [
    "**groups** - информация о принадлежности пользователя к контрольной или экспериментальной группе"
   ]
  },
  {
   "cell_type": "code",
   "execution_count": 3,
   "id": "7edb0fb2",
   "metadata": {},
   "outputs": [],
   "source": [
    "groups = pd.read_csv('data/groups.csv', sep=';')"
   ]
  },
  {
   "cell_type": "code",
   "execution_count": 4,
   "id": "a22999ae",
   "metadata": {},
   "outputs": [
    {
     "data": {
      "text/html": [
       "<div>\n",
       "<style scoped>\n",
       "    .dataframe tbody tr th:only-of-type {\n",
       "        vertical-align: middle;\n",
       "    }\n",
       "\n",
       "    .dataframe tbody tr th {\n",
       "        vertical-align: top;\n",
       "    }\n",
       "\n",
       "    .dataframe thead th {\n",
       "        text-align: right;\n",
       "    }\n",
       "</style>\n",
       "<table border=\"1\" class=\"dataframe\">\n",
       "  <thead>\n",
       "    <tr style=\"text-align: right;\">\n",
       "      <th></th>\n",
       "      <th>id</th>\n",
       "      <th>grp</th>\n",
       "    </tr>\n",
       "  </thead>\n",
       "  <tbody>\n",
       "    <tr>\n",
       "      <th>0</th>\n",
       "      <td>1489</td>\n",
       "      <td>B</td>\n",
       "    </tr>\n",
       "    <tr>\n",
       "      <th>1</th>\n",
       "      <td>1627</td>\n",
       "      <td>A</td>\n",
       "    </tr>\n",
       "    <tr>\n",
       "      <th>2</th>\n",
       "      <td>1768</td>\n",
       "      <td>B</td>\n",
       "    </tr>\n",
       "  </tbody>\n",
       "</table>\n",
       "</div>"
      ],
      "text/plain": [
       "     id grp\n",
       "0  1489   B\n",
       "1  1627   A\n",
       "2  1768   B"
      ]
     },
     "execution_count": 4,
     "metadata": {},
     "output_type": "execute_result"
    }
   ],
   "source": [
    "groups.head(3)"
   ]
  },
  {
   "cell_type": "code",
   "execution_count": 5,
   "id": "18851a1f",
   "metadata": {
    "scrolled": true
   },
   "outputs": [
    {
     "name": "stdout",
     "output_type": "stream",
     "text": [
      "<class 'pandas.core.frame.DataFrame'>\n",
      "RangeIndex: 74484 entries, 0 to 74483\n",
      "Data columns (total 2 columns):\n",
      " #   Column  Non-Null Count  Dtype \n",
      "---  ------  --------------  ----- \n",
      " 0   id      74484 non-null  int64 \n",
      " 1   grp     74484 non-null  object\n",
      "dtypes: int64(1), object(1)\n",
      "memory usage: 1.1+ MB\n"
     ]
    }
   ],
   "source": [
    "groups.info()"
   ]
  },
  {
   "cell_type": "code",
   "execution_count": 6,
   "id": "c0e95f2b",
   "metadata": {},
   "outputs": [
    {
     "data": {
      "text/plain": [
       "0"
      ]
     },
     "execution_count": 6,
     "metadata": {},
     "output_type": "execute_result"
    }
   ],
   "source": [
    "# дубликаты\n",
    "groups.duplicated().sum()"
   ]
  },
  {
   "cell_type": "code",
   "execution_count": 7,
   "id": "2856c12c",
   "metadata": {},
   "outputs": [
    {
     "data": {
      "text/plain": [
       "True"
      ]
     },
     "execution_count": 7,
     "metadata": {},
     "output_type": "execute_result"
    }
   ],
   "source": [
    "# в датасете только уникальные id\n",
    "groups.id.nunique() == groups.shape[0]"
   ]
  },
  {
   "cell_type": "code",
   "execution_count": 8,
   "id": "7493634e",
   "metadata": {},
   "outputs": [
    {
     "data": {
      "text/plain": [
       "B    59813\n",
       "A    14671\n",
       "Name: grp, dtype: int64"
      ]
     },
     "execution_count": 8,
     "metadata": {},
     "output_type": "execute_result"
    }
   ],
   "source": [
    "groups.grp.value_counts()"
   ]
  },
  {
   "cell_type": "code",
   "execution_count": 9,
   "id": "bc64bb47",
   "metadata": {},
   "outputs": [
    {
     "data": {
      "text/plain": [
       "B    0.803\n",
       "A    0.197\n",
       "Name: grp, dtype: float64"
      ]
     },
     "execution_count": 9,
     "metadata": {},
     "output_type": "execute_result"
    }
   ],
   "source": [
    "groups.grp.value_counts(normalize=True).round(3)"
   ]
  },
  {
   "cell_type": "markdown",
   "id": "74b3413e",
   "metadata": {},
   "source": [
    "В данных groups (деление пользователей на A контрольную группу и B целевую) 74484 строки, каждая строка - данные об уникальном пользователе и группе, в которую он входит. Эти пользователи разделены на группы с пропорции 20 на 80 (20% - контроль, 80% - целевая). Дубликатов и пропусков в данных нет."
   ]
  },
  {
   "cell_type": "markdown",
   "id": "a2b3ec81",
   "metadata": {},
   "source": [
    "---\n",
    "**groups_add** - дополнительный файл с пользователями, получен позже"
   ]
  },
  {
   "cell_type": "code",
   "execution_count": 10,
   "id": "719ab374",
   "metadata": {},
   "outputs": [],
   "source": [
    "groups_add = pd.read_csv('data/group_add.csv')"
   ]
  },
  {
   "cell_type": "code",
   "execution_count": 11,
   "id": "9ca06b69",
   "metadata": {
    "scrolled": true
   },
   "outputs": [
    {
     "name": "stdout",
     "output_type": "stream",
     "text": [
      "<class 'pandas.core.frame.DataFrame'>\n",
      "RangeIndex: 92 entries, 0 to 91\n",
      "Data columns (total 2 columns):\n",
      " #   Column  Non-Null Count  Dtype \n",
      "---  ------  --------------  ----- \n",
      " 0   id      92 non-null     int64 \n",
      " 1   grp     92 non-null     object\n",
      "dtypes: int64(1), object(1)\n",
      "memory usage: 1.6+ KB\n"
     ]
    }
   ],
   "source": [
    "groups_add.info()"
   ]
  },
  {
   "cell_type": "code",
   "execution_count": 12,
   "id": "627cc7e2",
   "metadata": {},
   "outputs": [
    {
     "data": {
      "text/plain": [
       "0"
      ]
     },
     "execution_count": 12,
     "metadata": {},
     "output_type": "execute_result"
    }
   ],
   "source": [
    "# дубликаты\n",
    "groups_add.duplicated().sum()"
   ]
  },
  {
   "cell_type": "code",
   "execution_count": 13,
   "id": "528c6364",
   "metadata": {},
   "outputs": [
    {
     "data": {
      "text/plain": [
       "True"
      ]
     },
     "execution_count": 13,
     "metadata": {},
     "output_type": "execute_result"
    }
   ],
   "source": [
    "# в датасете только уникальные id\n",
    "groups_add.id.nunique() == groups_add.shape[0]"
   ]
  },
  {
   "cell_type": "code",
   "execution_count": 14,
   "id": "2c62abb1",
   "metadata": {},
   "outputs": [
    {
     "data": {
      "text/plain": [
       "B    70\n",
       "A    22\n",
       "Name: grp, dtype: int64"
      ]
     },
     "execution_count": 14,
     "metadata": {},
     "output_type": "execute_result"
    }
   ],
   "source": [
    "groups_add.grp.value_counts()"
   ]
  },
  {
   "cell_type": "code",
   "execution_count": 15,
   "id": "0c764892",
   "metadata": {},
   "outputs": [
    {
     "data": {
      "text/plain": [
       "B    0.761\n",
       "A    0.239\n",
       "Name: grp, dtype: float64"
      ]
     },
     "execution_count": 15,
     "metadata": {},
     "output_type": "execute_result"
    }
   ],
   "source": [
    "groups_add.grp.value_counts(normalize=True).round(3)"
   ]
  },
  {
   "cell_type": "code",
   "execution_count": 16,
   "id": "ef94b059",
   "metadata": {},
   "outputs": [
    {
     "data": {
      "text/plain": [
       "False"
      ]
     },
     "execution_count": 16,
     "metadata": {},
     "output_type": "execute_result"
    }
   ],
   "source": [
    "# проверка пересечения id с основным файлом\n",
    "len(groups_add[groups_add.id.isin(groups.id.to_list())]) > 0"
   ]
  },
  {
   "cell_type": "markdown",
   "id": "9358bcd1",
   "metadata": {},
   "source": [
    "В данные groups_add по условиям задачи дополнительные данные о пользователях, который нам прислали спустя 2 дня после передачи данных (деление пользователей на A контрольную группу и B целевую). В приложенном фаайле 92 строки, каждая строка - данные об уникальном пользователе и группе, в которую он входит. Эти пользователи разделены на группы, пропорции схожи с основным файлом - примерно 20 на 80 (20% - контроль, 80% - целевая). Дубликатов и пропусков в данных нет."
   ]
  },
  {
   "cell_type": "markdown",
   "id": "5542a8f8",
   "metadata": {},
   "source": [
    "Данные из дополнительного файла не пересекаются с данными основного по id, в нем новые id пользователей."
   ]
  },
  {
   "cell_type": "markdown",
   "id": "7d4e88b7",
   "metadata": {},
   "source": [
    "---\n",
    "**checks** - файл с информацией об оплатах пользователей в дни проведения эксперимента"
   ]
  },
  {
   "cell_type": "code",
   "execution_count": 17,
   "id": "64e9c6f5",
   "metadata": {},
   "outputs": [],
   "source": [
    "checks = pd.read_csv('data/checks.csv', sep=';')"
   ]
  },
  {
   "cell_type": "code",
   "execution_count": 18,
   "id": "d5aebe7b",
   "metadata": {},
   "outputs": [
    {
     "name": "stdout",
     "output_type": "stream",
     "text": [
      "<class 'pandas.core.frame.DataFrame'>\n",
      "RangeIndex: 541 entries, 0 to 540\n",
      "Data columns (total 2 columns):\n",
      " #   Column      Non-Null Count  Dtype  \n",
      "---  ------      --------------  -----  \n",
      " 0   student_id  541 non-null    int64  \n",
      " 1   rev         541 non-null    float64\n",
      "dtypes: float64(1), int64(1)\n",
      "memory usage: 8.6 KB\n"
     ]
    }
   ],
   "source": [
    "checks.info()"
   ]
  },
  {
   "cell_type": "code",
   "execution_count": 19,
   "id": "8fc211c5",
   "metadata": {},
   "outputs": [],
   "source": [
    "# поменяем название колонки для унификации\n",
    "checks.columns=['id', 'rev']"
   ]
  },
  {
   "cell_type": "code",
   "execution_count": 20,
   "id": "1526c706",
   "metadata": {
    "scrolled": true
   },
   "outputs": [
    {
     "data": {
      "text/html": [
       "<div>\n",
       "<style scoped>\n",
       "    .dataframe tbody tr th:only-of-type {\n",
       "        vertical-align: middle;\n",
       "    }\n",
       "\n",
       "    .dataframe tbody tr th {\n",
       "        vertical-align: top;\n",
       "    }\n",
       "\n",
       "    .dataframe thead th {\n",
       "        text-align: right;\n",
       "    }\n",
       "</style>\n",
       "<table border=\"1\" class=\"dataframe\">\n",
       "  <thead>\n",
       "    <tr style=\"text-align: right;\">\n",
       "      <th></th>\n",
       "      <th>id</th>\n",
       "      <th>rev</th>\n",
       "    </tr>\n",
       "  </thead>\n",
       "  <tbody>\n",
       "    <tr>\n",
       "      <th>0</th>\n",
       "      <td>1627</td>\n",
       "      <td>990.0</td>\n",
       "    </tr>\n",
       "    <tr>\n",
       "      <th>1</th>\n",
       "      <td>3185</td>\n",
       "      <td>690.0</td>\n",
       "    </tr>\n",
       "    <tr>\n",
       "      <th>2</th>\n",
       "      <td>25973</td>\n",
       "      <td>690.0</td>\n",
       "    </tr>\n",
       "  </tbody>\n",
       "</table>\n",
       "</div>"
      ],
      "text/plain": [
       "      id    rev\n",
       "0   1627  990.0\n",
       "1   3185  690.0\n",
       "2  25973  690.0"
      ]
     },
     "execution_count": 20,
     "metadata": {},
     "output_type": "execute_result"
    }
   ],
   "source": [
    "checks.head(3)"
   ]
  },
  {
   "cell_type": "code",
   "execution_count": 21,
   "id": "e3a3a93e",
   "metadata": {},
   "outputs": [
    {
     "data": {
      "text/html": [
       "<div>\n",
       "<style scoped>\n",
       "    .dataframe tbody tr th:only-of-type {\n",
       "        vertical-align: middle;\n",
       "    }\n",
       "\n",
       "    .dataframe tbody tr th {\n",
       "        vertical-align: top;\n",
       "    }\n",
       "\n",
       "    .dataframe thead th {\n",
       "        text-align: right;\n",
       "    }\n",
       "</style>\n",
       "<table border=\"1\" class=\"dataframe\">\n",
       "  <thead>\n",
       "    <tr style=\"text-align: right;\">\n",
       "      <th></th>\n",
       "      <th>rev</th>\n",
       "    </tr>\n",
       "  </thead>\n",
       "  <tbody>\n",
       "    <tr>\n",
       "      <th>count</th>\n",
       "      <td>541.000000</td>\n",
       "    </tr>\n",
       "    <tr>\n",
       "      <th>mean</th>\n",
       "      <td>1059.752317</td>\n",
       "    </tr>\n",
       "    <tr>\n",
       "      <th>std</th>\n",
       "      <td>762.712359</td>\n",
       "    </tr>\n",
       "    <tr>\n",
       "      <th>min</th>\n",
       "      <td>199.000000</td>\n",
       "    </tr>\n",
       "    <tr>\n",
       "      <th>25%</th>\n",
       "      <td>290.000000</td>\n",
       "    </tr>\n",
       "    <tr>\n",
       "      <th>50%</th>\n",
       "      <td>840.000000</td>\n",
       "    </tr>\n",
       "    <tr>\n",
       "      <th>75%</th>\n",
       "      <td>1900.000000</td>\n",
       "    </tr>\n",
       "    <tr>\n",
       "      <th>max</th>\n",
       "      <td>4650.000000</td>\n",
       "    </tr>\n",
       "  </tbody>\n",
       "</table>\n",
       "</div>"
      ],
      "text/plain": [
       "               rev\n",
       "count   541.000000\n",
       "mean   1059.752317\n",
       "std     762.712359\n",
       "min     199.000000\n",
       "25%     290.000000\n",
       "50%     840.000000\n",
       "75%    1900.000000\n",
       "max    4650.000000"
      ]
     },
     "execution_count": 21,
     "metadata": {},
     "output_type": "execute_result"
    }
   ],
   "source": [
    "checks.rev.describe().to_frame()"
   ]
  },
  {
   "cell_type": "code",
   "execution_count": 22,
   "id": "e3f58fbd",
   "metadata": {},
   "outputs": [
    {
     "data": {
      "text/plain": [
       "0"
      ]
     },
     "execution_count": 22,
     "metadata": {},
     "output_type": "execute_result"
    }
   ],
   "source": [
    "# дубликаты\n",
    "checks.duplicated().sum()"
   ]
  },
  {
   "cell_type": "code",
   "execution_count": 23,
   "id": "deef7191",
   "metadata": {},
   "outputs": [
    {
     "data": {
      "text/plain": [
       "True"
      ]
     },
     "execution_count": 23,
     "metadata": {},
     "output_type": "execute_result"
    }
   ],
   "source": [
    "# в датасете только уникальные id\n",
    "checks.id.nunique() == checks.shape[0]"
   ]
  },
  {
   "cell_type": "code",
   "execution_count": 24,
   "id": "77d82678",
   "metadata": {
    "scrolled": false
   },
   "outputs": [
    {
     "data": {
      "image/png": "[encoded data removed]",
      "text/plain": [
       "<Figure size 1080x360 with 2 Axes>"
      ]
     },
     "metadata": {},
     "output_type": "display_data"
    }
   ],
   "source": [
    "fig, ax = plt.subplots(1,2,figsize=(15,5), sharex=True, sharey=False)\n",
    "\n",
    "sns.histplot(checks.rev, ax=ax[0], bins=60);\n",
    "ax[0].set_title('Диаграмма частот оплат пользователей');\n",
    "ax[0].set_xlabel('Сумма оплаты');\n",
    "ax[0].set_ylabel('');\n",
    "ax[0].grid(True, color='#e2e2e2', alpha=0.5)\n",
    "\n",
    "sns.boxenplot(data = checks, x='rev', ax=ax[1],  palette='pastel');\n",
    "sns.stripplot(data = checks, x='rev',\n",
    "              size=7, palette='deep', linewidth=0.4, ax=ax[1])\n",
    "ax[1].set_title('Диаграмма размаха оплат пользователей');\n",
    "ax[1].set_xlabel('Сумма оплаты');\n",
    "\n",
    "ax[1].grid(True, color='#e2e2e2', alpha=0.5)\n",
    "sns.despine()"
   ]
  },
  {
   "cell_type": "code",
   "execution_count": 25,
   "id": "568d5971",
   "metadata": {},
   "outputs": [
    {
     "data": {
      "text/plain": [
       "1900.0000    97\n",
       "290.0000     94\n",
       "690.0000     78\n",
       "199.0000     46\n",
       "990.0000     41\n",
       "1900.0001    36\n",
       "840.0000     27\n",
       "1140.0000    25\n",
       "580.0000     15\n",
       "590.0000     11\n",
       "Name: rev, dtype: int64"
      ]
     },
     "execution_count": 25,
     "metadata": {},
     "output_type": "execute_result"
    }
   ],
   "source": [
    "# топ-10 самых частых сумм оплаты\n",
    "checks.rev.value_counts().head(10)"
   ]
  },
  {
   "cell_type": "code",
   "execution_count": 26,
   "id": "650da6a3",
   "metadata": {},
   "outputs": [
    {
     "data": {
      "text/plain": [
       "540"
      ]
     },
     "execution_count": 26,
     "metadata": {},
     "output_type": "execute_result"
    }
   ],
   "source": [
    "# оплаты из основной группы эксперимента\n",
    "checks[checks.id.isin(groups.id.to_list())].shape[0]"
   ]
  },
  {
   "cell_type": "code",
   "execution_count": 27,
   "id": "fbe32727",
   "metadata": {},
   "outputs": [
    {
     "data": {
      "text/plain": [
       "1"
      ]
     },
     "execution_count": 27,
     "metadata": {},
     "output_type": "execute_result"
    }
   ],
   "source": [
    "# оплаты из доп. группы эксперимента\n",
    "checks[checks.id.isin(groups_add.id.to_list())].shape[0]"
   ]
  },
  {
   "cell_type": "code",
   "execution_count": 28,
   "id": "25f31a45",
   "metadata": {},
   "outputs": [],
   "source": [
    "checks['is_paying'] = 1"
   ]
  },
  {
   "cell_type": "markdown",
   "id": "9fbff0bf",
   "metadata": {},
   "source": [
    "В датасете с оплатами checks 541 строка (540 для основного списка, 1 для доп), id пользователей уникальны - то есть либо оплата на сайте не предполагает повторных покупок, либо это данные не по транзакциям, а по суммарной выручке на пользователя за период эксперимента. Данные по оплатам распределены ненормально, есть несколько пиков (самый выделяющийся на 1900) и  крупные платежи, тянущие среднее вправо (медианный платеж 840, средний - 1060). Дубликатов и пропусков нет."
   ]
  },
  {
   "cell_type": "markdown",
   "id": "0588cd99",
   "metadata": {},
   "source": [
    "---\n",
    "**active_studs** - файл с информацией о пользователях, которые зашли на сайт в дни проведения эксперимента"
   ]
  },
  {
   "cell_type": "code",
   "execution_count": 29,
   "id": "3a34cb78",
   "metadata": {},
   "outputs": [],
   "source": [
    "active_studs = pd.read_csv('data/active_studs.csv')"
   ]
  },
  {
   "cell_type": "code",
   "execution_count": 30,
   "id": "e0826db6",
   "metadata": {
    "scrolled": true
   },
   "outputs": [
    {
     "name": "stdout",
     "output_type": "stream",
     "text": [
      "<class 'pandas.core.frame.DataFrame'>\n",
      "RangeIndex: 8341 entries, 0 to 8340\n",
      "Data columns (total 1 columns):\n",
      " #   Column      Non-Null Count  Dtype\n",
      "---  ------      --------------  -----\n",
      " 0   student_id  8341 non-null   int64\n",
      "dtypes: int64(1)\n",
      "memory usage: 65.3 KB\n"
     ]
    }
   ],
   "source": [
    "active_studs.info()"
   ]
  },
  {
   "cell_type": "code",
   "execution_count": 31,
   "id": "e81dcb42",
   "metadata": {},
   "outputs": [],
   "source": [
    "# поменяем название колонки для унификации\n",
    "active_studs.columns = ['id']"
   ]
  },
  {
   "cell_type": "code",
   "execution_count": 32,
   "id": "0316c377",
   "metadata": {},
   "outputs": [
    {
     "data": {
      "text/plain": [
       "True"
      ]
     },
     "execution_count": 32,
     "metadata": {},
     "output_type": "execute_result"
    }
   ],
   "source": [
    "# в датасете только уникальные id\n",
    "active_studs.id.nunique() == active_studs.shape[0]"
   ]
  },
  {
   "cell_type": "code",
   "execution_count": 33,
   "id": "8ab80461",
   "metadata": {},
   "outputs": [
    {
     "data": {
      "text/plain": [
       "8328"
      ]
     },
     "execution_count": 33,
     "metadata": {},
     "output_type": "execute_result"
    }
   ],
   "source": [
    "# число активных пользователей из основной группы эксперимента\n",
    "active_studs[active_studs.id.isin(groups.id.to_list())].shape[0]"
   ]
  },
  {
   "cell_type": "code",
   "execution_count": 34,
   "id": "65525455",
   "metadata": {},
   "outputs": [
    {
     "data": {
      "text/plain": [
       "13"
      ]
     },
     "execution_count": 34,
     "metadata": {},
     "output_type": "execute_result"
    }
   ],
   "source": [
    "# число активных пользователей из доп. группы эксперимента\n",
    "active_studs[active_studs.id.isin(groups_add.id.to_list())].shape[0]"
   ]
  },
  {
   "cell_type": "code",
   "execution_count": 35,
   "id": "2c315020",
   "metadata": {},
   "outputs": [
    {
     "data": {
      "text/plain": [
       "392"
      ]
     },
     "execution_count": 35,
     "metadata": {},
     "output_type": "execute_result"
    }
   ],
   "source": [
    "# активные студенты, которые производили оплату\n",
    "active_studs[active_studs.id.isin(checks.id.to_list())].shape[0]"
   ]
  },
  {
   "cell_type": "code",
   "execution_count": 36,
   "id": "2686374e",
   "metadata": {},
   "outputs": [
    {
     "data": {
      "text/plain": [
       "149"
      ]
     },
     "execution_count": 36,
     "metadata": {},
     "output_type": "execute_result"
    }
   ],
   "source": [
    "# студенты, не заходившие на сайт, но оплачивавшие в это время\n",
    "checks[~checks.id.isin(active_studs.id.to_list())].shape[0]"
   ]
  },
  {
   "cell_type": "code",
   "execution_count": 37,
   "id": "c34b0df6",
   "metadata": {},
   "outputs": [
    {
     "data": {
      "text/html": [
       "<div>\n",
       "<style scoped>\n",
       "    .dataframe tbody tr th:only-of-type {\n",
       "        vertical-align: middle;\n",
       "    }\n",
       "\n",
       "    .dataframe tbody tr th {\n",
       "        vertical-align: top;\n",
       "    }\n",
       "\n",
       "    .dataframe thead th {\n",
       "        text-align: right;\n",
       "    }\n",
       "</style>\n",
       "<table border=\"1\" class=\"dataframe\">\n",
       "  <thead>\n",
       "    <tr style=\"text-align: right;\">\n",
       "      <th></th>\n",
       "      <th>grp</th>\n",
       "      <th>id</th>\n",
       "    </tr>\n",
       "  </thead>\n",
       "  <tbody>\n",
       "    <tr>\n",
       "      <th>0</th>\n",
       "      <td>A</td>\n",
       "      <td>29</td>\n",
       "    </tr>\n",
       "    <tr>\n",
       "      <th>1</th>\n",
       "      <td>B</td>\n",
       "      <td>120</td>\n",
       "    </tr>\n",
       "  </tbody>\n",
       "</table>\n",
       "</div>"
      ],
      "text/plain": [
       "  grp   id\n",
       "0   A   29\n",
       "1   B  120"
      ]
     },
     "execution_count": 37,
     "metadata": {},
     "output_type": "execute_result"
    }
   ],
   "source": [
    "# студенты, не заходившие на сайт, но оплачивавшие в это время есть в обоих группах\n",
    "checks[~checks.id.isin(active_studs.id.to_list())].merge(groups, how='inner', on='id')\\\n",
    "                .groupby('grp', as_index=False)[['id']].count()"
   ]
  },
  {
   "cell_type": "code",
   "execution_count": 38,
   "id": "21f0559b",
   "metadata": {},
   "outputs": [
    {
     "data": {
      "text/plain": [
       "B    0.805369\n",
       "A    0.194631\n",
       "Name: grp, dtype: float64"
      ]
     },
     "execution_count": 38,
     "metadata": {},
     "output_type": "execute_result"
    }
   ],
   "source": [
    "checks[~checks.id.isin(active_studs.id.to_list())].merge(groups, how='inner', on='id')\\\n",
    "                .grp.value_counts(normalize=True)"
   ]
  },
  {
   "cell_type": "code",
   "execution_count": 39,
   "id": "a77720d8",
   "metadata": {},
   "outputs": [],
   "source": [
    "active_studs['is_active'] = 1"
   ]
  },
  {
   "cell_type": "markdown",
   "id": "0ccea490",
   "metadata": {},
   "source": [
    "Датасет active_studs содержит данные об активных студентах(пользователях, которые зашли на платформу в дни проведения эксперимента). Мы проверили, что все из этого списка входят в общий + доп список, никаких лишних id в нем нет, то есть все id из датасета  включены в эксперимент. \n",
    "\n",
    "Однако активных студентов среди плативших всего 392. То есть существует 149 id студентов, входящих в экспериментальные группы, оплативших что-то в дни проведения эксперимента, но при этом не посещавших сайт. Интересно, что они принадлежат как группе А, так и группе В (в тех же пропорциях).\n",
    "\n",
    "Это странно. Навскидку предположим:\n",
    "\n",
    "- Сломалась система логирования посещения сайта. Что делать: сообщить о баге и искать дыру - может, пользователи заходили из какого-то определенного браузера, или, не знаю, с включенным VPN))(вероятная версия. Но огда получается, у нас недостоверны данные о количестве активных пользователей: если некоторое количество пользователей из экспериментальной группы совершили покупку и при этом не попали в список активных, наверняка существует некоторое количество не совершивших покупку и не попавших в список активных, какое - неизвестно.)\n",
    "- В список оплат каким-то образом попали транзакции прошлых периодов(менее вероятно, т.к. данные пользователи входят в группы эксперимента, причем часть из них - в группу В, тестирующую новую механику оплаты. Сомнительно, что можно воспользоваться ей, не заходя на сайт, тем более в прошлых периодах).\n",
    "- Это подписочные платежи: пользователь оформил подписку когда-то давно, а в период проведения эксперимента списался очередной платеж. (тоже вероятная версия, плюс она дает нам надежду, что данные достоверны)\n",
    "  \n",
    "Примем третье предположение, как наиболее оптимистичное)), и удалим платежи неактивных пользователей.\n"
   ]
  },
  {
   "cell_type": "code",
   "execution_count": 40,
   "id": "bf7b14ba",
   "metadata": {},
   "outputs": [],
   "source": [
    "checks_cor = checks[checks.id.isin(active_studs.id.to_list())].copy()"
   ]
  },
  {
   "cell_type": "code",
   "execution_count": 41,
   "id": "5b843ddd",
   "metadata": {
    "scrolled": true
   },
   "outputs": [
    {
     "data": {
      "image/png": "[encoded data removed]",
      "text/plain": [
       "<Figure size 1080x360 with 2 Axes>"
      ]
     },
     "metadata": {},
     "output_type": "display_data"
    }
   ],
   "source": [
    "fig, ax = plt.subplots(1,2,figsize=(15,5), sharex=True, sharey=False)\n",
    "\n",
    "sns.histplot(checks_cor.rev, ax=ax[0], bins=60);\n",
    "ax[0].set_title('Диаграмма частот оплат активных пользователей');\n",
    "ax[0].set_xlabel('Сумма оплаты');\n",
    "ax[0].set_ylabel('');\n",
    "ax[0].grid(True, color='#e2e2e2', alpha=0.5)\n",
    "\n",
    "sns.boxenplot(data = checks_cor, x='rev', ax=ax[1],  palette='pastel');\n",
    "sns.stripplot(data = checks_cor, x='rev',\n",
    "              size=7, palette='deep', linewidth=0.4, ax=ax[1])\n",
    "ax[1].set_title('Диаграмма размаха оплат активных пользователей');\n",
    "ax[1].set_xlabel('Сумма оплаты');\n",
    "\n",
    "ax[1].grid(True, color='#e2e2e2', alpha=0.5)\n",
    "sns.despine()"
   ]
  },
  {
   "cell_type": "code",
   "execution_count": 42,
   "id": "f89e20c7",
   "metadata": {
    "scrolled": true
   },
   "outputs": [
    {
     "data": {
      "text/plain": [
       "1900.0000    93\n",
       "290.0000     70\n",
       "1900.0001    35\n",
       "199.0000     32\n",
       "840.0000     24\n",
       "990.0000     22\n",
       "690.0000     17\n",
       "590.0000     11\n",
       "1140.0000    11\n",
       "580.0000     11\n",
       "Name: rev, dtype: int64"
      ]
     },
     "execution_count": 42,
     "metadata": {},
     "output_type": "execute_result"
    }
   ],
   "source": [
    "# топ-10 самых частых сумм оплаты активных пользователей\n",
    "checks_cor.rev.value_counts().head(10)"
   ]
  },
  {
   "cell_type": "markdown",
   "id": "9eea95e3",
   "metadata": {},
   "source": [
    "После удаления подписочных платежей данные об оплатах сохраняют уже виденные нами тенденции."
   ]
  },
  {
   "cell_type": "markdown",
   "id": "7db045be",
   "metadata": {},
   "source": [
    "#### Вывод по загрузке и разведывательному анализу данных\n",
    "\n",
    "В данных `groups` (деление пользователей на A контрольную группу и B целевую) каждая строка - данные об уникальном пользователе и группе, в которую он входит. Пользователи разделены на группы в пропорции 20 на 80 (20% - контроль, 80% - целевая).\n",
    "  \n",
    "Данные из дополнительного файла `groups_add`, присланного нам позже, не пересекаются с данными основного, в нем новые id пользователей, деленных на группы в той же пропорции.\n",
    "  \n",
    "В датасете с оплатами `checks` id плативших пользователей также уникальны - то есть либо оплата на сайте не предполагает повторных покупок, либо это данные по суммарной выручке на пользователя за период эксперимента. Данные по суммам платежей распределены ненормально, есть несколько пиков (самый выделяющийся на 1900) и выбросы, тянущие среднее вправо.\n",
    "\n",
    "Датасет `active_studs` содержит данные об активных пользователях, которые зашли на платформу во время эксперимента. Все id из данного датасета входят в `groups`.\n",
    "\n",
    "Однако мы выяснили, что среди плативших пользователей, есть 149 id, входящих в экспериментальные группы, оплативших что-то в дни проведения эксперимента, но при этом не посещавших сайт (не включенных в `active_studs`). Эти id принадлежат как группе А, так и группе В (в тех же пропорциях).\n",
    "\n",
    "Мы предположили самый оптимистичный сценарий - это подписочные платежи: пользователь оформил подписку когда-то давно, а в период проведения эксперимента списался очередной платеж и удалили платежи неактивных пользователей, чтобы избежать зашумления данных."
   ]
  },
  {
   "cell_type": "markdown",
   "id": "d36f5604",
   "metadata": {},
   "source": [
    "---"
   ]
  },
  {
   "cell_type": "markdown",
   "id": "819825ef",
   "metadata": {},
   "source": [
    "### Метрики \n",
    "\n",
    ">*Дисклеймер*: для того, чтобы сделать верные выводы об итогах эксперимента, для начала нужно знать, насколько корректно задизайнен эксперимент: \n",
    ">* Насколько качественно проведено разделение групп на контроль и тест? Да и вообще довольно странно, что контроль 20%, а тест 80%, может быть, они перепутаны? \n",
    ">* Совпадают ли эти 2 группы по полу/возрасту/географии? \n",
    ">* Репрезентативна ли выборка? \n",
    ">* Был ли проведен А/А тест?\n",
    ">* Попадают ли в выборку только новые пользователи?   \n",
    ">   Поясню последний вопрос:то есть не влияет ли на результаты теста предыдущий пользовательский опыт? Для этого желательно, чтобы участие в эксперименте приняли только пользователи, никогда не пользовавшиеся механизмом оплаты на сайте - если не новые, но не покупавшие ничего ранее.\n",
    "\n",
    "\n",
    "\n",
    ">Также, для того, чтобы корректно интерпретировать результаты, нужно до начала эксперимента понимать, на какие бизнес-задачи должно оказать влияние изменение, цель эксперимента (желательно, по SMART) и какие будут целевые метрики (а также стоит отслеживать какие-то опережающие метрики, например, скорость прохождения всех этапов оплаты, либо Guardrail метрики, например, количество ошибок при оплате, или отток в процессе оплаты, а также, конечно, следить, чтобы не произошло ухудшение других важных для бизнеса метрик).\n",
    "\n",
    ">Все это нам точно не известно, так что тут мы ступаем на скользкий лед предположений)) \n",
    "___\n",
    "\n",
    "**Гипотеза, которую мы хотим проверить:** новая механика оплаты услуг на сайте увеличивает показатели выручки. \n",
    "\n",
    "**Возможные целевые метрики:** \n",
    "* C1 - конверсия пользователя в покупку (число покупок/число активных пользователей), \n",
    "* AOV - средний чек пользователя(сумма заказов/число транзакций), \n",
    "* ARPU (кумулятивная средняя выручка с пользователя \n",
    "* ARPAU (средняя выручка с активного пользователя), точнее ARPU, \n",
    "* ARPPU (средняя выручка с платящего пользователя)точнее ARPAU), \n",
    "* Repeat Purchase Rate (доля повторных покупок). \n",
    "\n",
    "**Особенности данных:** У нас нет данных о транзакциях, а также есть данные только об уникальных id (либо повторные покупки невозможны, либо в данных кумулятивный доход с одного пользователя за время эксперимента), так что AOV и Repeat Purchase Rate отпадают. \n",
    "\n",
    "**Вывод:**\n",
    "\n",
    "Таким образом, мы могли бы сравнить C1, ARPU, ARPAU, ARPPU.\n",
    "Однако, так как данные о платежах измеряются сотнями, тогда как о пользователях - десятками тысяч, эта ARPU не будет достаточно чувствительной, и если значимые изменения есть - их не покажет. Принимать решение надо было по результатам сравнения ARPPU и С1 (и, возможно, ARPAU).\n",
    "\n",
    "\n",
    "**Дополнительное решение:** Но ведь это учебный проект! Так что мы посчитаем все метрики (C1, ARPU, ARPAU, ARPPU), и посмотрим, что получится)))"
   ]
  },
  {
   "cell_type": "markdown",
   "id": "3f51aebf",
   "metadata": {},
   "source": [
    "---\n",
    "Сначала посмотрим на различия в метриках"
   ]
  },
  {
   "cell_type": "code",
   "execution_count": 43,
   "id": "c8602d93",
   "metadata": {},
   "outputs": [],
   "source": [
    "df = groups\\\n",
    "            .merge(checks_cor, how='left', on='id')\\\n",
    "            .merge(active_studs, how='left', on='id')\\\n",
    "            .fillna(0)"
   ]
  },
  {
   "cell_type": "code",
   "execution_count": 44,
   "id": "28ed656e",
   "metadata": {},
   "outputs": [
    {
     "data": {
      "text/html": [
       "<div>\n",
       "<style scoped>\n",
       "    .dataframe tbody tr th:only-of-type {\n",
       "        vertical-align: middle;\n",
       "    }\n",
       "\n",
       "    .dataframe tbody tr th {\n",
       "        vertical-align: top;\n",
       "    }\n",
       "\n",
       "    .dataframe thead th {\n",
       "        text-align: right;\n",
       "    }\n",
       "</style>\n",
       "<table border=\"1\" class=\"dataframe\">\n",
       "  <thead>\n",
       "    <tr style=\"text-align: right;\">\n",
       "      <th></th>\n",
       "      <th>id</th>\n",
       "      <th>grp</th>\n",
       "      <th>rev</th>\n",
       "      <th>is_paying</th>\n",
       "      <th>is_active</th>\n",
       "    </tr>\n",
       "  </thead>\n",
       "  <tbody>\n",
       "    <tr>\n",
       "      <th>0</th>\n",
       "      <td>1489</td>\n",
       "      <td>B</td>\n",
       "      <td>0.0</td>\n",
       "      <td>0.0</td>\n",
       "      <td>0.0</td>\n",
       "    </tr>\n",
       "    <tr>\n",
       "      <th>1</th>\n",
       "      <td>1627</td>\n",
       "      <td>A</td>\n",
       "      <td>990.0</td>\n",
       "      <td>1.0</td>\n",
       "      <td>1.0</td>\n",
       "    </tr>\n",
       "    <tr>\n",
       "      <th>2</th>\n",
       "      <td>1768</td>\n",
       "      <td>B</td>\n",
       "      <td>0.0</td>\n",
       "      <td>0.0</td>\n",
       "      <td>0.0</td>\n",
       "    </tr>\n",
       "    <tr>\n",
       "      <th>3</th>\n",
       "      <td>1783</td>\n",
       "      <td>B</td>\n",
       "      <td>0.0</td>\n",
       "      <td>0.0</td>\n",
       "      <td>0.0</td>\n",
       "    </tr>\n",
       "    <tr>\n",
       "      <th>4</th>\n",
       "      <td>1794</td>\n",
       "      <td>A</td>\n",
       "      <td>0.0</td>\n",
       "      <td>0.0</td>\n",
       "      <td>0.0</td>\n",
       "    </tr>\n",
       "  </tbody>\n",
       "</table>\n",
       "</div>"
      ],
      "text/plain": [
       "     id grp    rev  is_paying  is_active\n",
       "0  1489   B    0.0        0.0        0.0\n",
       "1  1627   A  990.0        1.0        1.0\n",
       "2  1768   B    0.0        0.0        0.0\n",
       "3  1783   B    0.0        0.0        0.0\n",
       "4  1794   A    0.0        0.0        0.0"
      ]
     },
     "execution_count": 44,
     "metadata": {},
     "output_type": "execute_result"
    }
   ],
   "source": [
    "df.head()"
   ]
  },
  {
   "cell_type": "code",
   "execution_count": 45,
   "id": "8d32d24e",
   "metadata": {},
   "outputs": [],
   "source": [
    "df_metrics = df.groupby('grp').agg({'id':'count',\n",
    "                                    'is_active': 'sum',\n",
    "                                    'is_paying': 'sum',\n",
    "                       'rev':['sum',\n",
    "                               lambda x: round(x.sum()/len(x), 3),\n",
    "                              lambda x: round(x.sum()/sum(x>0), 3)]\n",
    "                        })"
   ]
  },
  {
   "cell_type": "code",
   "execution_count": 46,
   "id": "35464d5a",
   "metadata": {},
   "outputs": [],
   "source": [
    "df_metrics.columns = ['total_users',  'active_users', 'paying_users', 'payment_sum','ARPU', 'ARPPU']"
   ]
  },
  {
   "cell_type": "code",
   "execution_count": 47,
   "id": "5d48d5a2",
   "metadata": {},
   "outputs": [],
   "source": [
    "df_metrics['ARPAU'] = (df_metrics.payment_sum / df_metrics.active_users).round(3)"
   ]
  },
  {
   "cell_type": "code",
   "execution_count": 48,
   "id": "4a224788",
   "metadata": {},
   "outputs": [],
   "source": [
    "df_metrics['C1'] = (df_metrics.paying_users / df_metrics.active_users).round(4)"
   ]
  },
  {
   "cell_type": "code",
   "execution_count": 49,
   "id": "21b5b397",
   "metadata": {
    "scrolled": true
   },
   "outputs": [
    {
     "data": {
      "text/html": [
       "<div>\n",
       "<style scoped>\n",
       "    .dataframe tbody tr th:only-of-type {\n",
       "        vertical-align: middle;\n",
       "    }\n",
       "\n",
       "    .dataframe tbody tr th {\n",
       "        vertical-align: top;\n",
       "    }\n",
       "\n",
       "    .dataframe thead th {\n",
       "        text-align: right;\n",
       "    }\n",
       "</style>\n",
       "<table border=\"1\" class=\"dataframe\">\n",
       "  <thead>\n",
       "    <tr style=\"text-align: right;\">\n",
       "      <th></th>\n",
       "      <th>total_users</th>\n",
       "      <th>active_users</th>\n",
       "      <th>paying_users</th>\n",
       "      <th>payment_sum</th>\n",
       "      <th>ARPU</th>\n",
       "      <th>ARPPU</th>\n",
       "      <th>ARPAU</th>\n",
       "      <th>C1</th>\n",
       "    </tr>\n",
       "    <tr>\n",
       "      <th>grp</th>\n",
       "      <th></th>\n",
       "      <th></th>\n",
       "      <th></th>\n",
       "      <th></th>\n",
       "      <th></th>\n",
       "      <th></th>\n",
       "      <th></th>\n",
       "      <th></th>\n",
       "    </tr>\n",
       "  </thead>\n",
       "  <tbody>\n",
       "    <tr>\n",
       "      <th>A</th>\n",
       "      <td>14671</td>\n",
       "      <td>1535.0</td>\n",
       "      <td>78.0</td>\n",
       "      <td>72820.0000</td>\n",
       "      <td>4.964</td>\n",
       "      <td>933.590</td>\n",
       "      <td>47.440</td>\n",
       "      <td>0.0508</td>\n",
       "    </tr>\n",
       "    <tr>\n",
       "      <th>B</th>\n",
       "      <td>59813</td>\n",
       "      <td>6793.0</td>\n",
       "      <td>313.0</td>\n",
       "      <td>393074.0035</td>\n",
       "      <td>6.572</td>\n",
       "      <td>1255.827</td>\n",
       "      <td>57.865</td>\n",
       "      <td>0.0461</td>\n",
       "    </tr>\n",
       "  </tbody>\n",
       "</table>\n",
       "</div>"
      ],
      "text/plain": [
       "     total_users  active_users  paying_users  payment_sum   ARPU     ARPPU  \\\n",
       "grp                                                                          \n",
       "A          14671        1535.0          78.0   72820.0000  4.964   933.590   \n",
       "B          59813        6793.0         313.0  393074.0035  6.572  1255.827   \n",
       "\n",
       "      ARPAU      C1  \n",
       "grp                  \n",
       "A    47.440  0.0508  \n",
       "B    57.865  0.0461  "
      ]
     },
     "execution_count": 49,
     "metadata": {},
     "output_type": "execute_result"
    }
   ],
   "source": [
    "df_metrics"
   ]
  },
  {
   "cell_type": "markdown",
   "id": "64bbc805",
   "metadata": {},
   "source": [
    "Мы сгруппировали данные (контроль/тест) и посмотрели на метрики. Мы видим, что данные по выручке отличаются в тестовой и контрольокй группе, но конверсия в покупку даже упала.\n",
    "\n",
    "Проверим на следующем этапе анализа, является ли изменение метрик статистически значимым."
   ]
  },
  {
   "cell_type": "markdown",
   "id": "e06f193b",
   "metadata": {},
   "source": [
    "### Статистический анализ\n",
    "\n",
    "Для сравнения контрольных и тестовых групп используем тест Т-стьюдента для независимых выборок, так как ARPU, ARPAU, ARPPU это средние, да и конверсию можно представить в виде среднего нулей и единиц (т.е. все эти метрики - выборочные средние). Выборки разного размера, так что предположим, что дисперсии ген.совокупностей не равны, учтем это в параметрах ттеста. \n",
    "\n",
    "Учитывая, что в ARPPU выборка довольно мала (а метрика самая перспективная), проверим также средние дополнительно бутстрапом. А конверсию классическим тестои хи-квадрат.\n",
    "\n",
    "Так как при сравнении разных метрик число наблюдений будет различаться, для каждой метрики установим свой пороговый уровень вероятности соверщить ошибку 1 рода (alpha)."
   ]
  },
  {
   "cell_type": "markdown",
   "id": "334f823a",
   "metadata": {},
   "source": [
    "#### Подготовка данных\n",
    "Разделим дф на контроль и тест."
   ]
  },
  {
   "cell_type": "code",
   "execution_count": 50,
   "id": "9914ac2b",
   "metadata": {},
   "outputs": [],
   "source": [
    "control_df = groups[groups.grp == 'A']\\\n",
    "                    .merge(checks_cor, how='left', on='id')\\\n",
    "                    .merge(active_studs, how='left', on='id').fillna(0)"
   ]
  },
  {
   "cell_type": "code",
   "execution_count": 51,
   "id": "a8fbe69e",
   "metadata": {},
   "outputs": [],
   "source": [
    "test_df = groups[groups.grp == 'B']\\\n",
    "                    .merge(checks_cor, how='left', on='id')\\\n",
    "                    .merge(active_studs, how='left', on='id').fillna(0)"
   ]
  },
  {
   "cell_type": "markdown",
   "id": "c8afba06",
   "metadata": {},
   "source": [
    "#### Сравнение ARPU "
   ]
  },
  {
   "cell_type": "markdown",
   "id": "2c2854d9",
   "metadata": {},
   "source": [
    "**Нулевая гипотеза:** ARPU в тестовой и контрольной группе равен друг другу.\n",
    "\n",
    "\n",
    "**Альтернативная гипотеза:** ARPU в тестовой группе больше, чем в контрольной (односторонняя).\n",
    "\n",
    "**Alpha** 0.01 (т.к. мы проводим тест на выборке в сотни тысяч наблюдений)"
   ]
  },
  {
   "cell_type": "code",
   "execution_count": 52,
   "id": "e3afeeac",
   "metadata": {},
   "outputs": [],
   "source": [
    "control_df_users = control_df[['id', 'rev']]"
   ]
  },
  {
   "cell_type": "code",
   "execution_count": 53,
   "id": "119571ef",
   "metadata": {},
   "outputs": [],
   "source": [
    "test_df_users = test_df[['id', 'rev']]"
   ]
  },
  {
   "cell_type": "code",
   "execution_count": 54,
   "id": "17d05067",
   "metadata": {},
   "outputs": [],
   "source": [
    "alpha = 0.01"
   ]
  },
  {
   "cell_type": "code",
   "execution_count": 55,
   "id": "1d21586e",
   "metadata": {
    "scrolled": true
   },
   "outputs": [
    {
     "data": {
      "image/png": "[encoded data removed]",
      "text/plain": [
       "<Figure size 1080x360 with 2 Axes>"
      ]
     },
     "metadata": {},
     "output_type": "display_data"
    }
   ],
   "source": [
    "#посмотрим на распределение признака\n",
    "fig, ax = plt.subplots(1,2,figsize=(15,5), sharex=True, sharey=False)\n",
    "control_df_users.rev.hist(bins=100, ax=ax[0]);\n",
    "ax[0].set_title('Диаграмма частот оплат пользователей контрольной группы');\n",
    "ax[0].set_xlabel('Сумма оплаты');\n",
    "ax[0].set_ylabel('');\n",
    "ax[0].grid(True, color='#e2e2e2', alpha=0.5)\n",
    "sns.despine()\n",
    "test_df_users.rev.hist(bins=100, ax=ax[1]);\n",
    "ax[1].set_title('Диаграмма частот оплат пользователей тестовой группы');\n",
    "ax[1].set_xlabel('Сумма оплаты');\n",
    "ax[1].set_ylabel('');\n",
    "ax[1].grid(True, color='#e2e2e2', alpha=0.5)\n",
    "sns.despine()"
   ]
  },
  {
   "cell_type": "markdown",
   "id": "30f2754d",
   "metadata": {},
   "source": [
    "График неинформативен, так как большая часть пользователей не являются покупателями (сумма покупки равна нулю)."
   ]
  },
  {
   "cell_type": "code",
   "execution_count": 56,
   "id": "03c0f539",
   "metadata": {},
   "outputs": [],
   "source": [
    "# ттест для независимых выборок, нераные дисперсии\n",
    "stat, pvalue = st.ttest_ind(test_df_users.rev,\n",
    "                            control_df_users.rev,\n",
    "                            equal_var = False,\n",
    "                            alternative = 'greater')"
   ]
  },
  {
   "cell_type": "code",
   "execution_count": 57,
   "id": "9593e30b",
   "metadata": {},
   "outputs": [
    {
     "name": "stdout",
     "output_type": "stream",
     "text": [
      "pvalue=0.03688146188932143\n",
      "Не получилось отклонить нулевую гипотезу\n"
     ]
    }
   ],
   "source": [
    "# тест односторонний вправо:\n",
    "# отвергаем гипотезу только тогда, когда среднее теста значимо больше среднего контроля\n",
    "print(f'{pvalue=}')\n",
    "if (pvalue < alpha) and (test_df_users.rev.mean() > control_df_users.rev.mean()):\n",
    "    print(\"Отклоняем нулевую гипотезу\")\n",
    "else:\n",
    "    print(\"Не получилось отклонить нулевую гипотезу\") "
   ]
  },
  {
   "cell_type": "markdown",
   "id": "7dab5e4c",
   "metadata": {},
   "source": [
    "Вероятность получить такие же, или более сильные различия при условии, что нулевая гипотеза верна выше выбранного уровня значимости (с учетом односторонности альтернативной гипотезы), так что у нет оснований отвергнуть нулевую гипотезу о равенстве ARPU в тестовой и контрольной группе."
   ]
  },
  {
   "cell_type": "markdown",
   "id": "7185e0bc",
   "metadata": {},
   "source": [
    "___\n",
    "По результатам теста мы не отклоняем нулевую гипотезу о равенстве ARPU в тестовой и контрольной группе. "
   ]
  },
  {
   "cell_type": "markdown",
   "id": "c0a5226b",
   "metadata": {},
   "source": [
    "#### Сравнение ARPAU "
   ]
  },
  {
   "cell_type": "markdown",
   "id": "7e65a328",
   "metadata": {},
   "source": [
    "**Нулевая гипотеза:** ARPAU в тестовой и контрольно группе равен друг другу.\n",
    "\n",
    "\n",
    "**Альтернативная гипотеза:** ARPAU в тестовой группе больше, чем в контрольной.\n",
    "\n",
    "\n",
    "**Alpha** 0.01 (т.к. мы проводим тест на выборке в тысячи наблюдений)"
   ]
  },
  {
   "cell_type": "code",
   "execution_count": 58,
   "id": "5278aae9",
   "metadata": {},
   "outputs": [],
   "source": [
    "control_df_active_users = control_df[control_df.is_active>0]"
   ]
  },
  {
   "cell_type": "code",
   "execution_count": 59,
   "id": "31c58912",
   "metadata": {},
   "outputs": [],
   "source": [
    "test_df_active_users = test_df[test_df.is_active>0]"
   ]
  },
  {
   "cell_type": "code",
   "execution_count": 60,
   "id": "a539c52a",
   "metadata": {},
   "outputs": [],
   "source": [
    "alpha = 0.01"
   ]
  },
  {
   "cell_type": "code",
   "execution_count": 61,
   "id": "7aee0fe6",
   "metadata": {
    "scrolled": false
   },
   "outputs": [
    {
     "data": {
      "image/png": "[encoded data removed]",
      "text/plain": [
       "<Figure size 1080x360 with 2 Axes>"
      ]
     },
     "metadata": {},
     "output_type": "display_data"
    }
   ],
   "source": [
    "fig, ax = plt.subplots(1,2,figsize=(15,5), sharex=True, sharey=False)\n",
    "control_df_active_users.rev.hist(bins=100, ax=ax[0]);\n",
    "ax[0].set_title('Диаграмма частот оплат \\n активных пользователей контрольной группы');\n",
    "ax[0].set_xlabel('Сумма оплаты');\n",
    "ax[0].set_ylabel('');\n",
    "ax[0].grid(True, color='#e2e2e2', alpha=0.5)\n",
    "sns.despine()\n",
    "test_df_active_users.rev.hist(bins=100, ax=ax[1]);\n",
    "ax[1].set_title('Диаграмма частот оплат \\n активных пользователей тестовой группы');\n",
    "ax[1].set_xlabel('Сумма оплаты');\n",
    "ax[1].set_ylabel('');\n",
    "ax[1].grid(True, color='#e2e2e2', alpha=0.5)\n",
    "sns.despine()"
   ]
  },
  {
   "cell_type": "markdown",
   "id": "152b9c3c",
   "metadata": {},
   "source": [
    "График неинформативен, как и предыдущий, хотя данных об активных пользователях значительно меньше, их большая часть не являются покупателями (сумма покупки равна нулю)."
   ]
  },
  {
   "cell_type": "code",
   "execution_count": 62,
   "id": "7aef5f5f",
   "metadata": {},
   "outputs": [],
   "source": [
    "stat, pvalue = st.ttest_ind(test_df_active_users.rev,\n",
    "                            control_df_active_users.rev, \n",
    "                            equal_var = False, \n",
    "                           alternative = 'greater')"
   ]
  },
  {
   "cell_type": "code",
   "execution_count": 63,
   "id": "a77cb02d",
   "metadata": {},
   "outputs": [
    {
     "name": "stdout",
     "output_type": "stream",
     "text": [
      "pvalue=0.10565379542653419\n",
      "Не получилось отклонить нулевую гипотезу\n"
     ]
    }
   ],
   "source": [
    "# тест односторонний вправо:\n",
    "# отвергаем гипотезу только тогда, когда  среднее теста значимо больше среднего контроля\n",
    "print(f'{pvalue=}')\n",
    "if (pvalue < alpha) and (test_df_active_users.rev.mean() \n",
    "                             > control_df_active_users.rev.mean()):\n",
    "    print(\"Отклоняем нулевую гипотезу\")\n",
    "else:\n",
    "    print(\"Не получилось отклонить нулевую гипотезу\") "
   ]
  },
  {
   "cell_type": "markdown",
   "id": "d9002df4",
   "metadata": {},
   "source": [
    "Вероятность получить такие же, или более сильные различия при условии, что нулевая гипотеза верна выше выбранного уровня значимости, так что у нас нет оснований отвергнуть нулевую гипотезу о равенстве ARPAU в тестовой и контрольной группе"
   ]
  },
  {
   "cell_type": "markdown",
   "id": "03ae3297",
   "metadata": {},
   "source": [
    "___\n",
    "По результатам теста мы не отклоняем нулевую гипотезу о равенстве ARPAU в тестовой и контрольной группе. "
   ]
  },
  {
   "cell_type": "markdown",
   "id": "a72eeb92",
   "metadata": {},
   "source": [
    "#### Сравнение ARPPU "
   ]
  },
  {
   "cell_type": "markdown",
   "id": "edc18007",
   "metadata": {},
   "source": [
    "**Нулевая гипотеза:** ARPPU в тестовой и контрольно группе равен друг другу.\n",
    "\n",
    "**Альтернативная гипотеза:** ARPPU в тестовой группе больше, чем в контрольной.\n",
    "\n",
    "**Альфа** 0.05 (т.к. размер выборки измеряется сотнями, тест менее мощный)"
   ]
  },
  {
   "cell_type": "code",
   "execution_count": 64,
   "id": "ef1a9967",
   "metadata": {},
   "outputs": [],
   "source": [
    "control_df_paying_users = control_df[control_df.rev > 0]"
   ]
  },
  {
   "cell_type": "code",
   "execution_count": 65,
   "id": "cf67ecc6",
   "metadata": {},
   "outputs": [],
   "source": [
    "test_df_paying_users = test_df[test_df.rev > 0]"
   ]
  },
  {
   "cell_type": "code",
   "execution_count": 66,
   "id": "478adf9b",
   "metadata": {},
   "outputs": [],
   "source": [
    "alpha = 0.05"
   ]
  },
  {
   "cell_type": "code",
   "execution_count": 67,
   "id": "e9992c7b",
   "metadata": {
    "scrolled": false
   },
   "outputs": [
    {
     "data": {
      "image/png": "[encoded data removed]",
      "text/plain": [
       "<Figure size 1080x720 with 4 Axes>"
      ]
     },
     "metadata": {},
     "output_type": "display_data"
    }
   ],
   "source": [
    "fig, ax = plt.subplots(2,2, figsize=(15,10), sharex=False, sharey=False)\n",
    "ax = ax.flatten()\n",
    "control_df_paying_users.rev.hist(bins=100, ax=ax[0]);\n",
    "ax[0].set_title('Диаграмма частот оплат \\n платящих пользователей контрольной группы');\n",
    "ax[0].set_xlabel('');\n",
    "ax[0].set_ylabel('');\n",
    "ax[0].grid(True, color='#e2e2e2', alpha=0.5)\n",
    "sns.despine()\n",
    "plt.subplots_adjust(hspace=0.5)\n",
    "\n",
    "test_df_paying_users.rev.hist(bins=100, ax=ax[1]);\n",
    "ax[1].set_title('Диаграмма частот оплат \\n платящих пользователей тестовой группы');\n",
    "ax[1].set_xlabel('');\n",
    "ax[1].set_ylabel('');\n",
    "ax[1].grid(True, color='#e2e2e2', alpha=0.5)\n",
    "sns.despine()\n",
    "plt.subplots_adjust(hspace=0.5)\n",
    "\n",
    "sns.boxenplot(data=control_df_paying_users, x='rev', ax=ax[2],  palette='pastel');\n",
    "sns.stripplot(data=control_df_paying_users, x='rev',\n",
    "              size=7, palette='deep', linewidth=0.4, ax=ax[2])\n",
    "ax[2].set_title('Диаграмма размаха оплат \\n платящих пользователей контрольной группы');\n",
    "ax[2].set_xlabel('Сумма оплаты');\n",
    "ax[2].set_ylabel('');\n",
    "ax[2].grid(True, color='#e2e2e2', alpha=0.5)\n",
    "sns.despine()\n",
    "plt.subplots_adjust(hspace=0.5)\n",
    "\n",
    "sns.boxenplot(data=test_df_paying_users, x='rev', ax=ax[3],  palette='pastel');\n",
    "sns.stripplot(data=test_df_paying_users, x='rev',\n",
    "              size=7, palette='deep', linewidth=0.4, ax=ax[3])\n",
    "ax[3].set_title('Диаграмма размаха оплат \\n платящих пользователей тестовой группы');\n",
    "ax[3].set_xlabel('Сумма оплаты');\n",
    "ax[3].set_ylabel('');\n",
    "ax[3].grid(True, color='#e2e2e2', alpha=0.5)\n",
    "sns.despine()\n",
    "plt.subplots_adjust(hspace=0.5)"
   ]
  },
  {
   "cell_type": "markdown",
   "id": "b417d570",
   "metadata": {},
   "source": [
    "Эти графики уже интереснее: на них мы видим, что особенностью распределения платежей в тестовой группе является пик на значении около 1900, который предсказуемо тянет все статистики вправо. \n",
    "\n",
    "Таких платежей очень много, на реальных данных у нас обязательно возникли бы вопросы, откуда они взялись. Не связано ли это с какой-то акцией, проходившей в это время (это плохо, так как на эксперимент не должны влиять никакие изменения, кроме целевых), либо изменение механики оплаты было направлено на увеличение именно таких платежей (например, стимулирование покупки какого-то продукта на этапе оплаты), и тогда это хорошо, своей цели мы достигли."
   ]
  },
  {
   "cell_type": "code",
   "execution_count": 68,
   "id": "b2f7a83a",
   "metadata": {},
   "outputs": [],
   "source": [
    "stat, pvalue = st.ttest_ind(test_df_paying_users.rev,\n",
    "                            control_df_paying_users.rev, \n",
    "                            equal_var = False, \n",
    "                           alternative = 'greater')"
   ]
  },
  {
   "cell_type": "code",
   "execution_count": 69,
   "id": "ae63bd0d",
   "metadata": {},
   "outputs": [
    {
     "name": "stdout",
     "output_type": "stream",
     "text": [
      "pvalue=0.002679291204696783\n",
      "Отклоняем нулевую гипотезу\n"
     ]
    }
   ],
   "source": [
    "#тест односторонний вправо:\n",
    "#отвергаем гипотезу только тогда, когда когда среднее теста значимо больше среднего контроля\n",
    "print(f'{pvalue=}')\n",
    "if (pvalue < alpha) and (test_df_paying_users.rev.mean()\n",
    "                         > control_df_paying_users.rev.mean()):\n",
    "    print(\"Отклоняем нулевую гипотезу\")\n",
    "else:\n",
    "    print(\"Не получилось отклонить нулевую гипотезу\") "
   ]
  },
  {
   "cell_type": "markdown",
   "id": "a68cd1ce",
   "metadata": {},
   "source": [
    "Вероятность получить такие же, или более сильные различия при условии, что нулевая гипотеза верна ниже выбранного уровня значимости (и даже если бы мы поставили более строгий критерий, результат был бы тем же), так что у нас есть основания отвергнуть нулевую гипотезу о равенстве ARPPU в тестовой и контрольной группе"
   ]
  },
  {
   "cell_type": "markdown",
   "id": "5c2479af",
   "metadata": {},
   "source": [
    "Так как размер выборки с платящими пользователями довольно мал, попробуем подтвердить или опровергнуть наши результаты с помощью бутстрапа."
   ]
  },
  {
   "cell_type": "code",
   "execution_count": 70,
   "id": "d45bf025",
   "metadata": {},
   "outputs": [],
   "source": [
    "def get_bootstrap(\n",
    "    data_column_1, # числовые значения первой выборки\n",
    "    data_column_2, # числовые значения второй выборки\n",
    "    boot_it = 10000, # количество бутстрэп-подвыборок\n",
    "    statistic = np.mean, # интересующая нас статистика\n",
    "    bootstrap_conf_level = 0.95 # уровень значимости\n",
    "):\n",
    "    boot_data = []\n",
    "    for i in tqdm(range(boot_it)): # извлекаем подвыборки\n",
    "        samples_1 = data_column_1.sample(\n",
    "            len(data_column_1), \n",
    "            replace = True # параметр возвращения\n",
    "        ).values\n",
    "        \n",
    "        samples_2 = data_column_2.sample(\n",
    "            len(data_column_1), \n",
    "            replace = True\n",
    "        ).values\n",
    "        \n",
    "        boot_data.append(statistic(samples_1)-statistic(samples_2))\n",
    "        \n",
    "    pd_boot_data = pd.DataFrame(boot_data)\n",
    "        \n",
    "    left_quant = (1 - bootstrap_conf_level)/2\n",
    "    right_quant = 1 - (1 - bootstrap_conf_level) / 2\n",
    "    quants = pd_boot_data.quantile([left_quant, right_quant])\n",
    "        \n",
    "    p_1 = st.norm.cdf(\n",
    "        x = 0, \n",
    "        loc = np.mean(boot_data), \n",
    "        scale = np.std(boot_data)\n",
    "    )\n",
    "    p_2 = st.norm.cdf(\n",
    "        x = 0, \n",
    "        loc = -np.mean(boot_data), \n",
    "        scale = np.std(boot_data)\n",
    "    )\n",
    "    p_value = min(p_1, p_2) * 2\n",
    "        \n",
    "    # Визуализация\n",
    "    _, _, bars = plt.hist(pd_boot_data[0], bins = 50)\n",
    "    for bar in bars:\n",
    "        if bar.get_x() <= quants.iloc[0][0] or bar.get_x() >= quants.iloc[1][0]:\n",
    "            bar.set_facecolor('red')\n",
    "        else: \n",
    "            bar.set_facecolor('grey')\n",
    "            bar.set_edgecolor('black')\n",
    "    \n",
    "    plt.style.use('ggplot')\n",
    "    plt.vlines(quants,ymin=0,ymax=50,linestyle='--')\n",
    "    plt.xlabel('boot_data')\n",
    "    plt.ylabel('frequency')\n",
    "    plt.title(\"Histogram of boot_data\")\n",
    "    plt.show()\n",
    "       \n",
    "    return {\"boot_data\": boot_data, \n",
    "            \"quants\": quants, \n",
    "            \"p_value\": p_value}"
   ]
  },
  {
   "cell_type": "code",
   "execution_count": 71,
   "id": "699d928b",
   "metadata": {
    "scrolled": false
   },
   "outputs": [
    {
     "data": {
      "application/vnd.jupyter.widget-view+json": {
       "model_id": "77d31b048a4647ab909b98b18ff1862d",
       "version_major": 2,
       "version_minor": 0
      },
      "text/plain": [
       "  0%|          | 0/10000 [00:00<?, ?it/s]"
      ]
     },
     "metadata": {},
     "output_type": "display_data"
    },
    {
     "data": {
      "image/png": "[encoded data removed]",
      "text/plain": [
       "<Figure size 1080x360 with 1 Axes>"
      ]
     },
     "metadata": {},
     "output_type": "display_data"
    }
   ],
   "source": [
    "booted_df = get_bootstrap(control_df_paying_users.rev, \n",
    "                            test_df_paying_users.rev)"
   ]
  },
  {
   "cell_type": "code",
   "execution_count": 72,
   "id": "e25b3da1",
   "metadata": {},
   "outputs": [
    {
     "data": {
      "text/plain": [
       "0.02021799868036522"
      ]
     },
     "execution_count": 72,
     "metadata": {},
     "output_type": "execute_result"
    }
   ],
   "source": [
    "booted_df[\"p_value\"]"
   ]
  },
  {
   "cell_type": "code",
   "execution_count": 73,
   "id": "b3a6c6b9",
   "metadata": {
    "scrolled": true
   },
   "outputs": [
    {
     "data": {
      "text/html": [
       "<div>\n",
       "<style scoped>\n",
       "    .dataframe tbody tr th:only-of-type {\n",
       "        vertical-align: middle;\n",
       "    }\n",
       "\n",
       "    .dataframe tbody tr th {\n",
       "        vertical-align: top;\n",
       "    }\n",
       "\n",
       "    .dataframe thead th {\n",
       "        text-align: right;\n",
       "    }\n",
       "</style>\n",
       "<table border=\"1\" class=\"dataframe\">\n",
       "  <thead>\n",
       "    <tr style=\"text-align: right;\">\n",
       "      <th></th>\n",
       "      <th>0</th>\n",
       "    </tr>\n",
       "  </thead>\n",
       "  <tbody>\n",
       "    <tr>\n",
       "      <th>0.025</th>\n",
       "      <td>-593.436546</td>\n",
       "    </tr>\n",
       "    <tr>\n",
       "      <th>0.975</th>\n",
       "      <td>-44.778532</td>\n",
       "    </tr>\n",
       "  </tbody>\n",
       "</table>\n",
       "</div>"
      ],
      "text/plain": [
       "                0\n",
       "0.025 -593.436546\n",
       "0.975  -44.778532"
      ]
     },
     "execution_count": 73,
     "metadata": {},
     "output_type": "execute_result"
    }
   ],
   "source": [
    "booted_df[\"quants\"] "
   ]
  },
  {
   "cell_type": "markdown",
   "id": "92a4cd7b",
   "metadata": {},
   "source": [
    "Мы видим, что сравнение средних с помощью бутстрапа дают нам результат приблизительно такой же, как и при т-тесте. Ноль не входит в доверительный интервал и вероятность получить такие (или еще более экстремальные) различия между выборками при условии верной нулевой гипотезы - менее 5%, значит у нас есть основания ее отклонить"
   ]
  },
  {
   "cell_type": "markdown",
   "id": "1bf8366e",
   "metadata": {},
   "source": [
    "---\n",
    "У нас есть достаточно оснований отклонить нулевую гипотезу о равенстве ARPPU в тестовой и контрольной группе, и принять альтернативную, изменения в ARPPU статистически значимы"
   ]
  },
  {
   "cell_type": "markdown",
   "id": "d78193dc",
   "metadata": {},
   "source": [
    "---\n",
    "#### Сравнение C1"
   ]
  },
  {
   "cell_type": "markdown",
   "id": "4c03e4bc",
   "metadata": {},
   "source": [
    "Мы видим, что конверсия в покупку у нас несколько уменьшилась, это опасный признак - уменьшение конверсии может перечеркнуть все результаты увеличения ARPPU. Проверим, насколько значимы эти изменения. Конверсию можно представить сумму нулей и единиц в колонке is_paying, деленное на число активных пользователей (т.е. среднее выборки), так что для сравнения средних можем использовать тот же критерий Стьюдента.\n",
    "\n",
    "А также проведем тест хи-квадрат для категориальных переменных."
   ]
  },
  {
   "cell_type": "markdown",
   "id": "be175142",
   "metadata": {},
   "source": [
    "**Нулевая гипотеза:** С1 в тестовой и контрольно группе равны друг другу.\n",
    "\n",
    "**Альтернативная гипотеза:** С1 в тестовой группе меньше, чем в контрольной.\n",
    "\n",
    "**Альфа** 0.01 "
   ]
  },
  {
   "cell_type": "code",
   "execution_count": 74,
   "id": "ee75ad8c",
   "metadata": {},
   "outputs": [],
   "source": [
    "alpha = 0.01"
   ]
  },
  {
   "cell_type": "code",
   "execution_count": 75,
   "id": "e07d76fd",
   "metadata": {
    "scrolled": true
   },
   "outputs": [
    {
     "data": {
      "text/html": [
       "<div>\n",
       "<style scoped>\n",
       "    .dataframe tbody tr th:only-of-type {\n",
       "        vertical-align: middle;\n",
       "    }\n",
       "\n",
       "    .dataframe tbody tr th {\n",
       "        vertical-align: top;\n",
       "    }\n",
       "\n",
       "    .dataframe thead th {\n",
       "        text-align: right;\n",
       "    }\n",
       "</style>\n",
       "<table border=\"1\" class=\"dataframe\">\n",
       "  <thead>\n",
       "    <tr style=\"text-align: right;\">\n",
       "      <th></th>\n",
       "      <th>id</th>\n",
       "      <th>grp</th>\n",
       "      <th>rev</th>\n",
       "      <th>is_paying</th>\n",
       "      <th>is_active</th>\n",
       "    </tr>\n",
       "  </thead>\n",
       "  <tbody>\n",
       "    <tr>\n",
       "      <th>0</th>\n",
       "      <td>1627</td>\n",
       "      <td>A</td>\n",
       "      <td>990.0</td>\n",
       "      <td>1.0</td>\n",
       "      <td>1.0</td>\n",
       "    </tr>\n",
       "    <tr>\n",
       "      <th>11</th>\n",
       "      <td>3391</td>\n",
       "      <td>A</td>\n",
       "      <td>0.0</td>\n",
       "      <td>0.0</td>\n",
       "      <td>1.0</td>\n",
       "    </tr>\n",
       "    <tr>\n",
       "      <th>71</th>\n",
       "      <td>109623</td>\n",
       "      <td>A</td>\n",
       "      <td>0.0</td>\n",
       "      <td>0.0</td>\n",
       "      <td>1.0</td>\n",
       "    </tr>\n",
       "  </tbody>\n",
       "</table>\n",
       "</div>"
      ],
      "text/plain": [
       "        id grp    rev  is_paying  is_active\n",
       "0     1627   A  990.0        1.0        1.0\n",
       "11    3391   A    0.0        0.0        1.0\n",
       "71  109623   A    0.0        0.0        1.0"
      ]
     },
     "execution_count": 75,
     "metadata": {},
     "output_type": "execute_result"
    }
   ],
   "source": [
    "control_df_active_users.head(3)"
   ]
  },
  {
   "cell_type": "code",
   "execution_count": 76,
   "id": "8d765d7c",
   "metadata": {},
   "outputs": [],
   "source": [
    "stat, pvalue = st.ttest_ind(test_df_active_users.is_paying, \n",
    "                            control_df_active_users.is_paying,\n",
    "                            equal_var=False,\n",
    "                           alternative='greater')"
   ]
  },
  {
   "cell_type": "code",
   "execution_count": 77,
   "id": "2f297412",
   "metadata": {},
   "outputs": [
    {
     "name": "stdout",
     "output_type": "stream",
     "text": [
      "pvalue=0.7791303123182116\n",
      "Не получилось отклонить нулевую гипотезу\n"
     ]
    }
   ],
   "source": [
    "#тест односторонний влево:\n",
    "#отвергаем гипотезу только тогда, когда среднее теста значимо меньше среднего контроля\n",
    "print(f'{pvalue=}')\n",
    "if (pvalue < alpha) and (test_df_active_users.is_paying.mean()\n",
    "                             < control_df_active_users.is_paying.mean()):\n",
    "    print(\"Отклоняем нулевую гипотезу\")\n",
    "else:\n",
    "    print(\"Не получилось отклонить нулевую гипотезу\") "
   ]
  },
  {
   "cell_type": "markdown",
   "id": "ba407a9e",
   "metadata": {},
   "source": [
    "Вероятность получить такие же, или более сильные различия при условии, что нулевая гипотеза верна значительно выше выбранного уровня значимости, так что у нас нет оснований отвергнуть нулевую гипотезу о равенстве С1 в тестовой и контрольной группе. \n",
    "\n"
   ]
  },
  {
   "cell_type": "code",
   "execution_count": 78,
   "id": "e38fca75",
   "metadata": {},
   "outputs": [
    {
     "data": {
      "text/html": [
       "<div>\n",
       "<style scoped>\n",
       "    .dataframe tbody tr th:only-of-type {\n",
       "        vertical-align: middle;\n",
       "    }\n",
       "\n",
       "    .dataframe tbody tr th {\n",
       "        vertical-align: top;\n",
       "    }\n",
       "\n",
       "    .dataframe thead th {\n",
       "        text-align: right;\n",
       "    }\n",
       "</style>\n",
       "<table border=\"1\" class=\"dataframe\">\n",
       "  <thead>\n",
       "    <tr style=\"text-align: right;\">\n",
       "      <th>is_paying</th>\n",
       "      <th>0.0</th>\n",
       "      <th>1.0</th>\n",
       "    </tr>\n",
       "    <tr>\n",
       "      <th>grp</th>\n",
       "      <th></th>\n",
       "      <th></th>\n",
       "    </tr>\n",
       "  </thead>\n",
       "  <tbody>\n",
       "    <tr>\n",
       "      <th>A</th>\n",
       "      <td>1457</td>\n",
       "      <td>78</td>\n",
       "    </tr>\n",
       "    <tr>\n",
       "      <th>B</th>\n",
       "      <td>6480</td>\n",
       "      <td>313</td>\n",
       "    </tr>\n",
       "  </tbody>\n",
       "</table>\n",
       "</div>"
      ],
      "text/plain": [
       "is_paying   0.0  1.0\n",
       "grp                 \n",
       "A          1457   78\n",
       "B          6480  313"
      ]
     },
     "execution_count": 78,
     "metadata": {},
     "output_type": "execute_result"
    }
   ],
   "source": [
    "df_cross = pd.crosstab(df[df.is_active > 0].grp, df[df.is_active > 0].is_paying)\n",
    "df_cross"
   ]
  },
  {
   "cell_type": "code",
   "execution_count": 79,
   "id": "5146e80c",
   "metadata": {},
   "outputs": [],
   "source": [
    "chi2_value, p_value, df_value, expected_array = st.chi2_contingency(df_cross)"
   ]
  },
  {
   "cell_type": "code",
   "execution_count": 80,
   "id": "ecb23d7d",
   "metadata": {
    "scrolled": true
   },
   "outputs": [
    {
     "name": "stdout",
     "output_type": "stream",
     "text": [
      "Хи-квадрат = 0.527, p-value = 0.468\n"
     ]
    }
   ],
   "source": [
    "print(f'Хи-квадрат = {chi2_value:.3f}, p-value = {p_value:.3f}')"
   ]
  },
  {
   "cell_type": "markdown",
   "id": "512759d0",
   "metadata": {},
   "source": [
    " P-value > 0.05. Следовательно, взаимосвязи между группой и покупками - нет"
   ]
  },
  {
   "cell_type": "markdown",
   "id": "951774fd",
   "metadata": {},
   "source": [
    "---\n",
    "Конверсия из активных пользователей в платящих равна в тестовой и контрольной группах, ее уменьшение статистически не значимы. "
   ]
  },
  {
   "cell_type": "markdown",
   "id": "08a903ce",
   "metadata": {},
   "source": [
    "#### Вывод по статистическому анализу\n",
    "\n",
    "Для определения, являются ли различия в метриках статистически значимыми, мы применили критерий Т-Стьюдента для  сравнения средних двух независимых выборок и получили следующие результаты:\n",
    "- Изменения в ARPU статистически не значимы\n",
    "- Изменения в ARPAU статистически не значимы\n",
    "- Изменения в ARPPU статистически **значимы**\n",
    "- Изменения в C1 статистически не значимы\n",
    "\n",
    "Таким образом, мы уверились, что изменений в конверсии активного опльзователя в покупку при изменении механики оплаты не произошло. \n",
    "\n",
    "Как мы и предполагали, так как данные о платежах измеряются сотнями, тогда как о пользователях - десятками тысяч, эта метрики ARPU и даже ARPAU недостаточно чувствительны.\n",
    "\n",
    "Изменения в ARPPU статистически значимы, в тестовой группе с новой механикой оплаты средняя выручка на платящего пользователя выше, чем в контрольной.\n",
    "\n",
    "Также мы выснили, что особенностью распределения платежей в тестовой группе является пик на значении около 1900, который предсказуемо тянет все статистики вправо.\n",
    "\n",
    "Таких платежей очень много, на реальных данных у нас обязательно возникли бы вопросы, откуда они взялись. Не связано ли это с какой-то акцией, проходившей в это время (это плохо, так как на эксперимент не должны влиять никакие изменения, кроме целевых), либо изменение механики оплаты было направлено на увеличение именно таких платежей (например, стимулирование покупки какого-то продукта на этапе оплаты), и тогда это хорошо, своей цели мы достигли."
   ]
  },
  {
   "cell_type": "markdown",
   "id": "e8be459f",
   "metadata": {},
   "source": [
    "### Общий вывод\n"
   ]
  },
  {
   "cell_type": "markdown",
   "id": "650841f6",
   "metadata": {},
   "source": [
    "Мы проанализировали итоги эксперимента. В ходе тестирования одной гипотезы целевой группе была предложена новая механика оплаты услуг на сайте, у контрольной группы оставалась базовая механика. \n",
    "\n",
    "Проводя предварительный анализ данных, мы выяснили, что часть пользователей, совершивших оплату, не входит в группу активных пользователей (т.е посещавших сайт во время эксперимента). Мы предположили, что это подписочные платежи и исключили их их данных. \n",
    "\n",
    "**Гипотеза, которую мы хотим проверить:** новая механика оплаты услуг на сайте увеличивает показатели выручки.\n",
    "\n",
    "**Возможные целевые метрики с учетом особенностей данных:**\n",
    "- C1 - конверсия пользователя в покупку (число покупок/число активных пользователей),\n",
    "- ARPU (кумулятивная средняя выручка с пользователя\n",
    "- ARPAU (средняя выручка с активного пользователя),\n",
    "- ARPPU (средняя выручка с платящего пользователя)\n",
    "\n",
    "Если учесть разный размер выборок для этих метрик из-за низкой конверсии, самой перспективной выглядит ARPPU. Но мы проверили, есть ли статистические различия в каждой из выбранных метрик. \n",
    "\n",
    "По результатам исследования мы выяснили, что метрика ARPPU в тестовой группе действительно статистически значимо выросла, в остальных метриках статистически значимых изменений не выявлено (ARPU и ARPAU незначительно уменьшились, С1 несначительно упала). \n",
    "\n",
    "Еще один инсайт - мы обнаружили пик (сумма около 1900) в тестовой группе, происхождение которого нам неизвестно. Он может как скомпроментировать наш эксперимент (если это влияние каких-то еще маркетинговых активностей или акций), так и подтвердить его успех (если так сработало изменение механики оплаты). \n",
    "\n",
    "Запускать ли изменения механики оплаты на всех пользователей? Если происхождение этого пика одинаковых платежей не было бы посторонним, моя рекомендация - запускать новую механику на всех пользователей (учитывая дисклеймер из пункта о метриках)."
   ]
  },
  {
   "cell_type": "markdown",
   "id": "142c4c29",
   "metadata": {},
   "source": [
    "---\n"
   ]
  },
  {
   "cell_type": "markdown",
   "id": "1dcc00c5",
   "metadata": {},
   "source": [
    "## SQL\n"
   ]
  },
  {
   "cell_type": "markdown",
   "id": "e446af67",
   "metadata": {},
   "source": [
    "### Очень усердные ученики.\n",
    "\n",
    "**Условие**\n",
    "\n",
    "Образовательные курсы состоят из различных уроков, каждый из которых состоит из нескольких маленьких заданий. Каждое такое маленькое задание называется \"горошиной\".\n",
    "\n",
    "Oчень усердный ученик == пользователь, который хотя бы раз за текущий месяц правильно решил 20 горошин.\n",
    "\n",
    "**Данные**\n",
    "\n",
    "default.peas:\n",
    "\n",
    "- st_id\t(int) -\tID ученика\n",
    "- timest\t(timestamp)\t- Время решения карточки\n",
    "- correct\t(bool)\t- Правильно ли решена горошина?\n",
    "- subject\t(text)\t-Дисциплина, в которой находится горошина\n",
    "\n",
    "**Задание**\n",
    "Необходимо написать оптимальный запрос, который даст информацию о количестве очень усердных студентов.\n"
   ]
  },
  {
   "cell_type": "code",
   "execution_count": 81,
   "id": "ecd5c53b",
   "metadata": {},
   "outputs": [],
   "source": [
    "import pandahouse as ph"
   ]
  },
  {
   "cell_type": "code",
   "execution_count": 82,
   "id": "885c4d26",
   "metadata": {},
   "outputs": [],
   "source": [
    "connection_default = {'host': 'https://clickhouse.lab.karpov.courses',\n",
    "                      'database':'default',\n",
    "                      'user':'student', \n",
    "                      'password': 'dpo_python_2020'\n",
    "                     }"
   ]
  },
  {
   "cell_type": "code",
   "execution_count": 83,
   "id": "ecd68d01",
   "metadata": {},
   "outputs": [],
   "source": [
    "#функция-обертка подключения\n",
    "def select(sql):\n",
    "    return ph.read_clickhouse(sql, connection=connection_default)"
   ]
  },
  {
   "cell_type": "code",
   "execution_count": 84,
   "id": "35499ef4",
   "metadata": {},
   "outputs": [],
   "source": [
    "sql = '''\n",
    "SELECT\n",
    "    min(CAST(timest, 'Date')) AS min_timest, \n",
    "    max(CAST(timest, 'Date')) AS max_timest\n",
    "FROM default.peas\n",
    "\n",
    "'''"
   ]
  },
  {
   "cell_type": "code",
   "execution_count": 85,
   "id": "243dbcec",
   "metadata": {},
   "outputs": [
    {
     "data": {
      "text/html": [
       "<div>\n",
       "<style scoped>\n",
       "    .dataframe tbody tr th:only-of-type {\n",
       "        vertical-align: middle;\n",
       "    }\n",
       "\n",
       "    .dataframe tbody tr th {\n",
       "        vertical-align: top;\n",
       "    }\n",
       "\n",
       "    .dataframe thead th {\n",
       "        text-align: right;\n",
       "    }\n",
       "</style>\n",
       "<table border=\"1\" class=\"dataframe\">\n",
       "  <thead>\n",
       "    <tr style=\"text-align: right;\">\n",
       "      <th></th>\n",
       "      <th>min_timest</th>\n",
       "      <th>max_timest</th>\n",
       "    </tr>\n",
       "  </thead>\n",
       "  <tbody>\n",
       "    <tr>\n",
       "      <th>0</th>\n",
       "      <td>2021-10-30</td>\n",
       "      <td>2021-10-31</td>\n",
       "    </tr>\n",
       "  </tbody>\n",
       "</table>\n",
       "</div>"
      ],
      "text/plain": [
       "  min_timest max_timest\n",
       "0 2021-10-30 2021-10-31"
      ]
     },
     "execution_count": 85,
     "metadata": {},
     "output_type": "execute_result"
    }
   ],
   "source": [
    "select(sql)"
   ]
  },
  {
   "cell_type": "markdown",
   "id": "21237d30",
   "metadata": {},
   "source": [
    "Данные в базе только за 2 дня, так что, естественно, за текущий месяц результат будет 0. Но запрос вот такой"
   ]
  },
  {
   "cell_type": "code",
   "execution_count": 86,
   "id": "750dcdc2",
   "metadata": {},
   "outputs": [],
   "source": [
    "#количество очень усердных студентов (за текущий месяц)\n",
    "sql = '''\n",
    "\n",
    "SELECT COUNT(st_id)    \n",
    "FROM    \n",
    "    (\n",
    "    SELECT \n",
    "        st_id,\n",
    "        toStartOfMonth(timest) as month, \n",
    "        sum(correct) as corr_answers\n",
    "        \n",
    "    FROM default.peas \n",
    "    WHERE month == toStartOfMonth(now())\n",
    "    GROUP BY st_id, month\n",
    "    HAVING corr_answers >=20\n",
    "    )\n",
    "\n",
    "'''"
   ]
  },
  {
   "cell_type": "code",
   "execution_count": 87,
   "id": "c95d1a62",
   "metadata": {},
   "outputs": [
    {
     "data": {
      "text/html": [
       "<div>\n",
       "<style scoped>\n",
       "    .dataframe tbody tr th:only-of-type {\n",
       "        vertical-align: middle;\n",
       "    }\n",
       "\n",
       "    .dataframe tbody tr th {\n",
       "        vertical-align: top;\n",
       "    }\n",
       "\n",
       "    .dataframe thead th {\n",
       "        text-align: right;\n",
       "    }\n",
       "</style>\n",
       "<table border=\"1\" class=\"dataframe\">\n",
       "  <thead>\n",
       "    <tr style=\"text-align: right;\">\n",
       "      <th></th>\n",
       "      <th>count(st_id)</th>\n",
       "    </tr>\n",
       "  </thead>\n",
       "  <tbody>\n",
       "    <tr>\n",
       "      <th>0</th>\n",
       "      <td>0</td>\n",
       "    </tr>\n",
       "  </tbody>\n",
       "</table>\n",
       "</div>"
      ],
      "text/plain": [
       "   count(st_id)\n",
       "0             0"
      ]
     },
     "execution_count": 87,
     "metadata": {},
     "output_type": "execute_result"
    }
   ],
   "source": [
    "select(sql)"
   ]
  },
  {
   "cell_type": "code",
   "execution_count": 88,
   "id": "7d089d5e",
   "metadata": {},
   "outputs": [],
   "source": [
    "#проверим сколько усердных учеников в данных вообще\n",
    "sql = '''\n",
    "\n",
    "SELECT COUNT(st_id)    \n",
    "FROM    \n",
    "    (\n",
    "    SELECT \n",
    "        st_id,\n",
    "        toStartOfMonth(timest) as month, \n",
    "        sum(correct) as corr_answers\n",
    "        \n",
    "    FROM default.peas \n",
    "    GROUP BY st_id, month\n",
    "    HAVING corr_answers >=20\n",
    "    )\n",
    "\n",
    "'''"
   ]
  },
  {
   "cell_type": "code",
   "execution_count": 89,
   "id": "a7490ae6",
   "metadata": {},
   "outputs": [
    {
     "data": {
      "text/html": [
       "<div>\n",
       "<style scoped>\n",
       "    .dataframe tbody tr th:only-of-type {\n",
       "        vertical-align: middle;\n",
       "    }\n",
       "\n",
       "    .dataframe tbody tr th {\n",
       "        vertical-align: top;\n",
       "    }\n",
       "\n",
       "    .dataframe thead th {\n",
       "        text-align: right;\n",
       "    }\n",
       "</style>\n",
       "<table border=\"1\" class=\"dataframe\">\n",
       "  <thead>\n",
       "    <tr style=\"text-align: right;\">\n",
       "      <th></th>\n",
       "      <th>count(st_id)</th>\n",
       "    </tr>\n",
       "  </thead>\n",
       "  <tbody>\n",
       "    <tr>\n",
       "      <th>0</th>\n",
       "      <td>136</td>\n",
       "    </tr>\n",
       "  </tbody>\n",
       "</table>\n",
       "</div>"
      ],
      "text/plain": [
       "   count(st_id)\n",
       "0           136"
      ]
     },
     "execution_count": 89,
     "metadata": {},
     "output_type": "execute_result"
    }
   ],
   "source": [
    "select(sql)"
   ]
  },
  {
   "cell_type": "markdown",
   "id": "1a15996a",
   "metadata": {},
   "source": [
    "### Запрос с метриками\n",
    "\n",
    "**Условие**\n",
    "\n",
    "Образовательная платформа предлагает пройти студентам курсы по модели trial: студент может решить бесплатно лишь 30 горошин в день. Для неограниченного количества заданий в определенной дисциплине студенту необходимо приобрести полный доступ. Команда провела эксперимент, где был протестирован новый экран оплаты.\n",
    "\n",
    "Активным считается пользователь, за все время решивший больше 10 задач правильно в любых дисциплинах.\n",
    "Активным по математике считается пользователь, за все время решивший 2 или больше задач правильно по математике.\n",
    "\n",
    "**Данные:**\n",
    "default.peas (см. выше), \n",
    "\n",
    "default.studs:\n",
    "\n",
    "- st_id\t(int) \t- ID ученика\n",
    "- test_grp\t(text) -\tМетка ученика в данном эксперименте\n",
    "\n",
    "\n",
    "default.final_project_check:\n",
    "\n",
    "- st_id\t(int) - ID ученика\n",
    "- sale_time\t(timestamp)\t- Время покупки\n",
    "- money\t(int)\t- Цена, по которой приобрели данный курс\n",
    "- subject\t(text) \t- Дисциплина, на которую приобрели полный доступ\n",
    "\n",
    "**Задача**\n",
    "\n",
    "Необходимо в одном запросе выгрузить следующую информацию о группах пользователей:\n",
    "\n",
    "- ARPU \n",
    "- ARPAU \n",
    "- CR в покупку \n",
    "- СR активного пользователя в покупку \n",
    "- CR пользователя из активности по математике (subject = ’math’) в покупку курса по математике\n",
    "- ARPU считается относительно всех пользователей, попавших в группы.\n"
   ]
  },
  {
   "cell_type": "code",
   "execution_count": 90,
   "id": "6e1e0999",
   "metadata": {},
   "outputs": [],
   "source": [
    "sql = '''\n",
    "select count(st_id) as ids, uniqExact( st_id) as id_unic, ids == id_unic as is_equal\n",
    "from studs\n",
    "'''"
   ]
  },
  {
   "cell_type": "code",
   "execution_count": 91,
   "id": "9f4c17bc",
   "metadata": {},
   "outputs": [
    {
     "data": {
      "text/html": [
       "<div>\n",
       "<style scoped>\n",
       "    .dataframe tbody tr th:only-of-type {\n",
       "        vertical-align: middle;\n",
       "    }\n",
       "\n",
       "    .dataframe tbody tr th {\n",
       "        vertical-align: top;\n",
       "    }\n",
       "\n",
       "    .dataframe thead th {\n",
       "        text-align: right;\n",
       "    }\n",
       "</style>\n",
       "<table border=\"1\" class=\"dataframe\">\n",
       "  <thead>\n",
       "    <tr style=\"text-align: right;\">\n",
       "      <th></th>\n",
       "      <th>ids</th>\n",
       "      <th>id_unic</th>\n",
       "      <th>is_equal</th>\n",
       "    </tr>\n",
       "  </thead>\n",
       "  <tbody>\n",
       "    <tr>\n",
       "      <th>0</th>\n",
       "      <td>600</td>\n",
       "      <td>600</td>\n",
       "      <td>1</td>\n",
       "    </tr>\n",
       "  </tbody>\n",
       "</table>\n",
       "</div>"
      ],
      "text/plain": [
       "   ids  id_unic  is_equal\n",
       "0  600      600         1"
      ]
     },
     "execution_count": 91,
     "metadata": {},
     "output_type": "execute_result"
    }
   ],
   "source": [
    "select(sql)"
   ]
  },
  {
   "cell_type": "markdown",
   "id": "fc6740cf",
   "metadata": {},
   "source": [
    "Оказыватеся, в studs только уникальные id, в запросе это уточнять не нужно"
   ]
  },
  {
   "cell_type": "code",
   "execution_count": 92,
   "id": "6b844f35",
   "metadata": {},
   "outputs": [],
   "source": [
    "#искомый запрос \n",
    "sql = '''\n",
    "select test_grp,\n",
    "    round(sum(money_sum) / count(st_id), 2) as ARPU,\n",
    "    round(sumIf(money_sum, corr_tasks > 10) / sum(is_active), 2) as ARPAU,\n",
    "    round(sum(is_buy) / count(st_id), 4) as CR,\n",
    "    round(sum(is_act_buy) / sum(is_active), 4) as CR_act,\n",
    "    round(sum(is_math_buy) / sum(is_active_math), 4) as CR_act_math\n",
    "    \n",
    "from\n",
    "    (select st.st_id as st_id,\n",
    "        test_grp,\n",
    "        corr_tasks,\n",
    "        money_sum,\n",
    "        if(corr_tasks > 10 , 1, 0) as is_active,\n",
    "        if(money_sum > 0, 1, 0) as is_buy,\n",
    "        if(corr_tasks > 10 and money_sum > 0, 1, 0) as is_act_buy,\n",
    "        if(corr_tasks_math >= 2, 1, 0) as is_active_math,\n",
    "        if(corr_tasks_math >= 2 and money_sum_math > 0, 1, 0) as is_math_buy\n",
    "        \n",
    "    from studs st\n",
    "    left join \n",
    "        (select st_id, \n",
    "                sum(correct) as corr_tasks,\n",
    "                sumIf(correct, subject=='Math') as corr_tasks_math\n",
    "            from peas \n",
    "            group by st_id\n",
    "        ) p on p.st_id = st.st_id\n",
    "    left join \n",
    "        (select st_id, \n",
    "            sum(money) as money_sum,\n",
    "            sumIf(money, subject == 'Math') as money_sum_math\n",
    "        from \n",
    "            final_project_check\n",
    "         group by  st_id\n",
    "        ) c on st.st_id = c.st_id\n",
    "    \n",
    "    group by st_id,\n",
    "                test_grp, \n",
    "                corr_tasks, \n",
    "                money_sum, \n",
    "                money_sum_math, \n",
    "                corr_tasks_math)\n",
    "group by test_grp\n",
    "\n",
    "    \n",
    "    '''"
   ]
  },
  {
   "cell_type": "code",
   "execution_count": 93,
   "id": "ddb2b5bf",
   "metadata": {},
   "outputs": [
    {
     "data": {
      "text/html": [
       "<div>\n",
       "<style scoped>\n",
       "    .dataframe tbody tr th:only-of-type {\n",
       "        vertical-align: middle;\n",
       "    }\n",
       "\n",
       "    .dataframe tbody tr th {\n",
       "        vertical-align: top;\n",
       "    }\n",
       "\n",
       "    .dataframe thead th {\n",
       "        text-align: right;\n",
       "    }\n",
       "</style>\n",
       "<table border=\"1\" class=\"dataframe\">\n",
       "  <thead>\n",
       "    <tr style=\"text-align: right;\">\n",
       "      <th></th>\n",
       "      <th>test_grp</th>\n",
       "      <th>ARPU</th>\n",
       "      <th>ARPAU</th>\n",
       "      <th>CR</th>\n",
       "      <th>CR_act</th>\n",
       "      <th>CR_act_math</th>\n",
       "    </tr>\n",
       "  </thead>\n",
       "  <tbody>\n",
       "    <tr>\n",
       "      <th>0</th>\n",
       "      <td>control</td>\n",
       "      <td>4540.98</td>\n",
       "      <td>10393.70</td>\n",
       "      <td>0.0492</td>\n",
       "      <td>0.1102</td>\n",
       "      <td>0.0612</td>\n",
       "    </tr>\n",
       "    <tr>\n",
       "      <th>1</th>\n",
       "      <td>pilot</td>\n",
       "      <td>11508.47</td>\n",
       "      <td>29739.58</td>\n",
       "      <td>0.1085</td>\n",
       "      <td>0.2604</td>\n",
       "      <td>0.0952</td>\n",
       "    </tr>\n",
       "  </tbody>\n",
       "</table>\n",
       "</div>"
      ],
      "text/plain": [
       "  test_grp      ARPU     ARPAU      CR  CR_act  CR_act_math\n",
       "0  control   4540.98  10393.70  0.0492  0.1102       0.0612\n",
       "1    pilot  11508.47  29739.58  0.1085  0.2604       0.0952"
      ]
     },
     "execution_count": 93,
     "metadata": {},
     "output_type": "execute_result"
    }
   ],
   "source": [
    "select(sql)"
   ]
  },
  {
   "cell_type": "code",
   "execution_count": 94,
   "id": "1a441721",
   "metadata": {},
   "outputs": [],
   "source": [
    "#искомый запрос с визуализацией\n",
    "sql = '''\n",
    "select test_grp,\n",
    "    round(sum(money_sum) / count(st_id), 2) as ARPU,\n",
    "    bar(ARPU, 0, 13000, 5) AS ARPU_bar,\n",
    "    round(sumIf(money_sum, corr_tasks > 10) / sum(is_active), 2) as ARPAU,\n",
    "    bar(ARPAU, 0, 30000, 5) AS ARPAU_bar,\n",
    "    round(sum(is_buy) / count(st_id), 4) as CR,\n",
    "    bar(CR, 0, 0.13, 5) AS CR_bar,\n",
    "    round(sum(is_act_buy) / sum(is_active), 4) as CR_act,\n",
    "    bar(CR_act, 0, 0.3, 5) AS CR_act_bar,\n",
    "    round(sum(is_math_buy) / sum(is_active_math), 4) as CR_act_math,\n",
    "    bar(CR_act_math, 0, 0.1, 5) AS CR_act_math_bar\n",
    "    \n",
    "from\n",
    " \n",
    "    (select st.st_id as st_id,\n",
    "        test_grp,\n",
    "        corr_tasks,\n",
    "        money_sum,\n",
    "        if(corr_tasks > 10 , 1, 0) as is_active,\n",
    "        if(money_sum > 0, 1, 0) as is_buy,\n",
    "        if(corr_tasks > 10 and money_sum > 0, 1, 0) as is_act_buy,\n",
    "        if(corr_tasks_math >= 2, 1, 0) as is_active_math,\n",
    "        if(corr_tasks_math >= 2 and money_sum_math > 0, 1, 0) as is_math_buy\n",
    "        \n",
    "    from studs st\n",
    "    left join \n",
    "        (select st_id, \n",
    "                sum(correct) as corr_tasks,\n",
    "                sumIf(correct, subject=='Math') as corr_tasks_math\n",
    "            FROM peas \n",
    "            GROUP BY st_id\n",
    "        ) p on p.st_id = st.st_id\n",
    "    left join \n",
    "        (select st_id, \n",
    "            sum(money) as money_sum,\n",
    "            sumIf(money, subject == 'Math') as money_sum_math\n",
    "        from \n",
    "            final_project_check\n",
    "         group by  st_id\n",
    "        ) c on st.st_id = c.st_id\n",
    "    \n",
    "    group by st.st_id,\n",
    "        test_grp, corr_tasks, money_sum, money_sum_math, corr_tasks_math)\n",
    "group by test_grp\n",
    "\n",
    "    \n",
    "    '''"
   ]
  },
  {
   "cell_type": "code",
   "execution_count": 95,
   "id": "903bc217",
   "metadata": {},
   "outputs": [
    {
     "data": {
      "text/html": [
       "<div>\n",
       "<style scoped>\n",
       "    .dataframe tbody tr th:only-of-type {\n",
       "        vertical-align: middle;\n",
       "    }\n",
       "\n",
       "    .dataframe tbody tr th {\n",
       "        vertical-align: top;\n",
       "    }\n",
       "\n",
       "    .dataframe thead th {\n",
       "        text-align: right;\n",
       "    }\n",
       "</style>\n",
       "<table border=\"1\" class=\"dataframe\">\n",
       "  <thead>\n",
       "    <tr style=\"text-align: right;\">\n",
       "      <th></th>\n",
       "      <th>test_grp</th>\n",
       "      <th>ARPU</th>\n",
       "      <th>ARPU_bar</th>\n",
       "      <th>ARPAU</th>\n",
       "      <th>ARPAU_bar</th>\n",
       "      <th>CR</th>\n",
       "      <th>CR_bar</th>\n",
       "      <th>CR_act</th>\n",
       "      <th>CR_act_bar</th>\n",
       "      <th>CR_act_math</th>\n",
       "      <th>CR_act_math_bar</th>\n",
       "    </tr>\n",
       "  </thead>\n",
       "  <tbody>\n",
       "    <tr>\n",
       "      <th>0</th>\n",
       "      <td>control</td>\n",
       "      <td>4540.98</td>\n",
       "      <td>█▋</td>\n",
       "      <td>10393.70</td>\n",
       "      <td>█▋</td>\n",
       "      <td>0.0492</td>\n",
       "      <td>█▊</td>\n",
       "      <td>0.1102</td>\n",
       "      <td>█▋</td>\n",
       "      <td>0.0612</td>\n",
       "      <td>███</td>\n",
       "    </tr>\n",
       "    <tr>\n",
       "      <th>1</th>\n",
       "      <td>pilot</td>\n",
       "      <td>11508.47</td>\n",
       "      <td>████▍</td>\n",
       "      <td>29739.58</td>\n",
       "      <td>████▊</td>\n",
       "      <td>0.1085</td>\n",
       "      <td>████▏</td>\n",
       "      <td>0.2604</td>\n",
       "      <td>████▎</td>\n",
       "      <td>0.0952</td>\n",
       "      <td>████▋</td>\n",
       "    </tr>\n",
       "  </tbody>\n",
       "</table>\n",
       "</div>"
      ],
      "text/plain": [
       "  test_grp      ARPU ARPU_bar     ARPAU ARPAU_bar      CR CR_bar  CR_act  \\\n",
       "0  control   4540.98       █▋  10393.70        █▋  0.0492     █▊  0.1102   \n",
       "1    pilot  11508.47    ████▍  29739.58     ████▊  0.1085  ████▏  0.2604   \n",
       "\n",
       "  CR_act_bar  CR_act_math CR_act_math_bar  \n",
       "0         █▋       0.0612             ███  \n",
       "1      ████▎       0.0952           ████▋  "
      ]
     },
     "execution_count": 95,
     "metadata": {},
     "output_type": "execute_result"
    }
   ],
   "source": [
    "#в табиксе выглядит симпатичнее\n",
    "select(sql)"
   ]
  },
  {
   "cell_type": "markdown",
   "id": "2e0dd645",
   "metadata": {},
   "source": [
    "## Python. Функции\n",
    "\n",
    "Реализуйте функцию, которая будет автоматически подгружать информацию из дополнительного файла groups_add.csv (заголовки могут отличаться) и на основании дополнительных параметров пересчитывать метрики.\n",
    "Реализуйте функцию, которая будет строить графики по получаемым метрикам."
   ]
  },
  {
   "cell_type": "markdown",
   "id": "3a7a0c04",
   "metadata": {},
   "source": [
    "### Добавление новых данных и построение таблицы с метриками\n",
    "При реализации функции мы считаем, что у нас уже есть таблицы в следующем виде:"
   ]
  },
  {
   "cell_type": "code",
   "execution_count": 96,
   "id": "4f724cd4",
   "metadata": {},
   "outputs": [
    {
     "data": {
      "text/html": [
       "<div>\n",
       "<style scoped>\n",
       "    .dataframe tbody tr th:only-of-type {\n",
       "        vertical-align: middle;\n",
       "    }\n",
       "\n",
       "    .dataframe tbody tr th {\n",
       "        vertical-align: top;\n",
       "    }\n",
       "\n",
       "    .dataframe thead th {\n",
       "        text-align: right;\n",
       "    }\n",
       "</style>\n",
       "<table border=\"1\" class=\"dataframe\">\n",
       "  <thead>\n",
       "    <tr style=\"text-align: right;\">\n",
       "      <th></th>\n",
       "      <th>id</th>\n",
       "      <th>grp</th>\n",
       "    </tr>\n",
       "  </thead>\n",
       "  <tbody>\n",
       "    <tr>\n",
       "      <th>0</th>\n",
       "      <td>1489</td>\n",
       "      <td>B</td>\n",
       "    </tr>\n",
       "    <tr>\n",
       "      <th>1</th>\n",
       "      <td>1627</td>\n",
       "      <td>A</td>\n",
       "    </tr>\n",
       "    <tr>\n",
       "      <th>2</th>\n",
       "      <td>1768</td>\n",
       "      <td>B</td>\n",
       "    </tr>\n",
       "    <tr>\n",
       "      <th>3</th>\n",
       "      <td>1783</td>\n",
       "      <td>B</td>\n",
       "    </tr>\n",
       "    <tr>\n",
       "      <th>4</th>\n",
       "      <td>1794</td>\n",
       "      <td>A</td>\n",
       "    </tr>\n",
       "  </tbody>\n",
       "</table>\n",
       "</div>"
      ],
      "text/plain": [
       "     id grp\n",
       "0  1489   B\n",
       "1  1627   A\n",
       "2  1768   B\n",
       "3  1783   B\n",
       "4  1794   A"
      ]
     },
     "execution_count": 96,
     "metadata": {},
     "output_type": "execute_result"
    }
   ],
   "source": [
    "groups.head()"
   ]
  },
  {
   "cell_type": "code",
   "execution_count": 97,
   "id": "921a9a4c",
   "metadata": {},
   "outputs": [
    {
     "data": {
      "text/html": [
       "<div>\n",
       "<style scoped>\n",
       "    .dataframe tbody tr th:only-of-type {\n",
       "        vertical-align: middle;\n",
       "    }\n",
       "\n",
       "    .dataframe tbody tr th {\n",
       "        vertical-align: top;\n",
       "    }\n",
       "\n",
       "    .dataframe thead th {\n",
       "        text-align: right;\n",
       "    }\n",
       "</style>\n",
       "<table border=\"1\" class=\"dataframe\">\n",
       "  <thead>\n",
       "    <tr style=\"text-align: right;\">\n",
       "      <th></th>\n",
       "      <th>id</th>\n",
       "      <th>rev</th>\n",
       "      <th>is_paying</th>\n",
       "    </tr>\n",
       "  </thead>\n",
       "  <tbody>\n",
       "    <tr>\n",
       "      <th>0</th>\n",
       "      <td>1627</td>\n",
       "      <td>990.0</td>\n",
       "      <td>1</td>\n",
       "    </tr>\n",
       "    <tr>\n",
       "      <th>1</th>\n",
       "      <td>3185</td>\n",
       "      <td>690.0</td>\n",
       "      <td>1</td>\n",
       "    </tr>\n",
       "    <tr>\n",
       "      <th>2</th>\n",
       "      <td>25973</td>\n",
       "      <td>690.0</td>\n",
       "      <td>1</td>\n",
       "    </tr>\n",
       "    <tr>\n",
       "      <th>3</th>\n",
       "      <td>26280</td>\n",
       "      <td>690.0</td>\n",
       "      <td>1</td>\n",
       "    </tr>\n",
       "    <tr>\n",
       "      <th>4</th>\n",
       "      <td>100300</td>\n",
       "      <td>990.0</td>\n",
       "      <td>1</td>\n",
       "    </tr>\n",
       "  </tbody>\n",
       "</table>\n",
       "</div>"
      ],
      "text/plain": [
       "       id    rev  is_paying\n",
       "0    1627  990.0          1\n",
       "1    3185  690.0          1\n",
       "2   25973  690.0          1\n",
       "3   26280  690.0          1\n",
       "4  100300  990.0          1"
      ]
     },
     "execution_count": 97,
     "metadata": {},
     "output_type": "execute_result"
    }
   ],
   "source": [
    "checks.head()"
   ]
  },
  {
   "cell_type": "code",
   "execution_count": 98,
   "id": "31c38e97",
   "metadata": {
    "scrolled": true
   },
   "outputs": [
    {
     "data": {
      "text/html": [
       "<div>\n",
       "<style scoped>\n",
       "    .dataframe tbody tr th:only-of-type {\n",
       "        vertical-align: middle;\n",
       "    }\n",
       "\n",
       "    .dataframe tbody tr th {\n",
       "        vertical-align: top;\n",
       "    }\n",
       "\n",
       "    .dataframe thead th {\n",
       "        text-align: right;\n",
       "    }\n",
       "</style>\n",
       "<table border=\"1\" class=\"dataframe\">\n",
       "  <thead>\n",
       "    <tr style=\"text-align: right;\">\n",
       "      <th></th>\n",
       "      <th>id</th>\n",
       "      <th>is_active</th>\n",
       "    </tr>\n",
       "  </thead>\n",
       "  <tbody>\n",
       "    <tr>\n",
       "      <th>0</th>\n",
       "      <td>581585</td>\n",
       "      <td>1</td>\n",
       "    </tr>\n",
       "    <tr>\n",
       "      <th>1</th>\n",
       "      <td>5723133</td>\n",
       "      <td>1</td>\n",
       "    </tr>\n",
       "    <tr>\n",
       "      <th>2</th>\n",
       "      <td>3276743</td>\n",
       "      <td>1</td>\n",
       "    </tr>\n",
       "    <tr>\n",
       "      <th>3</th>\n",
       "      <td>4238589</td>\n",
       "      <td>1</td>\n",
       "    </tr>\n",
       "    <tr>\n",
       "      <th>4</th>\n",
       "      <td>4475369</td>\n",
       "      <td>1</td>\n",
       "    </tr>\n",
       "  </tbody>\n",
       "</table>\n",
       "</div>"
      ],
      "text/plain": [
       "        id  is_active\n",
       "0   581585          1\n",
       "1  5723133          1\n",
       "2  3276743          1\n",
       "3  4238589          1\n",
       "4  4475369          1"
      ]
     },
     "execution_count": 98,
     "metadata": {},
     "output_type": "execute_result"
    }
   ],
   "source": [
    "active_studs.head()"
   ]
  },
  {
   "cell_type": "markdown",
   "id": "c81ee3f3",
   "metadata": {},
   "source": [
    "Предполагаю, что будет удобнее, если мы сделаем 2 функции - \n",
    "1. добавляющую id эксперимента в базу \n",
    "2. показывающую таблицу с метриками.   \n",
    "(и 3. строящую график)\n",
    "\n",
    "Нет никаких сложностей собрать их в одну, но мне кажется, логично написать две: тогда мы сможем более гибко обновлять файлы и сравнивать метрики разных пользователей. Предполагается, что алгоритм будет таким: есть базовые данные -> строим табличку и график -> пришла добавка -> добавили к основной таблице -> строим табличку и график на обновленных данных -> пришла добавка -> добавили к основной таблице -> и т.д.\n",
    "\n",
    "Также в условии задачи не сказано, что таблица с чеками и таблица активных юзеров обновляются, предполагаем, что нет."
   ]
  },
  {
   "cell_type": "code",
   "execution_count": 99,
   "id": "0232fef7",
   "metadata": {},
   "outputs": [],
   "source": [
    "def add_group_to_base_df(path, base_group=groups):\n",
    "    \"\"\"Добавляем дополнительные данные в таблицу принадлежности к группам эксперимента.\n",
    "\n",
    "    Файл должен содержать только уникальные id.\n",
    "    \"\"\"\n",
    "    added_group = pd.read_csv(path,  names=['id', 'grp'], header=0)\n",
    "    if len(added_group) == added_group.id.nunique(): #проверка на уникальные id\n",
    "        #добавляем только id, которых нет в исходном файле\n",
    "        new_groups = pd.concat([base_group, \n",
    "                                added_group[~added_group.id\n",
    "                                            .isin(base_group.id.to_list())]])\n",
    "        if len(new_groups) > len(base_group):\n",
    "            return new_groups\n",
    "        else:\n",
    "            print('UpdateError! There\\'s no new users in new data')\n",
    "        \n",
    "    else:\n",
    "        print('DataError! Ids are not unique')"
   ]
  },
  {
   "cell_type": "code",
   "execution_count": 100,
   "id": "f481b864",
   "metadata": {},
   "outputs": [],
   "source": [
    "def show_metric_table(groups):\n",
    "    \"\"\"Выводит таблицу с ARPU, ARPPU, ARPAU, C1\"\"\"\n",
    "    #собираем все данные\n",
    "    df = groups\\\n",
    "            .merge(checks_cor, how='left', on='id')\\\n",
    "            .merge(active_studs, how='left', on='id')\\\n",
    "            .fillna(0)\n",
    "    #строим результиующую таблицу\n",
    "    df_metrics = df.groupby('grp').agg({'id':'count',\n",
    "                                    'is_active': 'sum',\n",
    "                                    'is_paying': 'sum',\n",
    "                       'rev':['sum',\n",
    "                               lambda x: round(x.sum()/len(x), 3),\n",
    "                              lambda x: round(x.sum()/sum(x>0), 3)]\n",
    "                        })\n",
    "    df_metrics.columns = ['total_users',  \n",
    "                              'active_users', \n",
    "                              'paying_users', \n",
    "                              'payment_sum',\n",
    "                              'ARPU', \n",
    "                              'ARPPU']\n",
    "    df_metrics['ARPAU'] = (df_metrics.payment_sum / df_metrics.active_users).round(3)\n",
    "    df_metrics['C1'] = (df_metrics.paying_users / df_metrics.active_users).round(4)\n",
    "        \n",
    "        \n",
    "    return df_metrics.reset_index()"
   ]
  },
  {
   "cell_type": "code",
   "execution_count": 101,
   "id": "385bc9fe",
   "metadata": {},
   "outputs": [],
   "source": [
    "#check\n",
    "path = 'group_add.csv'"
   ]
  },
  {
   "cell_type": "code",
   "execution_count": 102,
   "id": "a25c8629",
   "metadata": {},
   "outputs": [],
   "source": [
    "#добавляем данные к исходному датасету\n",
    "new_group = add_group_to_base_df(path, groups)"
   ]
  },
  {
   "cell_type": "code",
   "execution_count": 103,
   "id": "852570b9",
   "metadata": {},
   "outputs": [
    {
     "data": {
      "text/html": [
       "<div>\n",
       "<style scoped>\n",
       "    .dataframe tbody tr th:only-of-type {\n",
       "        vertical-align: middle;\n",
       "    }\n",
       "\n",
       "    .dataframe tbody tr th {\n",
       "        vertical-align: top;\n",
       "    }\n",
       "\n",
       "    .dataframe thead th {\n",
       "        text-align: right;\n",
       "    }\n",
       "</style>\n",
       "<table border=\"1\" class=\"dataframe\">\n",
       "  <thead>\n",
       "    <tr style=\"text-align: right;\">\n",
       "      <th></th>\n",
       "      <th>grp</th>\n",
       "      <th>total_users</th>\n",
       "      <th>active_users</th>\n",
       "      <th>paying_users</th>\n",
       "      <th>payment_sum</th>\n",
       "      <th>ARPU</th>\n",
       "      <th>ARPPU</th>\n",
       "      <th>ARPAU</th>\n",
       "      <th>C1</th>\n",
       "    </tr>\n",
       "  </thead>\n",
       "  <tbody>\n",
       "    <tr>\n",
       "      <th>0</th>\n",
       "      <td>A</td>\n",
       "      <td>14671</td>\n",
       "      <td>1535.0</td>\n",
       "      <td>78.0</td>\n",
       "      <td>72820.0000</td>\n",
       "      <td>4.964</td>\n",
       "      <td>933.590</td>\n",
       "      <td>47.440</td>\n",
       "      <td>0.0508</td>\n",
       "    </tr>\n",
       "    <tr>\n",
       "      <th>1</th>\n",
       "      <td>B</td>\n",
       "      <td>59813</td>\n",
       "      <td>6793.0</td>\n",
       "      <td>313.0</td>\n",
       "      <td>393074.0035</td>\n",
       "      <td>6.572</td>\n",
       "      <td>1255.827</td>\n",
       "      <td>57.865</td>\n",
       "      <td>0.0461</td>\n",
       "    </tr>\n",
       "  </tbody>\n",
       "</table>\n",
       "</div>"
      ],
      "text/plain": [
       "  grp  total_users  active_users  paying_users  payment_sum   ARPU     ARPPU  \\\n",
       "0   A        14671        1535.0          78.0   72820.0000  4.964   933.590   \n",
       "1   B        59813        6793.0         313.0  393074.0035  6.572  1255.827   \n",
       "\n",
       "    ARPAU      C1  \n",
       "0  47.440  0.0508  \n",
       "1  57.865  0.0461  "
      ]
     },
     "execution_count": 103,
     "metadata": {},
     "output_type": "execute_result"
    }
   ],
   "source": [
    "#строим таблицу метрик по исходному датасету\n",
    "show_metric_table(groups)"
   ]
  },
  {
   "cell_type": "code",
   "execution_count": 104,
   "id": "2a580d25",
   "metadata": {},
   "outputs": [
    {
     "data": {
      "text/html": [
       "<div>\n",
       "<style scoped>\n",
       "    .dataframe tbody tr th:only-of-type {\n",
       "        vertical-align: middle;\n",
       "    }\n",
       "\n",
       "    .dataframe tbody tr th {\n",
       "        vertical-align: top;\n",
       "    }\n",
       "\n",
       "    .dataframe thead th {\n",
       "        text-align: right;\n",
       "    }\n",
       "</style>\n",
       "<table border=\"1\" class=\"dataframe\">\n",
       "  <thead>\n",
       "    <tr style=\"text-align: right;\">\n",
       "      <th></th>\n",
       "      <th>grp</th>\n",
       "      <th>total_users</th>\n",
       "      <th>active_users</th>\n",
       "      <th>paying_users</th>\n",
       "      <th>payment_sum</th>\n",
       "      <th>ARPU</th>\n",
       "      <th>ARPPU</th>\n",
       "      <th>ARPAU</th>\n",
       "      <th>C1</th>\n",
       "    </tr>\n",
       "  </thead>\n",
       "  <tbody>\n",
       "    <tr>\n",
       "      <th>0</th>\n",
       "      <td>A</td>\n",
       "      <td>14693</td>\n",
       "      <td>1538.0</td>\n",
       "      <td>78.0</td>\n",
       "      <td>72820.0000</td>\n",
       "      <td>4.956</td>\n",
       "      <td>933.590</td>\n",
       "      <td>47.347</td>\n",
       "      <td>0.0507</td>\n",
       "    </tr>\n",
       "    <tr>\n",
       "      <th>1</th>\n",
       "      <td>B</td>\n",
       "      <td>59883</td>\n",
       "      <td>6803.0</td>\n",
       "      <td>314.0</td>\n",
       "      <td>394974.0035</td>\n",
       "      <td>6.596</td>\n",
       "      <td>1257.879</td>\n",
       "      <td>58.059</td>\n",
       "      <td>0.0462</td>\n",
       "    </tr>\n",
       "  </tbody>\n",
       "</table>\n",
       "</div>"
      ],
      "text/plain": [
       "  grp  total_users  active_users  paying_users  payment_sum   ARPU     ARPPU  \\\n",
       "0   A        14693        1538.0          78.0   72820.0000  4.956   933.590   \n",
       "1   B        59883        6803.0         314.0  394974.0035  6.596  1257.879   \n",
       "\n",
       "    ARPAU      C1  \n",
       "0  47.347  0.0507  \n",
       "1  58.059  0.0462  "
      ]
     },
     "execution_count": 104,
     "metadata": {},
     "output_type": "execute_result"
    }
   ],
   "source": [
    "#строим таблицу метрик по датасету с обновленными данными\n",
    "show_metric_table(new_group)"
   ]
  },
  {
   "cell_type": "code",
   "execution_count": 105,
   "id": "ecf8bd5d",
   "metadata": {},
   "outputs": [
    {
     "name": "stdout",
     "output_type": "stream",
     "text": [
      "UpdateError! There's no new users in new data\n"
     ]
    }
   ],
   "source": [
    "#т.к. функция добавляет только новые id,  второй вызов с тем же файлом вернет ошибку\n",
    "add_group_to_base_df(path, new_group)"
   ]
  },
  {
   "cell_type": "markdown",
   "id": "5ea9b437",
   "metadata": {},
   "source": [
    "### Строим графики по метрикам"
   ]
  },
  {
   "cell_type": "code",
   "execution_count": 111,
   "id": "94316d18",
   "metadata": {},
   "outputs": [],
   "source": [
    "def show_metrics_chart(df):\n",
    "    \"\"\"Строит барчарт сравнения ARPU, ARPPU, ARPAU, C1, тест и контроль\"\"\"\n",
    "    metrics = ['ARPU', 'ARPPU', 'ARPAU', 'C1']\n",
    "    fig, axes = plt.subplots(2,2, figsize=(15,10))\n",
    "    axes = axes.flatten()\n",
    "    for metric, ax in zip(metrics, axes):\n",
    "        sns.barplot(data = df,  y=metric, x='grp', ax=ax, palette='vlag')\n",
    "        ax.grid(True, color='#e2e2e2', alpha=0.5)\n",
    "        ax.set_title(f'Сравнение метрики {metric}\\n')\n",
    "        ax.set_ylabel('')\n",
    "        ax.set_xlabel('')\n",
    "        ax.set_xticks(range(len(df)))\n",
    "        ax.set_xticklabels(['Control', 'Test'])\n",
    "        plt.subplots_adjust(hspace=0.5)\n",
    "        sns.despine()\n",
    "    \n",
    "    return fig,"
   ]
  },
  {
   "cell_type": "code",
   "execution_count": 112,
   "id": "188a3e14",
   "metadata": {},
   "outputs": [],
   "source": [
    "new_metrics = show_metric_table(new_group)"
   ]
  },
  {
   "cell_type": "code",
   "execution_count": 113,
   "id": "2693505e",
   "metadata": {
    "scrolled": false
   },
   "outputs": [
    {
     "data": {
      "image/png": "[encoded data removed]",
      "text/plain": [
       "<Figure size 1080x720 with 4 Axes>"
      ]
     },
     "metadata": {},
     "output_type": "display_data"
    }
   ],
   "source": [
    "show_metrics_chart(new_metrics);"
   ]
  },
  {
   "cell_type": "code",
   "execution_count": null,
   "id": "90d49b21",
   "metadata": {},
   "outputs": [],
   "source": []
  }
 ],
 "metadata": {
  "kernelspec": {
   "display_name": "Python 3 (ipykernel)",
   "language": "python",
   "name": "python3"
  },
  "language_info": {
   "codemirror_mode": {
    "name": "ipython",
    "version": 3
   },
   "file_extension": ".py",
   "mimetype": "text/x-python",
   "name": "python",
   "nbconvert_exporter": "python",
   "pygments_lexer": "ipython3",
   "version": "3.9.7"
  },
  "toc": {
   "base_numbering": 1,
   "nav_menu": {},
   "number_sections": true,
   "sideBar": true,
   "skip_h1_title": true,
   "title_cell": "Table of Contents",
   "title_sidebar": "Contents",
   "toc_cell": false,
   "toc_position": {
    "height": "calc(100% - 180px)",
    "left": "10px",
    "top": "150px",
    "width": "256px"
   },
   "toc_section_display": true,
   "toc_window_display": true
  }
 },
 "nbformat": 4,
 "nbformat_minor": 5
}
